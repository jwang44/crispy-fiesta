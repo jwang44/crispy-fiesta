{
  "nbformat": 4,
  "nbformat_minor": 0,
  "metadata": {
    "colab": {
      "name": "Bernoulli NB from scratch.ipynb",
      "provenance": [],
      "include_colab_link": true
    },
    "kernelspec": {
      "name": "python3",
      "display_name": "Python 3"
    }
  },
  "cells": [
    {
      "cell_type": "markdown",
      "metadata": {
        "id": "view-in-github",
        "colab_type": "text"
      },
      "source": [
        "<a href=\"https://colab.research.google.com/github/jwang44/crispy-fiesta/blob/main/submit/Bernoulli_NB_from_scratch.ipynb\" target=\"_parent\"><img src=\"https://colab.research.google.com/assets/colab-badge.svg\" alt=\"Open In Colab\"/></a>"
      ]
    },
    {
      "cell_type": "code",
      "metadata": {
        "colab": {
          "base_uri": "https://localhost:8080/"
        },
        "id": "GhYkxNMosYcz",
        "outputId": "e2ffbfdd-22d9-45ba-9f5d-9b4372795c46"
      },
      "source": [
        "from google.colab import drive\r\n",
        "drive.mount('/content/drive')\r\n",
        "%cd /content/drive/MyDrive/"
      ],
      "execution_count": null,
      "outputs": [
        {
          "output_type": "stream",
          "text": [
            "Mounted at /content/drive\n",
            "/content/drive/MyDrive\n"
          ],
          "name": "stdout"
        }
      ]
    },
    {
      "cell_type": "markdown",
      "metadata": {
        "id": "g3YXcam7SI-H"
      },
      "source": [
        "## Load the data and get basic features"
      ]
    },
    {
      "cell_type": "code",
      "metadata": {
        "id": "pVrTh5Fdsqcg"
      },
      "source": [
        "import pandas as pd\r\n",
        "import numpy as np"
      ],
      "execution_count": null,
      "outputs": []
    },
    {
      "cell_type": "code",
      "metadata": {
        "id": "3OMqYMZNsq_-"
      },
      "source": [
        "train = pd.read_csv('./train.csv',engine='python')\r\n",
        "test = pd.read_csv('./test.csv',engine='python')"
      ],
      "execution_count": null,
      "outputs": []
    },
    {
      "cell_type": "code",
      "metadata": {
        "id": "jjdGixmNss4K"
      },
      "source": [
        "X_train = train.body  # train texts\r\n",
        "y_train = train.subreddit # train subreddits\r\n",
        "X_test = test.body  # test texts"
      ],
      "execution_count": null,
      "outputs": []
    },
    {
      "cell_type": "code",
      "metadata": {
        "id": "95NKm9YPtJ_d"
      },
      "source": [
        "from sklearn.preprocessing import Normalizer, LabelEncoder\r\n",
        "from sklearn.feature_extraction import text\r\n",
        "from sklearn.feature_extraction.text import CountVectorizer, TfidfVectorizer, TfidfTransformer"
      ],
      "execution_count": null,
      "outputs": []
    },
    {
      "cell_type": "code",
      "metadata": {
        "colab": {
          "base_uri": "https://localhost:8080/"
        },
        "id": "1XFoTwA_s2B-",
        "outputId": "3011790e-1aa3-4b5c-ee1f-736e2d1f7625"
      },
      "source": [
        "# transform target labels to values\r\n",
        "le = LabelEncoder()\r\n",
        "y_train_num = le.fit_transform(y_train.values) # convert category from string to numerical (!!!!! update the variables in kcross fold)\r\n",
        "\r\n",
        "# vectorize word count\r\n",
        "vectorizer = CountVectorizer(binary=True)\r\n",
        "vectors_train = vectorizer.fit_transform(X_train)\r\n",
        "vectors_test = vectorizer.transform(X_test)\r\n",
        "\r\n",
        "# print(vectorizer.get_feature_names())\r\n",
        "print(vectors_train.shape)\r\n",
        "print(vectors_test.shape)"
      ],
      "execution_count": null,
      "outputs": [
        {
          "output_type": "stream",
          "text": [
            "(1999, 15365)\n",
            "(1378, 15365)\n"
          ],
          "name": "stdout"
        }
      ]
    },
    {
      "cell_type": "code",
      "metadata": {
        "colab": {
          "base_uri": "https://localhost:8080/"
        },
        "id": "CkJsrQzH1qAD",
        "outputId": "e43cc2dc-7250-4d6f-84f3-2fcd7db5f4d9"
      },
      "source": [
        "import nltk\r\n",
        "nltk.download('punkt')\r\n",
        "nltk.download('wordnet')\r\n",
        "nltk.download('averaged_perceptron_tagger')\r\n",
        "from nltk.stem import PorterStemmer, WordNetLemmatizer\r\n",
        "from nltk import word_tokenize\r\n",
        "from nltk.corpus import wordnet"
      ],
      "execution_count": null,
      "outputs": [
        {
          "output_type": "stream",
          "text": [
            "[nltk_data] Downloading package punkt to /root/nltk_data...\n",
            "[nltk_data]   Unzipping tokenizers/punkt.zip.\n",
            "[nltk_data] Downloading package wordnet to /root/nltk_data...\n",
            "[nltk_data]   Unzipping corpora/wordnet.zip.\n",
            "[nltk_data] Downloading package averaged_perceptron_tagger to\n",
            "[nltk_data]     /root/nltk_data...\n",
            "[nltk_data]   Unzipping taggers/averaged_perceptron_tagger.zip.\n"
          ],
          "name": "stdout"
        }
      ]
    },
    {
      "cell_type": "markdown",
      "metadata": {
        "id": "mUzTxQ4uug1h"
      },
      "source": [
        "### features: vectors_train_stop_Lemma, vectors_test_stop_Lemma"
      ]
    },
    {
      "cell_type": "code",
      "metadata": {
        "colab": {
          "base_uri": "https://localhost:8080/"
        },
        "id": "pOD25ysB1x1o",
        "outputId": "33d17306-0149-4394-c6db-97f180b8e3d9"
      },
      "source": [
        "# put it all together: remove stop words and punctuation, lemmatization\r\n",
        "stop_words = text.ENGLISH_STOP_WORDS\r\n",
        "\r\n",
        "def get_wordnet_pos(word):\r\n",
        "    \"\"\"Map POS tag to first character lemmatize() accepts\"\"\"\r\n",
        "    tag = nltk.pos_tag([word])[0][1][0].upper()\r\n",
        "    tag_dict = {\"J\": wordnet.ADJ,\r\n",
        "                \"N\": wordnet.NOUN,\r\n",
        "                \"V\": wordnet.VERB,\r\n",
        "                \"R\": wordnet.ADV}\r\n",
        "    return tag_dict.get(tag, wordnet.NOUN)\r\n",
        "\r\n",
        "class New_LemmaTokenizer:\r\n",
        "     def __init__(self):\r\n",
        "       self.wnl = WordNetLemmatizer()\r\n",
        "     def __call__(self, doc):\r\n",
        "       return [self.wnl.lemmatize(t,pos =get_wordnet_pos(t)) for t in word_tokenize(doc) if t.isalpha()]\r\n",
        "\r\n",
        "\r\n",
        "vectorizer = CountVectorizer(binary = True, stop_words = stop_words, tokenizer = New_LemmaTokenizer(), ngram_range=(1, 2)) #unigram+bigram:ngram_range=(1, 2), only bigram:ngram_range=(2, 2)\r\n",
        "vectors_train_stop_Lemma = vectorizer.fit_transform(X_train)\r\n",
        "vectors_test_stop_Lemma = vectorizer.transform(X_test)\r\n",
        "\r\n",
        "vectorizer3000 = CountVectorizer(binary = True, max_features=3000, stop_words = stop_words, tokenizer = New_LemmaTokenizer(), ngram_range=(1, 2)) #unigram+bigram:ngram_range=(1, 2), only bigram:ngram_range=(2, 2)\r\n",
        "vectors_train_stop_Lemma3000 = vectorizer.fit_transform(X_train)\r\n",
        "vectors_test_stop_Lemma3000 = vectorizer.transform(X_test)\r\n",
        "\r\n",
        "# print(vectorizer.get_feature_names())\r\n",
        "print(vectors_train_stop_Lemma.shape)\r\n",
        "print(vectors_test_stop_Lemma.shape)"
      ],
      "execution_count": null,
      "outputs": [
        {
          "output_type": "stream",
          "text": [
            "/usr/local/lib/python3.7/dist-packages/sklearn/feature_extraction/text.py:385: UserWarning: Your stop_words may be inconsistent with your preprocessing. Tokenizing the stop words generated tokens ['far', 'make', 'u'] not in stop_words.\n",
            "  'stop_words.' % sorted(inconsistent))\n"
          ],
          "name": "stderr"
        },
        {
          "output_type": "stream",
          "text": [
            "(1999, 70414)\n",
            "(1378, 70414)\n"
          ],
          "name": "stdout"
        }
      ]
    },
    {
      "cell_type": "markdown",
      "metadata": {
        "id": "el5YMQgAuqiX"
      },
      "source": [
        "### features: vectors_train_stop_stem, vectors_test_stop_stem"
      ]
    },
    {
      "cell_type": "code",
      "metadata": {
        "id": "5oBLHbwe13Uw",
        "colab": {
          "base_uri": "https://localhost:8080/"
        },
        "outputId": "25d25972-32b3-42f1-c509-b25c0e644070"
      },
      "source": [
        "# remove stopwords and punctuation, stemming, \r\n",
        "stop_words = text.ENGLISH_STOP_WORDS\r\n",
        "\r\n",
        "class StemTokenizer:\r\n",
        "     def __init__(self):\r\n",
        "       self.wnl =PorterStemmer()\r\n",
        "     def __call__(self, doc):\r\n",
        "       return [self.wnl.stem(t) for t in word_tokenize(doc) if t.isalpha()]\r\n",
        "\r\n",
        "vectorizer = CountVectorizer(binary = True, stop_words = stop_words, tokenizer=StemTokenizer())#, ngram_range=(1, 2)) #unigram+bigram:ngram_range=(1, 2), only bigram:ngram_range=(2, 2)\r\n",
        "vectors_train_stop_stem = vectorizer.fit_transform(X_train)\r\n",
        "vectors_test_stop_stem = vectorizer.transform(X_test)\r\n",
        "\r\n",
        "vectorizer3000 = CountVectorizer(binary = True, max_features=3000, stop_words = stop_words, tokenizer=StemTokenizer())#, ngram_range=(1, 2)) #unigram+bigram:ngram_range=(1, 2), only bigram:ngram_range=(2, 2)\r\n",
        "vectors_train_stop_stem3000 = vectorizer.fit_transform(X_train)\r\n",
        "vectors_test_stop_stem3000 = vectorizer.transform(X_test)\r\n",
        "\r\n",
        "print(vectors_train_stop_stem.shape)\r\n",
        "print(vectors_test_stop_stem.shape)"
      ],
      "execution_count": null,
      "outputs": [
        {
          "output_type": "stream",
          "text": [
            "/usr/local/lib/python3.7/dist-packages/sklearn/feature_extraction/text.py:385: UserWarning: Your stop_words may be inconsistent with your preprocessing. Tokenizing the stop words generated tokens ['abov', 'afterward', 'alon', 'alreadi', 'alway', 'ani', 'anoth', 'anyon', 'anyth', 'anywher', 'becam', 'becaus', 'becom', 'befor', 'besid', 'cri', 'describ', 'dure', 'els', 'elsewher', 'empti', 'everi', 'everyon', 'everyth', 'everywher', 'fifti', 'formerli', 'forti', 'ha', 'henc', 'hereaft', 'herebi', 'hi', 'howev', 'hundr', 'inde', 'latterli', 'mani', 'meanwhil', 'moreov', 'mostli', 'nobodi', 'noon', 'noth', 'nowher', 'onc', 'onli', 'otherwis', 'ourselv', 'perhap', 'pleas', 'seriou', 'sever', 'sinc', 'sincer', 'sixti', 'someon', 'someth', 'sometim', 'somewher', 'themselv', 'thenc', 'thereaft', 'therebi', 'therefor', 'thi', 'thu', 'togeth', 'twelv', 'twenti', 'veri', 'wa', 'whatev', 'whenc', 'whenev', 'wherea', 'whereaft', 'wherebi', 'wherev', 'whi', 'yourselv'] not in stop_words.\n",
            "  'stop_words.' % sorted(inconsistent))\n"
          ],
          "name": "stderr"
        },
        {
          "output_type": "stream",
          "text": [
            "(1999, 8522)\n",
            "(1378, 8522)\n"
          ],
          "name": "stdout"
        }
      ]
    },
    {
      "cell_type": "markdown",
      "metadata": {
        "id": "FcDWLcpSSQUX"
      },
      "source": [
        "## Feature selection"
      ]
    },
    {
      "cell_type": "code",
      "metadata": {
        "id": "DfzvYQTytAXZ"
      },
      "source": [
        "from sklearn.feature_selection import SelectKBest, chi2, VarianceThreshold, f_classif, mutual_info_classif, RFE, SelectFromModel"
      ],
      "execution_count": null,
      "outputs": []
    },
    {
      "cell_type": "markdown",
      "metadata": {
        "id": "-aigDmX5vOJA"
      },
      "source": [
        "### chi2: vectors_train_Lemma_X2, vectors_test_Lemma_X2; vectors_train_stem_X2, vectors_test_stem_X2"
      ]
    },
    {
      "cell_type": "code",
      "metadata": {
        "colab": {
          "base_uri": "https://localhost:8080/"
        },
        "id": "jA2BenS0vP2c",
        "outputId": "235e409d-3d25-4b15-e615-1b0969d5ae68"
      },
      "source": [
        "select = SelectKBest(chi2, k=3000)\r\n",
        "vectors_train_Lemma_X2 = select.fit_transform(vectors_train_stop_Lemma, y_train_num)\r\n",
        "vectors_test_Lemma_X2 = select.transform(vectors_test_stop_Lemma)\r\n",
        "print(vectors_train_Lemma_X2.shape)\r\n",
        "print(vectors_test_Lemma_X2.shape)"
      ],
      "execution_count": null,
      "outputs": [
        {
          "output_type": "stream",
          "text": [
            "(1999, 3000)\n",
            "(1378, 3000)\n"
          ],
          "name": "stdout"
        }
      ]
    },
    {
      "cell_type": "code",
      "metadata": {
        "colab": {
          "base_uri": "https://localhost:8080/"
        },
        "id": "fofG4Jh43IPk",
        "outputId": "d993f455-41ac-4f09-e92f-b1ef315f2d3f"
      },
      "source": [
        "select = SelectKBest(chi2, k=3000)\r\n",
        "vectors_train_stem_X2 = select.fit_transform(vectors_train_stop_stem, y_train_num)\r\n",
        "vectors_test_stem_X2 = select.transform(vectors_test_stop_stem)\r\n",
        "print(vectors_train_stem_X2.shape)"
      ],
      "execution_count": null,
      "outputs": [
        {
          "output_type": "stream",
          "text": [
            "(1999, 3000)\n"
          ],
          "name": "stdout"
        }
      ]
    },
    {
      "cell_type": "code",
      "metadata": {
        "id": "7NzGFdsHnrYF"
      },
      "source": [
        ""
      ],
      "execution_count": null,
      "outputs": []
    },
    {
      "cell_type": "markdown",
      "metadata": {
        "id": "8wfWxVDLwIgJ"
      },
      "source": [
        "### mutual info: vectors_train_Lemma_mutual vectors_test_Lemma_mutual; vectors_train_stem_mutual, vectors_test_stem_mutual"
      ]
    },
    {
      "cell_type": "code",
      "metadata": {
        "colab": {
          "base_uri": "https://localhost:8080/"
        },
        "id": "D5hcm_khwIIc",
        "outputId": "ae2825dc-ab1a-4f03-d9e6-0c4361117fad"
      },
      "source": [
        "select = SelectKBest(mutual_info_classif, k=3000)\r\n",
        "vectors_train_Lemma_mutual = select.fit_transform(vectors_train_stop_Lemma, y_train_num)\r\n",
        "vectors_test_Lemma_mutual = select.transform(vectors_test_stop_Lemma)\r\n",
        "print(vectors_train_Lemma_mutual.shape)"
      ],
      "execution_count": null,
      "outputs": [
        {
          "output_type": "stream",
          "text": [
            "(1999, 3000)\n"
          ],
          "name": "stdout"
        }
      ]
    },
    {
      "cell_type": "code",
      "metadata": {
        "colab": {
          "base_uri": "https://localhost:8080/"
        },
        "id": "s7gyVxTQ3qxU",
        "outputId": "bc73197d-76cc-45eb-e8ed-192e7f92c06f"
      },
      "source": [
        "select = SelectKBest(mutual_info_classif, k=3000)\r\n",
        "vectors_train_stem_mutual = select.fit_transform(vectors_train_stop_stem, y_train_num)\r\n",
        "vectors_test_stem_mutual = select.transform(vectors_test_stop_stem)\r\n",
        "print(vectors_train_stem_mutual.shape)"
      ],
      "execution_count": null,
      "outputs": [
        {
          "output_type": "stream",
          "text": [
            "(1999, 3000)\n"
          ],
          "name": "stdout"
        }
      ]
    },
    {
      "cell_type": "markdown",
      "metadata": {
        "id": "MiZEnhPZ0HnK"
      },
      "source": [
        "### F-value: vectors_train_Lemma_F, vectors_test_Lemma_F; vectors_train_stem_F, vectors_test_stem_F"
      ]
    },
    {
      "cell_type": "code",
      "metadata": {
        "colab": {
          "base_uri": "https://localhost:8080/"
        },
        "id": "K159Gmtz0Aww",
        "outputId": "e9ea3bc6-d898-487d-cf55-ec517284ce87"
      },
      "source": [
        "select = SelectKBest(f_classif, k=3000)\r\n",
        "vectors_train_Lemma_F = select.fit_transform(vectors_train_stop_Lemma, y_train_num)\r\n",
        "vectors_test_Lemma_F = select.transform(vectors_test_stop_Lemma)\r\n",
        "print(vectors_train_Lemma_F.shape)"
      ],
      "execution_count": null,
      "outputs": [
        {
          "output_type": "stream",
          "text": [
            "(1999, 3000)\n"
          ],
          "name": "stdout"
        }
      ]
    },
    {
      "cell_type": "code",
      "metadata": {
        "colab": {
          "base_uri": "https://localhost:8080/"
        },
        "id": "Iz0kpHEp4JrN",
        "outputId": "be9277c6-65bb-4047-8cbc-da0c0b6d8ef7"
      },
      "source": [
        "select = SelectKBest(f_classif, k=3000)\r\n",
        "vectors_train_stem_F = select.fit_transform(vectors_train_stop_Lemma, y_train_num)\r\n",
        "vectors_test_stem_F = select.transform(vectors_test_stop_Lemma)\r\n",
        "print(vectors_train_stem_F.shape)"
      ],
      "execution_count": null,
      "outputs": [
        {
          "output_type": "stream",
          "text": [
            "(1999, 3000)\n"
          ],
          "name": "stdout"
        }
      ]
    },
    {
      "cell_type": "markdown",
      "metadata": {
        "id": "guvT3RTzGgxk"
      },
      "source": [
        "## Bernoulli NB model"
      ]
    },
    {
      "cell_type": "code",
      "metadata": {
        "id": "NUmRiQt-oF5e"
      },
      "source": [
        "import time\n",
        "import random"
      ],
      "execution_count": null,
      "outputs": []
    },
    {
      "cell_type": "code",
      "metadata": {
        "id": "yMSndDpV918Z"
      },
      "source": [
        "class Bernoulli_NB():\r\n",
        "  def __init__(self, LaplaceSmoothing = True):\r\n",
        "    self.LaplaceSmoothing = LaplaceSmoothing\r\n",
        "    self.Prob_Y = None      # P(Y)\r\n",
        "    self.Prob_X_Y = None     # P(xj|Y)\r\n",
        "    self.Prob_X_Y = None     # P(xj|Y)\r\n",
        "    self.n_class = 0\r\n",
        "    self.w0 = None\r\n",
        "    self.w = None\r\n",
        "    self.Ytarget = None\r\n",
        "\r\n",
        "  def ProbY(self, Y):\r\n",
        "    # calculate P(Y=1) and P(Y=0)\r\n",
        "    ProbY = np.zeros((1,2))\r\n",
        "    ProbY[0,1] = np.sum(Y)/np.shape(Y)\r\n",
        "    ProbY[0,0] = 1 - ProbY[0,1]\r\n",
        "    return ProbY\r\n",
        "\r\n",
        "  def ProbX_Yi(self, X, Y, label):\r\n",
        "    # calculte P(xj=1|Yi=1)\r\n",
        "    rows,cols = X.shape       # feature shape\r\n",
        "    numerator = np.zeros((1,cols))    # initialize numerator\r\n",
        "\r\n",
        "    # xj=1 and Yi=1\r\n",
        "    for n in range(rows):\r\n",
        "      if Y[n] == label:\r\n",
        "        numerator += X[n,:]\r\n",
        "    # Yi=1\r\n",
        "    denominator = np.count_nonzero(Y == label)\r\n",
        "\r\n",
        "    # Laplace Smoothing\r\n",
        "\r\n",
        "    if(self.LaplaceSmoothing):\r\n",
        "      numerator += 1\r\n",
        "      denominator += 2\r\n",
        "\r\n",
        "    # P(xj=1|Yi=1)\r\n",
        "    prob = numerator/denominator\r\n",
        "    return prob    \r\n",
        "\r\n",
        "  def fit(self, X, Y):\r\n",
        "    #print('---------------------- start fitting ---------------------')\r\n",
        "    t1 = time.time()\r\n",
        "    \r\n",
        "    rows,cols = X.shape              # feature shape\r\n",
        "    self.n_class = len(np.unique(Y))       # number of classes\r\n",
        "    self.Prob_Y = np.zeros((self.n_class,2))   # initialize P(Y)\r\n",
        "    self.Prob_X_Y = np.zeros((self.n_class,2,cols)) # initialize P(x|Y)\r\n",
        "    c = np.zeros((self.n_class,cols))       # rows:class cols:xj\r\n",
        "    d = np.zeros((self.n_class,cols))       # rows:class cols:xj\r\n",
        "    self.w0 = np.zeros((1,self.n_class))     # [w0Y1,w0Y2,...]\r\n",
        "    self.w = np.zeros((self.n_class,cols))    # [(w1,w2,...)Y1;\r\n",
        "                            # (w1,w2,...)Y2]\r\n",
        "    for Yi in range(self.n_class):\r\n",
        "      Y_onevsall = np.where(Y == Yi, 1, 0)    # only have 2 classes: Yi(1) & notYi(0)\r\n",
        "      \r\n",
        "      self.Prob_Y[Yi,:] = self.ProbY(Y_onevsall)   # [P(notYi), P(Yi)]\r\n",
        "      self.Prob_X_Y[Yi,0,:] = self.ProbX_Yi(X,Y_onevsall,0)  # [P(x1|notYi), P(x2|notYi),...]\r\n",
        "      self.Prob_X_Y[Yi,1,:] = self.ProbX_Yi(X,Y_onevsall,1)  # [P(x1|Yi), P(x2|Yi),...]\r\n",
        "      \r\n",
        "      c[Yi,:] = np.log10(self.Prob_X_Y[Yi,1,:]/self.Prob_X_Y[Yi,0,:])     # log(P(xj|Y=1)/P(xj|Y=0))\r\n",
        "      d[Yi,:] = np.log10((1-self.Prob_X_Y[Yi,1,:])/(1-self.Prob_X_Y[Yi,0,:])) # log((1-P(xj|Y=1))/(1-P(xj|Y=0)))\r\n",
        "      self.w0[0,Yi] = np.log10(self.Prob_Y[Yi,1]/self.Prob_Y[Yi,0]) + np.sum(d[Yi,:])\r\n",
        "      self.w[Yi,:] = c[Yi,:] - d[Yi,:]\r\n",
        "\r\n",
        "    #print('------ fit done, total time: ',time.time()-t1,' -----')\r\n",
        "    # return self.Prob_Y,self.Prob_X_Y\r\n",
        "\r\n",
        "  def predict(self, X):\r\n",
        "    #print('---------------------- start predict ---------------------')\r\n",
        "    t1 = time.time()\r\n",
        "    \r\n",
        "    rows,cols = np.shape(X)       # feature shape\r\n",
        "    PreY = np.zeros(rows) # initialize Y\r\n",
        "    LogOddsRatio = np.zeros((1,self.n_class))  # initialize log odds ratio a(x) \r\n",
        "    Logistic = np.zeros((1,self.n_class))    # initialize logistic function\r\n",
        "    Y_index = 0\r\n",
        "    for obs in range(rows):\r\n",
        "      for Yi in range(self.n_class): \r\n",
        "        part2 = self.w[Yi,:].reshape(1,cols) @ np.transpose(X[obs,:])\r\n",
        "        LogOddsRatio[0,Yi] = self.w0[0,Yi] + part2.astype(np.float64)\r\n",
        "        Logistic[0,Yi] = 1/(1+np.exp(-LogOddsRatio[0,Yi]))\r\n",
        "\r\n",
        "      pre = np.where(Logistic == np.amax(Logistic))[1]    # find max logistic (type:numpy.ndarray)\r\n",
        "      # random pick one if have multiple max logistic\r\n",
        "      if pre.shape[0] > 1:\r\n",
        "        PreY[obs] = random.choice(pre)\r\n",
        "      else:\r\n",
        "        PreY[obs] = pre\r\n",
        "    #print('------ predict done, total time: ',time.time()-t1,' -----')\r\n",
        "    return PreY\r\n",
        "\r\n",
        "  def score(self,X,Y):\r\n",
        "    # Return the mean accuracy on the given test data and labels.\r\n",
        "    PreY = self.predict(X)\r\n",
        "    rows = np.shape(Y)[0]\r\n",
        "    n_correct = 0;\r\n",
        "    for obs in range(rows):\r\n",
        "      if PreY[obs] == Y[obs]:\r\n",
        "        n_correct += 1\r\n",
        "    accuracy = n_correct / rows\r\n",
        "    #print('------------------ accuracy:',accuracy,' -----------------')\r\n",
        "    return accuracy\r\n"
      ],
      "execution_count": null,
      "outputs": []
    },
    {
      "cell_type": "markdown",
      "metadata": {
        "id": "4tl5g4oPzdqB"
      },
      "source": [
        "## Experiment with Bernoulli Model"
      ]
    },
    {
      "cell_type": "code",
      "metadata": {
        "id": "qgJS0lhd0rps"
      },
      "source": [
        "from sklearn.model_selection import KFold\r\n",
        "import statistics\r\n",
        "kf = KFold(n_splits=10, shuffle=True)\r\n",
        "model = Bernoulli_NB()"
      ],
      "execution_count": null,
      "outputs": []
    },
    {
      "cell_type": "code",
      "metadata": {
        "id": "m7dPqInq08ol"
      },
      "source": [
        "def k_cross_val_score(X, y):\r\n",
        "  score = []\r\n",
        "  for train_index, test_index in kf.split(X):\r\n",
        "    kX_train, kX_test = X[train_index], X[test_index]\r\n",
        "    ky_train, ky_test = y[train_index], y[test_index]\r\n",
        "    model.fit(kX_train, ky_train)\r\n",
        "    score.append(model.score(kX_test, ky_test))\r\n",
        "    #print(\"test accu: \", model.score(X_test, y_test))\r\n",
        "  return score"
      ],
      "execution_count": null,
      "outputs": []
    },
    {
      "cell_type": "code",
      "metadata": {
        "id": "opnfCwfDzcx5",
        "colab": {
          "base_uri": "https://localhost:8080/"
        },
        "outputId": "f10c4090-b3c0-4558-ddc2-8f036ba9658d"
      },
      "source": [
        "scores = k_cross_val_score(vectors_train_Lemma_X2, y_train_num)\r\n",
        "print('vectors_train_Lemma_X2',statistics.mean(scores))\r\n",
        "\r\n",
        "scores = k_cross_val_score(vectors_train_stem_X2, y_train_num)\r\n",
        "print('vectors_train_stem_X2',statistics.mean(scores))\r\n",
        "\r\n",
        "scores = k_cross_val_score(vectors_train_Lemma_mutual, y_train_num)\r\n",
        "print('vectors_train_Lemma_mutual',statistics.mean(scores))\r\n",
        "\r\n",
        "scores = k_cross_val_score(vectors_train_stem_mutual, y_train_num)\r\n",
        "print('vectors_train_stem_mutual',statistics.mean(scores))\r\n",
        "\r\n",
        "scores = k_cross_val_score(vectors_train_Lemma_F, y_train_num)\r\n",
        "print('vectors_train_Lemma_F',statistics.mean(scores))\r\n",
        "\r\n",
        "scores = k_cross_val_score(vectors_train_stem_F, y_train_num)\r\n",
        "print('vectors_train_stem_F',statistics.mean(scores))\r\n"
      ],
      "execution_count": null,
      "outputs": [
        {
          "output_type": "stream",
          "text": [
            "vectors_train_Lemma_X2 0.8554246231155779\n",
            "vectors_train_stem_X2 0.9259698492462312\n",
            "vectors_train_Lemma_mutual 0.8554346733668342\n",
            "vectors_train_stem_mutual 0.9279698492462312\n",
            "vectors_train_Lemma_F 0.8594371859296482\n",
            "vectors_train_stem_F 0.853929648241206\n",
            "vectors_train_Lemma_RFE 0.17709045226130654\n",
            "vectors_train_stem_RFE 0.17207035175879398\n"
          ],
          "name": "stdout"
        }
      ]
    },
    {
      "cell_type": "markdown",
      "metadata": {
        "id": "Tz9rCLvRkKDB"
      },
      "source": [
        "## Write results to CSV"
      ]
    },
    {
      "cell_type": "code",
      "metadata": {
        "id": "tcS6vEcgL5qH",
        "colab": {
          "base_uri": "https://localhost:8080/"
        },
        "outputId": "7034f69d-5cec-4244-aefb-53826474e971"
      },
      "source": [
        "model = Bernoulli_NB()\r\n",
        "model.fit(vectors_train_stem_mutual,y_train_num)\r\n",
        "scores = k_cross_val_score(vectors_train_stem_mutual, y_train_num)\r\n",
        "print(statistics.mean(scores))"
      ],
      "execution_count": null,
      "outputs": [
        {
          "output_type": "stream",
          "text": [
            "0.9264623115577889\n"
          ],
          "name": "stdout"
        }
      ]
    },
    {
      "cell_type": "code",
      "metadata": {
        "id": "6jAQ8v0hRcIA"
      },
      "source": [
        "y_pred = model.predict(vectors_test_stem_mutual)\r\n",
        "y_pred = y_pred.astype(int)\r\n",
        "y_pred = le.inverse_transform(y_pred)"
      ],
      "execution_count": null,
      "outputs": []
    },
    {
      "cell_type": "code",
      "metadata": {
        "id": "sYiVSRFSiKw-"
      },
      "source": [
        "result = pd.DataFrame({'id': test.id, 'subreddit': y_pred})\n",
        "result.to_csv(\"resultmutual.csv\", index=False)"
      ],
      "execution_count": null,
      "outputs": []
    },
    {
      "cell_type": "code",
      "metadata": {
        "id": "rfs8FKWxWIbM",
        "colab": {
          "base_uri": "https://localhost:8080/",
          "height": 195
        },
        "outputId": "14ce1254-1531-4023-e10f-42bdcd2b52da"
      },
      "source": [
        "pred_csv = pd.read_csv('resultmutual.csv',engine='python')\n",
        "pred_csv.head()"
      ],
      "execution_count": null,
      "outputs": [
        {
          "output_type": "execute_result",
          "data": {
            "text/html": [
              "<div>\n",
              "<style scoped>\n",
              "    .dataframe tbody tr th:only-of-type {\n",
              "        vertical-align: middle;\n",
              "    }\n",
              "\n",
              "    .dataframe tbody tr th {\n",
              "        vertical-align: top;\n",
              "    }\n",
              "\n",
              "    .dataframe thead th {\n",
              "        text-align: right;\n",
              "    }\n",
              "</style>\n",
              "<table border=\"1\" class=\"dataframe\">\n",
              "  <thead>\n",
              "    <tr style=\"text-align: right;\">\n",
              "      <th></th>\n",
              "      <th>id</th>\n",
              "      <th>subreddit</th>\n",
              "    </tr>\n",
              "  </thead>\n",
              "  <tbody>\n",
              "    <tr>\n",
              "      <th>0</th>\n",
              "      <td>0</td>\n",
              "      <td>science</td>\n",
              "    </tr>\n",
              "    <tr>\n",
              "      <th>1</th>\n",
              "      <td>1</td>\n",
              "      <td>tennis</td>\n",
              "    </tr>\n",
              "    <tr>\n",
              "      <th>2</th>\n",
              "      <td>2</td>\n",
              "      <td>laptop</td>\n",
              "    </tr>\n",
              "    <tr>\n",
              "      <th>3</th>\n",
              "      <td>3</td>\n",
              "      <td>science</td>\n",
              "    </tr>\n",
              "    <tr>\n",
              "      <th>4</th>\n",
              "      <td>4</td>\n",
              "      <td>science</td>\n",
              "    </tr>\n",
              "  </tbody>\n",
              "</table>\n",
              "</div>"
            ],
            "text/plain": [
              "   id subreddit\n",
              "0   0   science\n",
              "1   1    tennis\n",
              "2   2    laptop\n",
              "3   3   science\n",
              "4   4   science"
            ]
          },
          "metadata": {
            "tags": []
          },
          "execution_count": 119
        }
      ]
    }
  ]
}
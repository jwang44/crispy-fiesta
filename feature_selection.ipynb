{
  "nbformat": 4,
  "nbformat_minor": 0,
  "metadata": {
    "colab": {
      "name": "feature selection.ipynb",
      "provenance": [],
      "include_colab_link": true
    },
    "kernelspec": {
      "name": "python3",
      "display_name": "Python 3"
    }
  },
  "cells": [
    {
      "cell_type": "markdown",
      "metadata": {
        "id": "view-in-github",
        "colab_type": "text"
      },
      "source": [
        "<a href=\"https://colab.research.google.com/github/jwang44/crispy-fiesta/blob/main/feature_selection.ipynb\" target=\"_parent\"><img src=\"https://colab.research.google.com/assets/colab-badge.svg\" alt=\"Open In Colab\"/></a>"
      ]
    },
    {
      "cell_type": "code",
      "metadata": {
        "colab": {
          "base_uri": "https://localhost:8080/"
        },
        "id": "GhYkxNMosYcz",
        "outputId": "6437ba9d-7ba3-4a39-d3af-9aefae178685"
      },
      "source": [
        "from google.colab import drive\r\n",
        "drive.mount('/content/drive')\r\n",
        "%cd /content/drive/MyDrive/"
      ],
      "execution_count": 1,
      "outputs": [
        {
          "output_type": "stream",
          "text": [
            "Mounted at /content/drive\n",
            "/content/drive/MyDrive\n"
          ],
          "name": "stdout"
        }
      ]
    },
    {
      "cell_type": "markdown",
      "metadata": {
        "id": "g3YXcam7SI-H"
      },
      "source": [
        "## Load the data and get basic features"
      ]
    },
    {
      "cell_type": "code",
      "metadata": {
        "id": "pVrTh5Fdsqcg"
      },
      "source": [
        "import pandas as pd\r\n",
        "import numpy as np"
      ],
      "execution_count": 2,
      "outputs": []
    },
    {
      "cell_type": "code",
      "metadata": {
        "id": "3OMqYMZNsq_-"
      },
      "source": [
        "train = pd.read_csv('./train.csv',engine='python')\r\n",
        "test = pd.read_csv('./test.csv',engine='python')"
      ],
      "execution_count": 3,
      "outputs": []
    },
    {
      "cell_type": "code",
      "metadata": {
        "id": "jjdGixmNss4K"
      },
      "source": [
        "X_train = train.body  # train texts\r\n",
        "y_train = train.subreddit # train subreddits\r\n",
        "X_test = test.body  # test texts"
      ],
      "execution_count": 6,
      "outputs": []
    },
    {
      "cell_type": "code",
      "metadata": {
        "id": "95NKm9YPtJ_d"
      },
      "source": [
        "from sklearn.preprocessing import Normalizer, LabelEncoder\r\n",
        "from sklearn.feature_extraction import text\r\n",
        "from sklearn.feature_extraction.text import CountVectorizer, TfidfVectorizer, TfidfTransformer"
      ],
      "execution_count": 7,
      "outputs": []
    },
    {
      "cell_type": "code",
      "metadata": {
        "colab": {
          "base_uri": "https://localhost:8080/"
        },
        "id": "1XFoTwA_s2B-",
        "outputId": "8c5e6eb5-e6db-4038-a148-4fb7c61a3f4d"
      },
      "source": [
        "# transform target labels to values\r\n",
        "le = LabelEncoder()\r\n",
        "y_train_num = le.fit_transform(y_train.values) # convert category from string to numerical (!!!!! update the variables in kcross fold)\r\n",
        "\r\n",
        "# vectorize word count\r\n",
        "vectorizer = CountVectorizer()\r\n",
        "vectors_train = vectorizer.fit_transform(X_train)\r\n",
        "vectors_test = vectorizer.transform(X_test)\r\n",
        "\r\n",
        "normalizer_train = Normalizer()\r\n",
        "vectors_train= normalizer_train.transform(vectors_train)\r\n",
        "vectors_test= normalizer_train.transform(vectors_test)\r\n",
        "\r\n",
        "# print(vectorizer.get_feature_names())\r\n",
        "print(vectors_train.shape)\r\n",
        "print(vectors_test.shape)"
      ],
      "execution_count": 8,
      "outputs": [
        {
          "output_type": "stream",
          "text": [
            "(1999, 15365)\n",
            "(1378, 15365)\n"
          ],
          "name": "stdout"
        }
      ]
    },
    {
      "cell_type": "code",
      "metadata": {
        "colab": {
          "base_uri": "https://localhost:8080/"
        },
        "id": "CkJsrQzH1qAD",
        "outputId": "155b583a-dd3c-4333-8b03-78dad157e405"
      },
      "source": [
        "import nltk\r\n",
        "nltk.download('punkt')\r\n",
        "nltk.download('wordnet')\r\n",
        "nltk.download('averaged_perceptron_tagger')\r\n",
        "from nltk.stem import PorterStemmer, WordNetLemmatizer\r\n",
        "from nltk import word_tokenize\r\n",
        "from nltk.corpus import wordnet"
      ],
      "execution_count": 9,
      "outputs": [
        {
          "output_type": "stream",
          "text": [
            "[nltk_data] Downloading package punkt to /root/nltk_data...\n",
            "[nltk_data]   Unzipping tokenizers/punkt.zip.\n",
            "[nltk_data] Downloading package wordnet to /root/nltk_data...\n",
            "[nltk_data]   Unzipping corpora/wordnet.zip.\n",
            "[nltk_data] Downloading package averaged_perceptron_tagger to\n",
            "[nltk_data]     /root/nltk_data...\n",
            "[nltk_data]   Unzipping taggers/averaged_perceptron_tagger.zip.\n"
          ],
          "name": "stdout"
        }
      ]
    },
    {
      "cell_type": "code",
      "metadata": {
        "colab": {
          "base_uri": "https://localhost:8080/"
        },
        "id": "pOD25ysB1x1o",
        "outputId": "15bdc93c-4919-4946-d35e-99298345794b"
      },
      "source": [
        "# put it all together: remove stop words and punctuation, tfidf, lemmatization, normalization\r\n",
        "stop_words = text.ENGLISH_STOP_WORDS\r\n",
        "\r\n",
        "def get_wordnet_pos(word):\r\n",
        "    \"\"\"Map POS tag to first character lemmatize() accepts\"\"\"\r\n",
        "    tag = nltk.pos_tag([word])[0][1][0].upper()\r\n",
        "    tag_dict = {\"J\": wordnet.ADJ,\r\n",
        "                \"N\": wordnet.NOUN,\r\n",
        "                \"V\": wordnet.VERB,\r\n",
        "                \"R\": wordnet.ADV}\r\n",
        "    return tag_dict.get(tag, wordnet.NOUN)\r\n",
        "\r\n",
        "class New_LemmaTokenizer:\r\n",
        "     def __init__(self):\r\n",
        "       self.wnl = WordNetLemmatizer()\r\n",
        "     def __call__(self, doc):\r\n",
        "       return [self.wnl.lemmatize(t,pos =get_wordnet_pos(t)) for t in word_tokenize(doc) if t.isalpha()]\r\n",
        "\r\n",
        "tf_idf_transformer = TfidfTransformer()\r\n",
        "vectorizer = CountVectorizer(stop_words = stop_words, tokenizer = New_LemmaTokenizer())\r\n",
        "vectors_train_stop_tfidf_Lemma = vectorizer.fit_transform(X_train)\r\n",
        "vectors_train_stop_tfidf_Lemma = tf_idf_transformer.fit_transform(vectors_train_stop_tfidf_Lemma)\r\n",
        "vectors_test_stop_tfidf_Lemma = vectorizer.transform(X_test)\r\n",
        "vectors_test_stop_tfidf_Lemma = tf_idf_transformer.transform(vectors_test_stop_tfidf_Lemma)\r\n",
        "vectors_train_stop_tfidf_Lemma = normalizer_train.transform(vectors_train_stop_tfidf_Lemma)\r\n",
        "vectors_test_stop_tfidf_Lemma = normalizer_train.transform(vectors_test_stop_tfidf_Lemma)\r\n",
        "\r\n",
        "# print(vectorizer.get_feature_names())\r\n",
        "print(vectors_train_stop_tfidf_Lemma.shape)\r\n",
        "print(vectors_test_stop_tfidf_Lemma.shape)"
      ],
      "execution_count": 10,
      "outputs": [
        {
          "output_type": "stream",
          "text": [
            "/usr/local/lib/python3.7/dist-packages/sklearn/feature_extraction/text.py:385: UserWarning: Your stop_words may be inconsistent with your preprocessing. Tokenizing the stop words generated tokens ['far', 'make', 'u'] not in stop_words.\n",
            "  'stop_words.' % sorted(inconsistent))\n"
          ],
          "name": "stderr"
        },
        {
          "output_type": "stream",
          "text": [
            "(1999, 9779)\n",
            "(1378, 9779)\n"
          ],
          "name": "stdout"
        }
      ]
    },
    {
      "cell_type": "code",
      "metadata": {
        "colab": {
          "base_uri": "https://localhost:8080/"
        },
        "id": "5oBLHbwe13Uw",
        "outputId": "d859d9a3-a1ab-4e3f-a2ed-b97361d2f4c2"
      },
      "source": [
        "# remove stopwords and punctuation, tfidf, stemming, normalization\r\n",
        "stop_words = text.ENGLISH_STOP_WORDS\r\n",
        "\r\n",
        "class StemTokenizer:\r\n",
        "     def __init__(self):\r\n",
        "       self.wnl =PorterStemmer()\r\n",
        "     def __call__(self, doc):\r\n",
        "       return [self.wnl.stem(t) for t in word_tokenize(doc) if t.isalpha()]\r\n",
        "\r\n",
        "tf_idf_transformer = TfidfTransformer()\r\n",
        "vectorizer = CountVectorizer(stop_words = stop_words, tokenizer=StemTokenizer())\r\n",
        "vectors_train_stop_tfidf_stem = vectorizer.fit_transform(X_train)\r\n",
        "vectors_train_stop_tfidf_stem = tf_idf_transformer.fit_transform(vectors_train_stop_tfidf_stem)\r\n",
        "vectors_test_stop_tfidf_stem = vectorizer.transform(X_test)\r\n",
        "vectors_test_stop_tfidf_stem = tf_idf_transformer.transform(vectors_test_stop_tfidf_stem)\r\n",
        "vectors_train_stop_tfidf_stem = normalizer_train.transform(vectors_train_stop_tfidf_stem)\r\n",
        "vectors_test_stop_tfidf_stem = normalizer_train.transform(vectors_test_stop_tfidf_stem)\r\n",
        "print(vectors_train_stop_tfidf_stem.shape)\r\n",
        "print(vectors_test_stop_tfidf_stem.shape)"
      ],
      "execution_count": 17,
      "outputs": [
        {
          "output_type": "stream",
          "text": [
            "/usr/local/lib/python3.7/dist-packages/sklearn/feature_extraction/text.py:385: UserWarning: Your stop_words may be inconsistent with your preprocessing. Tokenizing the stop words generated tokens ['abov', 'afterward', 'alon', 'alreadi', 'alway', 'ani', 'anoth', 'anyon', 'anyth', 'anywher', 'becam', 'becaus', 'becom', 'befor', 'besid', 'cri', 'describ', 'dure', 'els', 'elsewher', 'empti', 'everi', 'everyon', 'everyth', 'everywher', 'fifti', 'formerli', 'forti', 'ha', 'henc', 'hereaft', 'herebi', 'hi', 'howev', 'hundr', 'inde', 'latterli', 'mani', 'meanwhil', 'moreov', 'mostli', 'nobodi', 'noon', 'noth', 'nowher', 'onc', 'onli', 'otherwis', 'ourselv', 'perhap', 'pleas', 'seriou', 'sever', 'sinc', 'sincer', 'sixti', 'someon', 'someth', 'sometim', 'somewher', 'themselv', 'thenc', 'thereaft', 'therebi', 'therefor', 'thi', 'thu', 'togeth', 'twelv', 'twenti', 'veri', 'wa', 'whatev', 'whenc', 'whenev', 'wherea', 'whereaft', 'wherebi', 'wherev', 'whi', 'yourselv'] not in stop_words.\n",
            "  'stop_words.' % sorted(inconsistent))\n"
          ],
          "name": "stderr"
        },
        {
          "output_type": "stream",
          "text": [
            "(1999, 8522)\n",
            "(1378, 8522)\n"
          ],
          "name": "stdout"
        }
      ]
    },
    {
      "cell_type": "markdown",
      "metadata": {
        "id": "FcDWLcpSSQUX"
      },
      "source": [
        "## Feature selection"
      ]
    },
    {
      "cell_type": "code",
      "metadata": {
        "id": "DfzvYQTytAXZ"
      },
      "source": [
        "from sklearn.feature_selection import SelectKBest, chi2, VarianceThreshold, f_classif, mutual_info_classif, SelectFpr, SelectFwe, SelectFdr, RFE, RFECV, SelectFromModel\r\n",
        "from sklearn.ensemble import ExtraTreesClassifier"
      ],
      "execution_count": 68,
      "outputs": []
    },
    {
      "cell_type": "markdown",
      "metadata": {
        "id": "-aigDmX5vOJA"
      },
      "source": [
        "### 13.2.1 chi2"
      ]
    },
    {
      "cell_type": "code",
      "metadata": {
        "colab": {
          "base_uri": "https://localhost:8080/"
        },
        "id": "jA2BenS0vP2c",
        "outputId": "535bb34e-52ed-4ff1-ea70-9f99cc54abe1"
      },
      "source": [
        "select = SelectKBest(chi2, k=6000)\r\n",
        "vectors_train_Lemma_X2 = select.fit_transform(vectors_train_stop_tfidf_Lemma, y_train_num)\r\n",
        "vectors_test_Lemma_X2 = select.transform(vectors_test_stop_tfidf_Lemma)\r\n",
        "print(vectors_train_Lemma_X2.shape)"
      ],
      "execution_count": null,
      "outputs": [
        {
          "output_type": "stream",
          "text": [
            "(1999, 5000)\n"
          ],
          "name": "stdout"
        }
      ]
    },
    {
      "cell_type": "code",
      "metadata": {
        "colab": {
          "base_uri": "https://localhost:8080/"
        },
        "id": "fofG4Jh43IPk",
        "outputId": "9dbc61fa-75e8-4480-d5d1-734b8c1bf5aa"
      },
      "source": [
        "select = SelectKBest(chi2, k=5000)\r\n",
        "vectors_train_stem_X2 = select.fit_transform(vectors_train_stop_tfidf_stem, y_train_num)\r\n",
        "vectors_test_stem_X2 = select.transform(vectors_test_stop_tfidf_stem)\r\n",
        "print(vectors_train_stem_X2.shape)"
      ],
      "execution_count": null,
      "outputs": [
        {
          "output_type": "stream",
          "text": [
            "(1999, 4000)\n"
          ],
          "name": "stdout"
        }
      ]
    },
    {
      "cell_type": "markdown",
      "metadata": {
        "id": "8wfWxVDLwIgJ"
      },
      "source": [
        "### 13.2.2 mutual info"
      ]
    },
    {
      "cell_type": "code",
      "metadata": {
        "colab": {
          "base_uri": "https://localhost:8080/"
        },
        "id": "D5hcm_khwIIc",
        "outputId": "e81194ca-d199-4e9d-a965-6b249a98f1a7"
      },
      "source": [
        "select = SelectKBest(mutual_info_classif, k=6000)\r\n",
        "vectors_train_Lemma_mutual = select.fit_transform(vectors_train_stop_tfidf_Lemma, y_train_num)\r\n",
        "vectors_test_Lemma_mutual = select.transform(vectors_test_stop_tfidf_Lemma)\r\n",
        "print(vectors_train_Lemma_mutual.shape)"
      ],
      "execution_count": 27,
      "outputs": [
        {
          "output_type": "stream",
          "text": [
            "(1999, 6000)\n"
          ],
          "name": "stdout"
        }
      ]
    },
    {
      "cell_type": "code",
      "metadata": {
        "colab": {
          "base_uri": "https://localhost:8080/"
        },
        "id": "s7gyVxTQ3qxU",
        "outputId": "3a30f408-4b31-4bca-9f7b-1282c5bf410e"
      },
      "source": [
        "select = SelectKBest(mutual_info_classif, k=5000)\r\n",
        "vectors_train_stem_mutual = select.fit_transform(vectors_train_stop_tfidf_stem, y_train_num)\r\n",
        "vectors_test_stem_mutual = select.transform(vectors_test_stop_tfidf_stem)\r\n",
        "print(vectors_train_stem_mutual.shape)"
      ],
      "execution_count": 28,
      "outputs": [
        {
          "output_type": "stream",
          "text": [
            "(1999, 5000)\n"
          ],
          "name": "stdout"
        }
      ]
    },
    {
      "cell_type": "markdown",
      "metadata": {
        "id": "MiZEnhPZ0HnK"
      },
      "source": [
        "### 13.2.3 F score"
      ]
    },
    {
      "cell_type": "code",
      "metadata": {
        "colab": {
          "base_uri": "https://localhost:8080/"
        },
        "id": "K159Gmtz0Aww",
        "outputId": "64460546-191e-4ae2-b2d8-fac722a5b92a"
      },
      "source": [
        "select = SelectKBest(f_classif, k=6000)\r\n",
        "vectors_train_Lemma_F = select.fit_transform(vectors_train_stop_tfidf_Lemma, y_train_num)\r\n",
        "vectors_test_Lemma_F = select.transform(vectors_test_stop_tfidf_Lemma)\r\n",
        "print(vectors_train_Lemma_F.shape)"
      ],
      "execution_count": null,
      "outputs": [
        {
          "output_type": "stream",
          "text": [
            "(1999, 6000)\n"
          ],
          "name": "stdout"
        }
      ]
    },
    {
      "cell_type": "code",
      "metadata": {
        "colab": {
          "base_uri": "https://localhost:8080/"
        },
        "id": "Iz0kpHEp4JrN",
        "outputId": "64a29d0b-77fd-40b8-f92a-dc0f5e3ea3b8"
      },
      "source": [
        "select = SelectKBest(f_classif, k=5000)\r\n",
        "vectors_train_stem_F = select.fit_transform(vectors_train_stop_tfidf_Lemma, y_train_num)\r\n",
        "vectors_test_stem_F = select.transform(vectors_test_stop_tfidf_Lemma)\r\n",
        "print(vectors_train_stem_F.shape)"
      ],
      "execution_count": null,
      "outputs": [
        {
          "output_type": "stream",
          "text": [
            "(1999, 5000)\n"
          ],
          "name": "stdout"
        }
      ]
    },
    {
      "cell_type": "markdown",
      "metadata": {
        "id": "sNY9UPfohXAh"
      },
      "source": [
        "### 13.2.4 FPR"
      ]
    },
    {
      "cell_type": "code",
      "metadata": {
        "colab": {
          "base_uri": "https://localhost:8080/"
        },
        "id": "5CrHP_mShXWV",
        "outputId": "56c9500a-d26c-4587-9c73-02407bb6fcc7"
      },
      "source": [
        "select = SelectFpr()\r\n",
        "vectors_train_Lemma_FPR = select.fit_transform(vectors_train_stop_tfidf_Lemma, y_train_num)\r\n",
        "vectors_test_Lemma_FPR = select.transform(vectors_test_stop_tfidf_Lemma)\r\n",
        "vectors_train_Lemma_FPR.shape"
      ],
      "execution_count": 76,
      "outputs": [
        {
          "output_type": "execute_result",
          "data": {
            "text/plain": [
              "(1999, 1598)"
            ]
          },
          "metadata": {
            "tags": []
          },
          "execution_count": 76
        }
      ]
    },
    {
      "cell_type": "code",
      "metadata": {
        "id": "hsmNj4QLjol3",
        "outputId": "db237eb1-f850-4271-f5a0-8bbda24ad5f9",
        "colab": {
          "base_uri": "https://localhost:8080/"
        }
      },
      "source": [
        "select = SelectFpr()\r\n",
        "vectors_train_stem_FPR = select.fit_transform(vectors_train_stop_tfidf_stem, y_train_num)\r\n",
        "vectors_test_stem_FPR = select.transform(vectors_test_stop_tfidf_stem)\r\n",
        "vectors_train_stem_FPR.shape"
      ],
      "execution_count": 78,
      "outputs": [
        {
          "output_type": "execute_result",
          "data": {
            "text/plain": [
              "(1999, 1585)"
            ]
          },
          "metadata": {
            "tags": []
          },
          "execution_count": 78
        }
      ]
    },
    {
      "cell_type": "markdown",
      "metadata": {
        "id": "zMy4Tp48j0nn"
      },
      "source": [
        "### 13.2.5 FDR"
      ]
    },
    {
      "cell_type": "code",
      "metadata": {
        "id": "g2K05LInjy3K",
        "outputId": "e8eb8e16-2931-4d7d-c93d-334b5d168bc5",
        "colab": {
          "base_uri": "https://localhost:8080/"
        }
      },
      "source": [
        "select = SelectFdr()\r\n",
        "vectors_train_Lemma_FDR = select.fit_transform(vectors_train_stop_tfidf_Lemma, y_train_num)\r\n",
        "vectors_test_Lemma_FDR = select.transform(vectors_test_stop_tfidf_Lemma)\r\n",
        "vectors_train_Lemma_FDR.shape"
      ],
      "execution_count": 84,
      "outputs": [
        {
          "output_type": "execute_result",
          "data": {
            "text/plain": [
              "(1999, 841)"
            ]
          },
          "metadata": {
            "tags": []
          },
          "execution_count": 84
        }
      ]
    },
    {
      "cell_type": "code",
      "metadata": {
        "id": "Ea3uI8_fiex7",
        "outputId": "3a75e7ad-2555-4435-b811-19c21bdbba3b",
        "colab": {
          "base_uri": "https://localhost:8080/"
        }
      },
      "source": [
        "select = SelectFdr()\r\n",
        "vectors_train_Lemma_FDR = select.fit_transform(vectors_train_stop_tfidf_stem, y_train_num)\r\n",
        "vectors_test_Lemma_FDR = select.transform(vectors_test_stop_tfidf_stem)\r\n",
        "vectors_train_Lemma_FDR.shape"
      ],
      "execution_count": 85,
      "outputs": [
        {
          "output_type": "execute_result",
          "data": {
            "text/plain": [
              "(1999, 891)"
            ]
          },
          "metadata": {
            "tags": []
          },
          "execution_count": 85
        }
      ]
    },
    {
      "cell_type": "markdown",
      "metadata": {
        "id": "D7ovjGEulUlv"
      },
      "source": [
        "### 13.2.6 FWE"
      ]
    },
    {
      "cell_type": "code",
      "metadata": {
        "id": "eizM4rbzh3gC",
        "outputId": "9483820a-2621-4c2f-ab5e-389dec2a76ea",
        "colab": {
          "base_uri": "https://localhost:8080/"
        }
      },
      "source": [
        "select = SelectFwe()\r\n",
        "vectors_train_Lemma_FWE = select.fit_transform(vectors_train_stop_tfidf_Lemma, y_train_num)\r\n",
        "vectors_test_Lemma_FWE = select.transform(vectors_test_stop_tfidf_Lemma)\r\n",
        "vectors_train_Lemma_FWE.shape"
      ],
      "execution_count": 86,
      "outputs": [
        {
          "output_type": "execute_result",
          "data": {
            "text/plain": [
              "(1999, 359)"
            ]
          },
          "metadata": {
            "tags": []
          },
          "execution_count": 86
        }
      ]
    },
    {
      "cell_type": "code",
      "metadata": {
        "id": "6Dht3JAVlplI",
        "outputId": "418afb1c-e5d7-4a53-ff23-804dbe00be74",
        "colab": {
          "base_uri": "https://localhost:8080/"
        }
      },
      "source": [
        "select = SelectFwe()\r\n",
        "vectors_train_Lemma_FWE = select.fit_transform(vectors_train_stop_tfidf_stem, y_train_num)\r\n",
        "vectors_test_Lemma_FWE = select.transform(vectors_test_stop_tfidf_stem)\r\n",
        "vectors_train_Lemma_FWE.shape"
      ],
      "execution_count": 87,
      "outputs": [
        {
          "output_type": "execute_result",
          "data": {
            "text/plain": [
              "(1999, 362)"
            ]
          },
          "metadata": {
            "tags": []
          },
          "execution_count": 87
        }
      ]
    },
    {
      "cell_type": "markdown",
      "metadata": {
        "id": "x4imy8E_6ALI"
      },
      "source": [
        "### 13.3 Recursive feature elimination"
      ]
    },
    {
      "cell_type": "code",
      "metadata": {
        "id": "aaGqifNt8XY7"
      },
      "source": [
        "from sklearn.tree import DecisionTreeClassifier\r\n",
        "from sklearn.naive_bayes import MultinomialNB, BernoulliNB\r\n",
        "from sklearn.linear_model import LogisticRegression\r\n",
        "from sklearn.neighbors import KNeighborsClassifier\r\n",
        "from sklearn.svm import SVC, LinearSVC\r\n",
        "\r\n",
        "from sklearn.model_selection import KFold, cross_val_score"
      ],
      "execution_count": 11,
      "outputs": []
    },
    {
      "cell_type": "code",
      "metadata": {
        "id": "ndYrr7lLUPo_",
        "outputId": "b4805cbc-74b6-4fd1-f520-4db556e23eac",
        "colab": {
          "base_uri": "https://localhost:8080/"
        }
      },
      "source": [
        "estimator = LinearSVC()\r\n",
        "select = RFECV(estimator, step=98,scoring='accuracy')\r\n",
        "vectors_train_Lemma_RFESVC = select.fit_transform(vectors_train_stop_tfidf_Lemma, y_train_num)\r\n",
        "vectors_test_Lemma_RFESVC = select.transform(vectors_test_stop_tfidf_Lemma)\r\n",
        "print(vectors_train_Lemma_RFECV.shape)"
      ],
      "execution_count": 39,
      "outputs": [
        {
          "output_type": "stream",
          "text": [
            "(1999, 4291)\n"
          ],
          "name": "stdout"
        }
      ]
    },
    {
      "cell_type": "code",
      "metadata": {
        "id": "c2rkgQ_OW2H-",
        "outputId": "5672e1ec-6ba8-426a-91a5-dcccfe6becb0",
        "colab": {
          "base_uri": "https://localhost:8080/"
        }
      },
      "source": [
        "estimator = LinearSVC()\r\n",
        "select = RFECV(estimator, step=85,scoring='accuracy')\r\n",
        "vectors_train_stem_RFESVC = select.fit_transform(vectors_train_stop_tfidf_stem, y_train_num)\r\n",
        "vectors_test_stem_RFESVC = select.transform(vectors_test_stop_tfidf_stem)\r\n",
        "print(vectors_train_stem_RFESVC.shape)"
      ],
      "execution_count": 41,
      "outputs": [
        {
          "output_type": "stream",
          "text": [
            "(1999, 6222)\n"
          ],
          "name": "stdout"
        }
      ]
    },
    {
      "cell_type": "code",
      "metadata": {
        "id": "W39u3IvUYa-q",
        "outputId": "1caa3431-d9ce-4113-dbd7-5642d766dd51",
        "colab": {
          "base_uri": "https://localhost:8080/"
        }
      },
      "source": [
        "estimator = LogisticRegression()\r\n",
        "select = RFECV(estimator, step=98,scoring='accuracy')\r\n",
        "vectors_train_Lemma_RFELR = select.fit_transform(vectors_train_stop_tfidf_Lemma, y_train_num)\r\n",
        "vectors_test_Lemma_RFELR = select.transform(vectors_test_stop_tfidf_Lemma)\r\n",
        "print(vectors_train_Lemma_RFELR.shape)"
      ],
      "execution_count": 43,
      "outputs": [
        {
          "output_type": "stream",
          "text": [
            "(1999, 4095)\n"
          ],
          "name": "stdout"
        }
      ]
    },
    {
      "cell_type": "code",
      "metadata": {
        "id": "VVjen15SY5X9"
      },
      "source": [
        "estimator = LogisticRegression()\r\n",
        "select = RFECV(estimator, step=85,scoring='accuracy')\r\n",
        "vectors_train_stem_RFELR = select.fit_transform(vectors_train_stop_tfidf_stem, y_train_num)\r\n",
        "vectors_test_stem_RFELR = select.transform(vectors_test_stop_tfidf_stem)\r\n",
        "print(vectors_train_stem_RFELR.shape)"
      ],
      "execution_count": null,
      "outputs": []
    },
    {
      "cell_type": "code",
      "metadata": {
        "id": "A40g9do-ZqjJ",
        "outputId": "1efe89a7-e266-4151-e948-3aee35a0f64b",
        "colab": {
          "base_uri": "https://localhost:8080/"
        }
      },
      "source": [
        "estimator = MultinomialNB()\r\n",
        "select = RFECV(estimator, step=98,scoring='accuracy')\r\n",
        "vectors_train_Lemma_RFEMNB = select.fit_transform(vectors_train_stop_tfidf_Lemma, y_train_num)\r\n",
        "vectors_test_Lemma_RFEMNB = select.transform(vectors_test_stop_tfidf_Lemma)\r\n",
        "print(vectors_train_Lemma_RFEMNB.shape)"
      ],
      "execution_count": 47,
      "outputs": [
        {
          "output_type": "stream",
          "text": [
            "(1999, 9681)\n"
          ],
          "name": "stdout"
        }
      ]
    },
    {
      "cell_type": "code",
      "metadata": {
        "id": "uf-xuvLUbOm2",
        "outputId": "6f28beca-9692-4a04-a16e-a18f444f960c",
        "colab": {
          "base_uri": "https://localhost:8080/"
        }
      },
      "source": [
        "estimator = MultinomialNB()\r\n",
        "select = RFECV(estimator, step=85,scoring='accuracy')\r\n",
        "vectors_train_stem_RFEMNB = select.fit_transform(vectors_train_stop_tfidf_stem, y_train_num)\r\n",
        "vectors_test_stem_RFEMNB = select.transform(vectors_test_stop_tfidf_stem)\r\n",
        "print(vectors_train_stem_RFEMNB.shape)"
      ],
      "execution_count": 51,
      "outputs": [
        {
          "output_type": "stream",
          "text": [
            "(1999, 8437)\n"
          ],
          "name": "stdout"
        }
      ]
    },
    {
      "cell_type": "code",
      "metadata": {
        "id": "2Io3x5mTa2Zn",
        "outputId": "d579492a-4d83-4c85-eacc-3e52606e181f",
        "colab": {
          "base_uri": "https://localhost:8080/"
        }
      },
      "source": [
        "estimator = DecisionTreeClassifier()\r\n",
        "select = RFECV(estimator, step=98,scoring='accuracy')\r\n",
        "vectors_train_Lemma_RFEDT = select.fit_transform(vectors_train_stop_tfidf_Lemma, y_train_num)\r\n",
        "vectors_test_Lemma_RFEDT = select.transform(vectors_test_stop_tfidf_Lemma)\r\n",
        "print(vectors_train_Lemma_RFEDT.shape)"
      ],
      "execution_count": 49,
      "outputs": [
        {
          "output_type": "stream",
          "text": [
            "(1999, 6349)\n"
          ],
          "name": "stdout"
        }
      ]
    },
    {
      "cell_type": "code",
      "metadata": {
        "id": "pRRuTja_Z1XM",
        "outputId": "1812a7f3-ab1b-44bb-dd6c-583eaffe9108",
        "colab": {
          "base_uri": "https://localhost:8080/"
        }
      },
      "source": [
        "estimator = DecisionTreeClassifier()\r\n",
        "select = RFECV(estimator, step=85,scoring='accuracy')\r\n",
        "vectors_train_stem_RFEDT = select.fit_transform(vectors_train_stop_tfidf_stem, y_train_num)\r\n",
        "vectors_test_stem_RFEDT = select.transform(vectors_test_stop_tfidf_stem)\r\n",
        "print(vectors_train_stem_RFEDT.shape)"
      ],
      "execution_count": 48,
      "outputs": [
        {
          "output_type": "stream",
          "text": [
            "(1999, 8097)\n"
          ],
          "name": "stdout"
        }
      ]
    },
    {
      "cell_type": "code",
      "metadata": {
        "colab": {
          "base_uri": "https://localhost:8080/"
        },
        "id": "i8AqYnSs57BU",
        "outputId": "95d29856-4b93-4604-b79c-744b01d87ba6"
      },
      "source": [
        "'''estimator = LinearSVC()\r\n",
        "select = RFE(estimator, n_features_to_select=5000, step=0.1)\r\n",
        "vectors_train_Lemma_RFE = select.fit_transform(vectors_train_stop_tfidf_Lemma, y_train_num)\r\n",
        "vectors_test_Lemma_RFE = select.transform(vectors_test_stop_tfidf_Lemma)\r\n",
        "print(vectors_train_Lemma_RFE.shape)"
      ],
      "execution_count": 24,
      "outputs": [
        {
          "output_type": "stream",
          "text": [
            "(1999, 5000)\n"
          ],
          "name": "stdout"
        }
      ]
    },
    {
      "cell_type": "code",
      "metadata": {
        "id": "pVwxAGmm6scn"
      },
      "source": [
        "'''estimator = LinearSVC()\r\n",
        "select = RFE(estimator, n_features_to_select=5000, step=0.1)\r\n",
        "vectors_train_stem_RFESVC = select.fit_transform(vectors_train_stop_tfidf_stem, y_train_num)\r\n",
        "vectors_test_stem_RFESVC = select.transform(vectors_test_stop_tfidf_stem)"
      ],
      "execution_count": 26,
      "outputs": []
    },
    {
      "cell_type": "markdown",
      "metadata": {
        "id": "_OIvmZHu6z52"
      },
      "source": [
        "### 13.4.1 selectfrommodel L1 norm"
      ]
    },
    {
      "cell_type": "code",
      "metadata": {
        "colab": {
          "base_uri": "https://localhost:8080/"
        },
        "id": "lBeC2asR6ycf",
        "outputId": "4095d537-a342-48c9-89bb-a10112218c57"
      },
      "source": [
        "estimator = LinearSVC(C=10, penalty=\"l1\",dual=False)\r\n",
        "select = SelectFromModel(estimator,max_features=5000)\r\n",
        "vectors_train_Lemma_SFML1 = select.fit_transform(vectors_train_stop_tfidf_Lemma, y_train_num)\r\n",
        "vectors_test_Lemma_SFML1 = select.transform(vectors_test_stop_tfidf_Lemma)\r\n",
        "print(vectors_train_Lemma_SFML1.shape)"
      ],
      "execution_count": 54,
      "outputs": [
        {
          "output_type": "stream",
          "text": [
            "(1999, 1285)\n"
          ],
          "name": "stdout"
        },
        {
          "output_type": "stream",
          "text": [
            "/usr/local/lib/python3.7/dist-packages/sklearn/svm/_base.py:947: ConvergenceWarning: Liblinear failed to converge, increase the number of iterations.\n",
            "  \"the number of iterations.\", ConvergenceWarning)\n"
          ],
          "name": "stderr"
        }
      ]
    },
    {
      "cell_type": "code",
      "metadata": {
        "id": "1LcRUVHh9EA6",
        "colab": {
          "base_uri": "https://localhost:8080/"
        },
        "outputId": "dcb2fd13-bf9b-439d-bae6-621ed29daafb"
      },
      "source": [
        "estimator = LinearSVC(C=10, penalty=\"l1\",dual=False)\r\n",
        "select = SelectFromModel(estimator,max_features=5000)\r\n",
        "vectors_train_stem_SFML1 = select.fit_transform(vectors_train_stop_tfidf_stem, y_train_num)\r\n",
        "vectors_test_stem_SFML1 = select.transform(vectors_test_stop_tfidf_stem)\r\n",
        "print(vectors_train_stem_SFML1.shape)"
      ],
      "execution_count": 23,
      "outputs": [
        {
          "output_type": "stream",
          "text": [
            "(1999, 1257)\n"
          ],
          "name": "stdout"
        },
        {
          "output_type": "stream",
          "text": [
            "/usr/local/lib/python3.7/dist-packages/sklearn/svm/_base.py:947: ConvergenceWarning: Liblinear failed to converge, increase the number of iterations.\n",
            "  \"the number of iterations.\", ConvergenceWarning)\n"
          ],
          "name": "stderr"
        }
      ]
    },
    {
      "cell_type": "markdown",
      "metadata": {
        "id": "A40q_6BkgLzb"
      },
      "source": [
        "### 13.4.2 selectfrommodel tree"
      ]
    },
    {
      "cell_type": "code",
      "metadata": {
        "id": "xlCpRznsc3O8",
        "outputId": "60ce50f5-169e-42a6-a0e9-862395fb1bd3",
        "colab": {
          "base_uri": "https://localhost:8080/"
        }
      },
      "source": [
        "clf = ExtraTreesClassifier()\r\n",
        "clf = clf.fit(vectors_train_stop_tfidf_Lemma, y_train_num)\r\n",
        "model = SelectFromModel(clf, prefit=True)\r\n",
        "vectors_train_stem_SFMtree = model.transform(vectors_train_stop_tfidf_Lemma)\r\n",
        "vectors_train_stem_SFMtree.shape"
      ],
      "execution_count": 57,
      "outputs": [
        {
          "output_type": "execute_result",
          "data": {
            "text/plain": [
              "(1999, 1419)"
            ]
          },
          "metadata": {
            "tags": []
          },
          "execution_count": 57
        }
      ]
    },
    {
      "cell_type": "code",
      "metadata": {
        "id": "7kBgGpDLfTXV",
        "outputId": "9804b20f-bff1-4986-f3ed-7a16607ff4c4",
        "colab": {
          "base_uri": "https://localhost:8080/"
        }
      },
      "source": [
        "clf = ExtraTreesClassifier()\r\n",
        "clf = clf.fit(vectors_train_stop_tfidf_stem, y_train_num)\r\n",
        "model = SelectFromModel(clf, prefit=True)\r\n",
        "vectors_train_stem_SFMtree = model.transform(vectors_train_stop_tfidf_stem)\r\n",
        "vectors_train_stem_SFMtree.shape"
      ],
      "execution_count": 59,
      "outputs": [
        {
          "output_type": "execute_result",
          "data": {
            "text/plain": [
              "(1999, 1283)"
            ]
          },
          "metadata": {
            "tags": []
          },
          "execution_count": 59
        }
      ]
    },
    {
      "cell_type": "markdown",
      "metadata": {
        "id": "w4bpJ3t0TMnS"
      },
      "source": [
        "## Experiment on sklearn models"
      ]
    },
    {
      "cell_type": "markdown",
      "metadata": {
        "id": "L41zKhUPVj2l"
      },
      "source": [
        "### Find the best set of features\n",
        "We have 8 sets in total\n",
        "\n",
        "The best are \n",
        "\n",
        "**1** 2 3 **5** 6 7 for SVM\n",
        "\n",
        "1 **5 6** for logistic regression"
      ]
    },
    {
      "cell_type": "code",
      "metadata": {
        "colab": {
          "base_uri": "https://localhost:8080/"
        },
        "id": "pZQ1dRU4yIpa",
        "outputId": "810d94da-2f3d-4d8c-bc22-f71e934e6bff"
      },
      "source": [
        "# 0.9414\n",
        "model = LinearSVC()\n",
        "scores = cross_val_score(model, vectors_train_Lemma_X2, y_train_num, cv=10)\n",
        "print(scores.mean())\n",
        "\n",
        "# 0.9389\n",
        "model = LinearSVC()\n",
        "scores = cross_val_score(model, vectors_train_stem_X2, y_train_num, cv=10)\n",
        "print(scores.mean())\n",
        "\n",
        "#0.9329\n",
        "model = LinearSVC()\n",
        "scores = cross_val_score(model, vectors_train_Lemma_mutual, y_train_num, cv=10)\n",
        "print(scores.mean())\n",
        "\n",
        "model = LinearSVC()\n",
        "scores = cross_val_score(model, vectors_train_stem_mutual, y_train_num, cv=10)\n",
        "print(scores.mean())\n",
        "\n",
        "# 0.9414\n",
        "model = LinearSVC()\n",
        "scores = cross_val_score(model, vectors_train_Lemma_F, y_train_num, cv=10)\n",
        "print(scores.mean())\n",
        "\n",
        "# 0.9409\n",
        "model = LinearSVC()\n",
        "scores = cross_val_score(model, vectors_train_stem_F, y_train_num, cv=10)\n",
        "print(scores.mean())\n",
        "\n",
        "# 0.9364\n",
        "model = LinearSVC()\n",
        "scores = cross_val_score(model, vectors_train_Lemma_RFE, y_train_num, cv=10)\n",
        "print(scores.mean())\n",
        "\n",
        "model = LinearSVC()\n",
        "scores = cross_val_score(model, vectors_train_stem_RFE, y_train_num, cv=10)\n",
        "print(scores.mean())"
      ],
      "execution_count": null,
      "outputs": [
        {
          "output_type": "stream",
          "text": [
            "0.9414773869346733\n",
            "0.9389773869346735\n",
            "0.932964824120603\n",
            "0.926964824120603\n",
            "0.9414773869346735\n",
            "0.9409773869346735\n",
            "0.9364698492462311\n",
            "0.9314648241206029\n",
            "0.3436809045226131\n",
            "0.3436809045226131\n"
          ],
          "name": "stdout"
        }
      ]
    },
    {
      "cell_type": "code",
      "metadata": {
        "colab": {
          "base_uri": "https://localhost:8080/"
        },
        "id": "Ctlyl4oiUzMf",
        "outputId": "0f4412c9-b0bc-45f5-84df-59e92f3a666b"
      },
      "source": [
        "# 0.9349\n",
        "model = LogisticRegression()\n",
        "scores = cross_val_score(model, vectors_train_Lemma_X2, y_train_num, cv=10)\n",
        "print(scores.mean())\n",
        "\n",
        "model = LogisticRegression()\n",
        "scores = cross_val_score(model, vectors_train_stem_X2, y_train_num, cv=10)\n",
        "print(scores.mean())\n",
        "\n",
        "model = LogisticRegression()\n",
        "scores = cross_val_score(model, vectors_train_Lemma_mutual, y_train_num, cv=10)\n",
        "print(scores.mean())\n",
        "\n",
        "model = LogisticRegression()\n",
        "scores = cross_val_score(model, vectors_train_stem_mutual, y_train_num, cv=10)\n",
        "print(scores.mean())\n",
        "\n",
        "# 0.9364\n",
        "model = LogisticRegression()\n",
        "scores = cross_val_score(model, vectors_train_Lemma_F, y_train_num, cv=10)\n",
        "print(scores.mean())\n",
        "\n",
        "# 0.9369\n",
        "model = LogisticRegression()\n",
        "scores = cross_val_score(model, vectors_train_stem_F, y_train_num, cv=10)\n",
        "print(scores.mean())\n",
        "\n",
        "model = LogisticRegression()\n",
        "scores = cross_val_score(model, vectors_train_Lemma_RFE, y_train_num, cv=10)\n",
        "print(scores.mean())\n",
        "\n",
        "model = LogisticRegression()\n",
        "scores = cross_val_score(model, vectors_train_stem_RFE, y_train_num, cv=10)\n",
        "print(scores.mean())"
      ],
      "execution_count": null,
      "outputs": [
        {
          "output_type": "stream",
          "text": [
            "0.934969849246231\n",
            "0.9309723618090452\n",
            "0.9304698492462309\n",
            "0.9284723618090451\n",
            "0.9364723618090451\n",
            "0.9369723618090451\n",
            "0.929969849246231\n",
            "0.9284698492462311\n"
          ],
          "name": "stdout"
        }
      ]
    },
    {
      "cell_type": "code",
      "metadata": {
        "id": "Xreyyyy0fa3-",
        "colab": {
          "base_uri": "https://localhost:8080/"
        },
        "outputId": "45cb3545-98e5-4b50-d969-077d60861eb9"
      },
      "source": [
        "# 0.9324\n",
        "model = MultinomialNB()\n",
        "scores = cross_val_score(model, vectors_train_Lemma_X2, y_train_num, cv=10)\n",
        "print(scores.mean())\n",
        "\n",
        "# 0.9319\n",
        "model = MultinomialNB()\n",
        "scores = cross_val_score(model, vectors_train_stem_X2, y_train_num, cv=10)\n",
        "print(scores.mean())\n",
        "\n",
        "model = MultinomialNB()\n",
        "scores = cross_val_score(model, vectors_train_Lemma_mutual, y_train_num, cv=10)\n",
        "print(scores.mean())\n",
        "\n",
        "model = MultinomialNB()\n",
        "scores = cross_val_score(model, vectors_train_stem_mutual, y_train_num, cv=10)\n",
        "print(scores.mean())\n",
        "\n",
        "model = MultinomialNB()\n",
        "scores = cross_val_score(model, vectors_train_Lemma_F, y_train_num, cv=10)\n",
        "print(scores.mean())\n",
        "\n",
        "model = MultinomialNB()\n",
        "scores = cross_val_score(model, vectors_train_stem_F, y_train_num, cv=10)\n",
        "print(scores.mean())\n",
        "\n",
        "model = MultinomialNB()\n",
        "scores = cross_val_score(model, vectors_train_Lemma_RFE, y_train_num, cv=10)\n",
        "print(scores.mean())\n",
        "\n",
        "model = MultinomialNB()\n",
        "scores = cross_val_score(model, vectors_train_stem_RFE, y_train_num, cv=10)\n",
        "print(scores.mean())"
      ],
      "execution_count": null,
      "outputs": [
        {
          "output_type": "stream",
          "text": [
            "0.9324698492462311\n",
            "0.931964824120603\n",
            "0.920967336683417\n",
            "0.9244597989949748\n",
            "0.924964824120603\n",
            "0.9214648241206029\n",
            "0.922967336683417\n",
            "0.9209597989949749\n"
          ],
          "name": "stdout"
        }
      ]
    },
    {
      "cell_type": "markdown",
      "metadata": {
        "id": "Sq5zBLuWWSQH"
      },
      "source": [
        "### Grid search\n",
        "The best features:\n",
        "\n",
        "vectors_train_Lemma_X2\n",
        "\n",
        "vectors_train_Lemma_F\n",
        "\n",
        "vectors_train_stem_F"
      ]
    },
    {
      "cell_type": "markdown",
      "metadata": {
        "id": "QrmAJbRtXGNC"
      },
      "source": [
        "#### vectors_train_Lemma_X2\n",
        "Best models: LinearSVM, MultiNB, Logistic"
      ]
    },
    {
      "cell_type": "code",
      "metadata": {
        "id": "XB20XzS3FqBL"
      },
      "source": [
        "from sklearn.model_selection import GridSearchCV"
      ],
      "execution_count": null,
      "outputs": []
    },
    {
      "cell_type": "code",
      "metadata": {
        "colab": {
          "base_uri": "https://localhost:8080/"
        },
        "id": "6IzciLosEMMi",
        "outputId": "19fbb6f6-e804-49c8-8cbc-8f0a83f01083"
      },
      "source": [
        "model = LinearSVC()\n",
        "parameters = {\n",
        "    'C': (0.01, 0.1, 1, 10, 100, 1000)\n",
        "}\n",
        "gs_model = GridSearchCV(model, parameters, cv=10, n_jobs=-1)\n",
        "gs_model = gs_model.fit(vectors_train_Lemma_X2, y_train_num)\n",
        "print(gs_model.best_score_)\n",
        "for param_name in sorted(parameters.keys()):\n",
        "    print(\"%s: %r\" % (param_name, gs_model.best_params_[param_name]))"
      ],
      "execution_count": null,
      "outputs": [
        {
          "output_type": "stream",
          "text": [
            "0.9414773869346733\n",
            "C: 1\n"
          ],
          "name": "stdout"
        }
      ]
    },
    {
      "cell_type": "code",
      "metadata": {
        "colab": {
          "base_uri": "https://localhost:8080/"
        },
        "id": "DIQdMYl2GGQl",
        "outputId": "1032ee25-566f-43c2-fa98-b6dcf3bec252"
      },
      "source": [
        "model = SVC()\n",
        "parameters = {\n",
        "    'C': (0.01, 0.1, 1, 10, 100, 1000),\n",
        "    'gamma': (1e-3, 1e-4)\n",
        "}\n",
        "gs_model = GridSearchCV(model, parameters, cv=10, n_jobs=-1)\n",
        "gs_model = gs_model.fit(vectors_train_Lemma_X2, y_train_num)\n",
        "print(gs_model.best_score_)\n",
        "for param_name in sorted(parameters.keys()):\n",
        "    print(\"%s: %r\" % (param_name, gs_model.best_params_[param_name]))"
      ],
      "execution_count": null,
      "outputs": [
        {
          "output_type": "stream",
          "text": [
            "0.9239723618090452\n",
            "C: 1000\n",
            "gamma: 0.001\n"
          ],
          "name": "stdout"
        }
      ]
    },
    {
      "cell_type": "code",
      "metadata": {
        "colab": {
          "base_uri": "https://localhost:8080/"
        },
        "id": "nFc-Y1GmGmqT",
        "outputId": "1ef310f9-3baa-4fcd-860c-b6177b46a52f"
      },
      "source": [
        "model = LogisticRegression()\n",
        "parameters = {\n",
        "    'C': (0.01, 0.1, 1, 10, 100, 1000),\n",
        "    'max_iter': (1000, 5000, 10000)\n",
        "}\n",
        "gs_model = GridSearchCV(model, parameters, cv=10, n_jobs=-1)\n",
        "gs_model = gs_model.fit(vectors_train_Lemma_X2, y_train_num)\n",
        "print(gs_model.best_score_)\n",
        "for param_name in sorted(parameters.keys()):\n",
        "    print(\"%s: %r\" % (param_name, gs_model.best_params_[param_name]))"
      ],
      "execution_count": null,
      "outputs": [
        {
          "output_type": "stream",
          "text": [
            "0.9379773869346735\n",
            "C: 100\n",
            "max_iter: 1000\n"
          ],
          "name": "stdout"
        }
      ]
    },
    {
      "cell_type": "code",
      "metadata": {
        "colab": {
          "base_uri": "https://localhost:8080/"
        },
        "id": "kdTND1HmN8Bj",
        "outputId": "719bdbd2-143d-4060-d651-2104fcf10d1c"
      },
      "source": [
        "model = KNeighborsClassifier()\n",
        "parameters = {\n",
        "    'n_neighbors': (3, 5, 10, 20, 40), \n",
        "    'p': (1, 2, 3),\n",
        "    'leaf_size': (10, 20, 30, 50)\n",
        "}\n",
        "gs_model = GridSearchCV(model, parameters, cv=10, n_jobs=-1)\n",
        "gs_model = gs_model.fit(vectors_train_Lemma_X2, y_train_num)\n",
        "print(gs_model.best_score_)\n",
        "for param_name in sorted(parameters.keys()):\n",
        "    print(\"%s: %r\" % (param_name, gs_model.best_params_[param_name]))"
      ],
      "execution_count": null,
      "outputs": [
        {
          "output_type": "stream",
          "text": [
            "0.6668366834170854\n",
            "leaf_size: 10\n",
            "n_neighbors: 40\n",
            "p: 1\n"
          ],
          "name": "stdout"
        }
      ]
    },
    {
      "cell_type": "code",
      "metadata": {
        "colab": {
          "base_uri": "https://localhost:8080/"
        },
        "id": "TwzNMwNAP-gO",
        "outputId": "40677d40-049e-4532-8250-8243fd4789e5"
      },
      "source": [
        "model = DecisionTreeClassifier()\n",
        "parameters = {\n",
        "    'max_depth': (10, 100, 1000, 10000), \n",
        "    'min_samples_leaf': (1, 5, 10)\n",
        "}\n",
        "gs_model = GridSearchCV(model, parameters, cv=10, n_jobs=-1)\n",
        "gs_model = gs_model.fit(vectors_train_Lemma_X2, y_train_num)\n",
        "print(gs_model.best_score_)\n",
        "for param_name in sorted(parameters.keys()):\n",
        "    print(\"%s: %r\" % (param_name, gs_model.best_params_[param_name]))"
      ],
      "execution_count": null,
      "outputs": [
        {
          "output_type": "stream",
          "text": [
            "0.7748944723618091\n",
            "max_depth: 1000\n",
            "min_samples_leaf: 1\n"
          ],
          "name": "stdout"
        }
      ]
    },
    {
      "cell_type": "code",
      "metadata": {
        "colab": {
          "base_uri": "https://localhost:8080/"
        },
        "id": "lZxIyqcWQC6u",
        "outputId": "86a685ab-9af8-4478-da47-d9f92e0a0881"
      },
      "source": [
        "model = MultinomialNB()\n",
        "parameters = {\n",
        "    'alpha': (1e-10, 1e-5, 0.1, 0.5, 1, 2), \n",
        "}\n",
        "gs_model = GridSearchCV(model, parameters, cv=10, n_jobs=-1)\n",
        "gs_model = gs_model.fit(vectors_train_Lemma_X2, y_train_num)\n",
        "print(gs_model.best_score_)\n",
        "for param_name in sorted(parameters.keys()):\n",
        "    print(\"%s: %r\" % (param_name, gs_model.best_params_[param_name]))"
      ],
      "execution_count": null,
      "outputs": [
        {
          "output_type": "stream",
          "text": [
            "0.9409748743718594\n",
            "alpha: 0.1\n"
          ],
          "name": "stdout"
        }
      ]
    },
    {
      "cell_type": "code",
      "metadata": {
        "colab": {
          "base_uri": "https://localhost:8080/"
        },
        "id": "o6eUbXm6QHID",
        "outputId": "b41fa8d8-3604-4a3f-d9b9-dd10ae5d4554"
      },
      "source": [
        "model = BernoulliNB()\n",
        "parameters = {\n",
        "    'alpha': (1e-10, 1e-5, 0.1, 0.5, 1, 2)\n",
        "}\n",
        "gs_model = GridSearchCV(model, parameters, cv=10, n_jobs=-1)\n",
        "gs_model = gs_model.fit(vectors_train_Lemma_X2, y_train_num)\n",
        "print(gs_model.best_score_)\n",
        "for param_name in sorted(parameters.keys()):\n",
        "    print(\"%s: %r\" % (param_name, gs_model.best_params_[param_name]))"
      ],
      "execution_count": null,
      "outputs": [
        {
          "output_type": "stream",
          "text": [
            "0.9354773869346735\n",
            "alpha: 0.1\n"
          ],
          "name": "stdout"
        }
      ]
    },
    {
      "cell_type": "markdown",
      "metadata": {
        "id": "hQn11XdNXc89"
      },
      "source": [
        "#### vectors_train_Lemma_F\n",
        "Best model: MultiNB, LinearSVM, Logistic regression"
      ]
    },
    {
      "cell_type": "code",
      "metadata": {
        "id": "IzPswnO0XrO_"
      },
      "source": [
        "from sklearn.model_selection import GridSearchCV"
      ],
      "execution_count": null,
      "outputs": []
    },
    {
      "cell_type": "code",
      "metadata": {
        "colab": {
          "base_uri": "https://localhost:8080/"
        },
        "id": "1mqy1F4cXrPL",
        "outputId": "064153f7-42ef-4d07-abdb-a55d621744a5"
      },
      "source": [
        "model = LinearSVC()\n",
        "parameters = {\n",
        "    'C': (0.01, 0.1, 1, 10, 100, 1000)\n",
        "}\n",
        "gs_model = GridSearchCV(model, parameters, cv=10, n_jobs=-1)\n",
        "gs_model = gs_model.fit(vectors_train_Lemma_F, y_train_num)\n",
        "print(gs_model.best_score_)\n",
        "for param_name in sorted(parameters.keys()):\n",
        "    print(\"%s: %r\" % (param_name, gs_model.best_params_[param_name]))"
      ],
      "execution_count": null,
      "outputs": [
        {
          "output_type": "stream",
          "text": [
            "0.9414773869346735\n",
            "C: 1\n"
          ],
          "name": "stdout"
        }
      ]
    },
    {
      "cell_type": "code",
      "metadata": {
        "colab": {
          "base_uri": "https://localhost:8080/"
        },
        "id": "vooK5C0SXrPM",
        "outputId": "b9c557ca-8990-47e4-a55a-a4aad4c09be5"
      },
      "source": [
        "model = SVC()\n",
        "parameters = {\n",
        "    'C': (0.01, 0.1, 1, 10, 100, 1000),\n",
        "    'gamma': (1e-3, 1e-4)\n",
        "}\n",
        "gs_model = GridSearchCV(model, parameters, cv=10, n_jobs=-1)\n",
        "gs_model = gs_model.fit(vectors_train_Lemma_F, y_train_num)\n",
        "print(gs_model.best_score_)\n",
        "for param_name in sorted(parameters.keys()):\n",
        "    print(\"%s: %r\" % (param_name, gs_model.best_params_[param_name]))"
      ],
      "execution_count": null,
      "outputs": [
        {
          "output_type": "stream",
          "text": [
            "0.925469849246231\n",
            "C: 1000\n",
            "gamma: 0.001\n"
          ],
          "name": "stdout"
        }
      ]
    },
    {
      "cell_type": "code",
      "metadata": {
        "colab": {
          "base_uri": "https://localhost:8080/"
        },
        "id": "GQkN2Vr4XrPM",
        "outputId": "da7f9c51-f2d1-4ec7-cdb6-ac7059f9d173"
      },
      "source": [
        "model = LogisticRegression()\n",
        "parameters = {\n",
        "    'C': (0.01, 0.1, 1, 10, 100, 1000),\n",
        "    'max_iter': (1000, 5000, 10000)\n",
        "}\n",
        "gs_model = GridSearchCV(model, parameters, cv=10, n_jobs=-1)\n",
        "gs_model = gs_model.fit(vectors_train_Lemma_F, y_train_num)\n",
        "print(gs_model.best_score_)\n",
        "for param_name in sorted(parameters.keys()):\n",
        "    print(\"%s: %r\" % (param_name, gs_model.best_params_[param_name]))"
      ],
      "execution_count": null,
      "outputs": [
        {
          "output_type": "stream",
          "text": [
            "0.9394773869346735\n",
            "C: 10\n",
            "max_iter: 1000\n"
          ],
          "name": "stdout"
        }
      ]
    },
    {
      "cell_type": "code",
      "metadata": {
        "colab": {
          "base_uri": "https://localhost:8080/"
        },
        "id": "RLcvLCyUXrPN",
        "outputId": "4215fc96-b6f1-4360-f16d-46c26c3a4f09"
      },
      "source": [
        "model = KNeighborsClassifier()\n",
        "parameters = {\n",
        "    'n_neighbors': (3, 5, 10, 20, 40), \n",
        "    'p': (1, 2, 3),\n",
        "    'leaf_size': (10, 20, 30, 50)\n",
        "}\n",
        "gs_model = GridSearchCV(model, parameters, cv=10, n_jobs=-1)\n",
        "gs_model = gs_model.fit(vectors_train_Lemma_F, y_train_num)\n",
        "print(gs_model.best_score_)\n",
        "for param_name in sorted(parameters.keys()):\n",
        "    print(\"%s: %r\" % (param_name, gs_model.best_params_[param_name]))"
      ],
      "execution_count": null,
      "outputs": [
        {
          "output_type": "stream",
          "text": [
            "0.611819095477387\n",
            "leaf_size: 10\n",
            "n_neighbors: 40\n",
            "p: 1\n"
          ],
          "name": "stdout"
        }
      ]
    },
    {
      "cell_type": "code",
      "metadata": {
        "colab": {
          "base_uri": "https://localhost:8080/"
        },
        "id": "tYQuvAKUXrPN",
        "outputId": "54d3717c-e33f-43a7-bee6-5ccc2ea5ca91"
      },
      "source": [
        "model = DecisionTreeClassifier()\n",
        "parameters = {\n",
        "    'max_depth': (10, 100, 1000, 10000), \n",
        "    'min_samples_leaf': (1, 5, 10)\n",
        "}\n",
        "gs_model = GridSearchCV(model, parameters, cv=10, n_jobs=-1)\n",
        "gs_model = gs_model.fit(vectors_train_Lemma_F, y_train_num)\n",
        "print(gs_model.best_score_)\n",
        "for param_name in sorted(parameters.keys()):\n",
        "    print(\"%s: %r\" % (param_name, gs_model.best_params_[param_name]))"
      ],
      "execution_count": null,
      "outputs": [
        {
          "output_type": "stream",
          "text": [
            "0.7729045226130653\n",
            "max_depth: 100\n",
            "min_samples_leaf: 5\n"
          ],
          "name": "stdout"
        }
      ]
    },
    {
      "cell_type": "code",
      "metadata": {
        "colab": {
          "base_uri": "https://localhost:8080/"
        },
        "id": "tYZmNzgMXrPN",
        "outputId": "f3f5285c-7d23-4bcc-bf9f-8c031a15fe79"
      },
      "source": [
        "model = MultinomialNB()\n",
        "parameters = {\n",
        "    'alpha': (1e-10, 1e-5, 0.1, 0.5, 1, 2), \n",
        "}\n",
        "gs_model = GridSearchCV(model, parameters, cv=10, n_jobs=-1)\n",
        "gs_model = gs_model.fit(vectors_train_Lemma_F, y_train_num)\n",
        "print(gs_model.best_score_)\n",
        "for param_name in sorted(parameters.keys()):\n",
        "    print(\"%s: %r\" % (param_name, gs_model.best_params_[param_name]))"
      ],
      "execution_count": null,
      "outputs": [
        {
          "output_type": "stream",
          "text": [
            "0.9439723618090451\n",
            "alpha: 1e-05\n"
          ],
          "name": "stdout"
        }
      ]
    },
    {
      "cell_type": "code",
      "metadata": {
        "colab": {
          "base_uri": "https://localhost:8080/"
        },
        "id": "m1zYdzDxXrPO",
        "outputId": "c36907d2-b6ca-4764-f786-009b6ec4b10a"
      },
      "source": [
        "model = BernoulliNB()\n",
        "parameters = {\n",
        "    'alpha': (1e-10, 1e-5, 0.1, 0.5, 1, 2)\n",
        "}\n",
        "gs_model = GridSearchCV(model, parameters, cv=10, n_jobs=-1)\n",
        "gs_model = gs_model.fit(vectors_train_Lemma_F, y_train_num)\n",
        "print(gs_model.best_score_)\n",
        "for param_name in sorted(parameters.keys()):\n",
        "    print(\"%s: %r\" % (param_name, gs_model.best_params_[param_name]))"
      ],
      "execution_count": null,
      "outputs": [
        {
          "output_type": "stream",
          "text": [
            "0.934472361809045\n",
            "alpha: 1e-05\n"
          ],
          "name": "stdout"
        }
      ]
    },
    {
      "cell_type": "markdown",
      "metadata": {
        "id": "q4zY3GidX5ak"
      },
      "source": [
        "#### vectors_train_stem_F\n",
        "Best model: MultiNB, LinearSVM, Logistic regression"
      ]
    },
    {
      "cell_type": "code",
      "metadata": {
        "id": "0v2HbixzX8GN"
      },
      "source": [
        "from sklearn.model_selection import GridSearchCV"
      ],
      "execution_count": null,
      "outputs": []
    },
    {
      "cell_type": "code",
      "metadata": {
        "colab": {
          "base_uri": "https://localhost:8080/"
        },
        "id": "NjO6eBlQX8GY",
        "outputId": "3a1ce7a9-4817-490f-f7c1-8bf1abc7152f"
      },
      "source": [
        "model = LinearSVC()\n",
        "parameters = {\n",
        "    'C': (0.01, 0.1, 1, 10, 100, 1000)\n",
        "}\n",
        "gs_model = GridSearchCV(model, parameters, cv=10, n_jobs=-1)\n",
        "gs_model = gs_model.fit(vectors_train_stem_F, y_train_num)\n",
        "print(gs_model.best_score_)\n",
        "for param_name in sorted(parameters.keys()):\n",
        "    print(\"%s: %r\" % (param_name, gs_model.best_params_[param_name]))"
      ],
      "execution_count": null,
      "outputs": [
        {
          "output_type": "stream",
          "text": [
            "0.9409773869346735\n",
            "C: 1\n"
          ],
          "name": "stdout"
        }
      ]
    },
    {
      "cell_type": "code",
      "metadata": {
        "colab": {
          "base_uri": "https://localhost:8080/"
        },
        "id": "PK76cVOGX8GZ",
        "outputId": "b0cd4eaf-b740-4f43-896a-18bdcc1fbf08"
      },
      "source": [
        "model = SVC()\n",
        "parameters = {\n",
        "    'C': (0.01, 0.1, 1, 10, 100, 1000),\n",
        "    'gamma': (1e-3, 1e-4)\n",
        "}\n",
        "gs_model = GridSearchCV(model, parameters, cv=10, n_jobs=-1)\n",
        "gs_model = gs_model.fit(vectors_train_stem_F, y_train_num)\n",
        "print(gs_model.best_score_)\n",
        "for param_name in sorted(parameters.keys()):\n",
        "    print(\"%s: %r\" % (param_name, gs_model.best_params_[param_name]))"
      ],
      "execution_count": null,
      "outputs": [
        {
          "output_type": "stream",
          "text": [
            "0.9254673366834171\n",
            "C: 1000\n",
            "gamma: 0.001\n"
          ],
          "name": "stdout"
        }
      ]
    },
    {
      "cell_type": "code",
      "metadata": {
        "colab": {
          "base_uri": "https://localhost:8080/"
        },
        "id": "xaknVvvfX8Ga",
        "outputId": "b15b4244-901d-4f59-bc6d-45644df26e3b"
      },
      "source": [
        "model = LogisticRegression()\n",
        "parameters = {\n",
        "    'C': (0.01, 0.1, 1, 10, 100, 1000),\n",
        "    'max_iter': (1000, 5000, 10000)\n",
        "}\n",
        "gs_model = GridSearchCV(model, parameters, cv=10, n_jobs=-1)\n",
        "gs_model = gs_model.fit(vectors_train_stem_F, y_train_num)\n",
        "print(gs_model.best_score_)\n",
        "for param_name in sorted(parameters.keys()):\n",
        "    print(\"%s: %r\" % (param_name, gs_model.best_params_[param_name]))"
      ],
      "execution_count": null,
      "outputs": [
        {
          "output_type": "stream",
          "text": [
            "0.9399748743718593\n",
            "C: 10\n",
            "max_iter: 1000\n"
          ],
          "name": "stdout"
        }
      ]
    },
    {
      "cell_type": "code",
      "metadata": {
        "colab": {
          "base_uri": "https://localhost:8080/"
        },
        "id": "CiT15e5QX8Ga",
        "outputId": "f71d313d-eb76-41af-e506-78bca04070f6"
      },
      "source": [
        "model = KNeighborsClassifier()\n",
        "parameters = {\n",
        "    'n_neighbors': (3, 5, 10, 20, 40), \n",
        "    'p': (1, 2, 3),\n",
        "    'leaf_size': (10, 20, 30, 50)\n",
        "}\n",
        "gs_model = GridSearchCV(model, parameters, cv=10, n_jobs=-1)\n",
        "gs_model = gs_model.fit(vectors_train_stem_F, y_train_num)\n",
        "print(gs_model.best_score_)\n",
        "for param_name in sorted(parameters.keys()):\n",
        "    print(\"%s: %r\" % (param_name, gs_model.best_params_[param_name]))"
      ],
      "execution_count": null,
      "outputs": [
        {
          "output_type": "stream",
          "text": [
            "0.48522613065326636\n",
            "leaf_size: 10\n",
            "n_neighbors: 40\n",
            "p: 2\n"
          ],
          "name": "stdout"
        }
      ]
    },
    {
      "cell_type": "code",
      "metadata": {
        "colab": {
          "base_uri": "https://localhost:8080/"
        },
        "id": "AW_oPFXZX8Ga",
        "outputId": "f8774abd-bfbe-4692-d6e4-248e3bce2502"
      },
      "source": [
        "model = DecisionTreeClassifier()\n",
        "parameters = {\n",
        "    'max_depth': (10, 100, 1000, 10000), \n",
        "    'min_samples_leaf': (1, 5, 10)\n",
        "}\n",
        "gs_model = GridSearchCV(model, parameters, cv=10, n_jobs=-1)\n",
        "gs_model = gs_model.fit(vectors_train_stem_F, y_train_num)\n",
        "print(gs_model.best_score_)\n",
        "for param_name in sorted(parameters.keys()):\n",
        "    print(\"%s: %r\" % (param_name, gs_model.best_params_[param_name]))"
      ],
      "execution_count": null,
      "outputs": [
        {
          "output_type": "stream",
          "text": [
            "0.7749045226130653\n",
            "max_depth: 1000\n",
            "min_samples_leaf: 5\n"
          ],
          "name": "stdout"
        }
      ]
    },
    {
      "cell_type": "code",
      "metadata": {
        "colab": {
          "base_uri": "https://localhost:8080/"
        },
        "id": "-TjSc2XjX8Gb",
        "outputId": "73d49e9a-86d7-4f68-b62f-c54dbb443ef7"
      },
      "source": [
        "model = MultinomialNB()\n",
        "parameters = {\n",
        "    'alpha': (1e-10, 1e-5, 0.1, 0.5, 1, 2), \n",
        "}\n",
        "gs_model = GridSearchCV(model, parameters, cv=10, n_jobs=-1)\n",
        "gs_model = gs_model.fit(vectors_train_stem_F, y_train_num)\n",
        "print(gs_model.best_score_)\n",
        "for param_name in sorted(parameters.keys()):\n",
        "    print(\"%s: %r\" % (param_name, gs_model.best_params_[param_name]))"
      ],
      "execution_count": null,
      "outputs": [
        {
          "output_type": "stream",
          "text": [
            "0.9429698492462311\n",
            "alpha: 1e-05\n"
          ],
          "name": "stdout"
        }
      ]
    },
    {
      "cell_type": "code",
      "metadata": {
        "colab": {
          "base_uri": "https://localhost:8080/"
        },
        "id": "TEHjQk3iX8Gb",
        "outputId": "0646a05b-83e3-488f-ccdf-6d615b2e0f57"
      },
      "source": [
        "model = BernoulliNB()\n",
        "parameters = {\n",
        "    'alpha': (1e-10, 1e-5, 0.1, 0.5, 1, 2)\n",
        "}\n",
        "gs_model = GridSearchCV(model, parameters, cv=10, n_jobs=-1)\n",
        "gs_model = gs_model.fit(vectors_train_stem_F, y_train_num)\n",
        "print(gs_model.best_score_)\n",
        "for param_name in sorted(parameters.keys()):\n",
        "    print(\"%s: %r\" % (param_name, gs_model.best_params_[param_name]))"
      ],
      "execution_count": null,
      "outputs": [
        {
          "output_type": "stream",
          "text": [
            "0.935472361809045\n",
            "alpha: 1e-05\n"
          ],
          "name": "stdout"
        }
      ]
    },
    {
      "cell_type": "markdown",
      "metadata": {
        "id": "bBZ16L91cGK7"
      },
      "source": [
        "### Best model: Multinomial NB on vectors_train_Lemma_F"
      ]
    },
    {
      "cell_type": "code",
      "metadata": {
        "id": "0qVb0ydkdAS3"
      },
      "source": [
        "from sklearn.model_selection import cross_val_score"
      ],
      "execution_count": null,
      "outputs": []
    },
    {
      "cell_type": "code",
      "metadata": {
        "id": "4z3MyfeQVs7o",
        "colab": {
          "base_uri": "https://localhost:8080/"
        },
        "outputId": "93a05fdc-ef8c-4149-d3b2-734bdb8347ac"
      },
      "source": [
        "model = MultinomialNB(alpha=1e-05)\n",
        "model.fit(vectors_train_Lemma_F, y_train_num)\n",
        "cross_val_score(model, vectors_train_Lemma_F, y_train_num, cv=10)"
      ],
      "execution_count": null,
      "outputs": [
        {
          "output_type": "execute_result",
          "data": {
            "text/plain": [
              "array([0.95      , 0.955     , 0.95      , 0.95      , 0.91      ,\n",
              "       0.945     , 0.96      , 0.935     , 0.94      , 0.94472362])"
            ]
          },
          "metadata": {
            "tags": []
          },
          "execution_count": 66
        }
      ]
    },
    {
      "cell_type": "code",
      "metadata": {
        "id": "-IFZ5fY6V_Ca"
      },
      "source": [
        "model = MultinomialNB(alpha=1e-05)\n",
        "model.fit(vectors_train_Lemma_F, y_train_num)\n",
        "y_pred = model.predict(vectors_test_Lemma_F)\n",
        "y_pred = le.inverse_transform(y_pred)"
      ],
      "execution_count": null,
      "outputs": []
    },
    {
      "cell_type": "markdown",
      "metadata": {
        "id": "Tz9rCLvRkKDB"
      },
      "source": [
        "#### Write results to CSV"
      ]
    },
    {
      "cell_type": "code",
      "metadata": {
        "id": "sYiVSRFSiKw-"
      },
      "source": [
        "result = pd.DataFrame({'id': test.id, 'subreddit': y_pred})\n",
        "result.to_csv(\"result.csv\", index=False)"
      ],
      "execution_count": null,
      "outputs": []
    },
    {
      "cell_type": "code",
      "metadata": {
        "id": "rfs8FKWxWIbM",
        "colab": {
          "base_uri": "https://localhost:8080/",
          "height": 204
        },
        "outputId": "c45e8cc4-5724-4b43-e46e-11cdcea65891"
      },
      "source": [
        "pred_csv = pd.read_csv('result.csv',engine='python')\n",
        "pred_csv.head()"
      ],
      "execution_count": null,
      "outputs": [
        {
          "output_type": "execute_result",
          "data": {
            "text/html": [
              "<div>\n",
              "<style scoped>\n",
              "    .dataframe tbody tr th:only-of-type {\n",
              "        vertical-align: middle;\n",
              "    }\n",
              "\n",
              "    .dataframe tbody tr th {\n",
              "        vertical-align: top;\n",
              "    }\n",
              "\n",
              "    .dataframe thead th {\n",
              "        text-align: right;\n",
              "    }\n",
              "</style>\n",
              "<table border=\"1\" class=\"dataframe\">\n",
              "  <thead>\n",
              "    <tr style=\"text-align: right;\">\n",
              "      <th></th>\n",
              "      <th>id</th>\n",
              "      <th>subreddit</th>\n",
              "    </tr>\n",
              "  </thead>\n",
              "  <tbody>\n",
              "    <tr>\n",
              "      <th>0</th>\n",
              "      <td>0</td>\n",
              "      <td>science</td>\n",
              "    </tr>\n",
              "    <tr>\n",
              "      <th>1</th>\n",
              "      <td>1</td>\n",
              "      <td>science</td>\n",
              "    </tr>\n",
              "    <tr>\n",
              "      <th>2</th>\n",
              "      <td>2</td>\n",
              "      <td>science</td>\n",
              "    </tr>\n",
              "    <tr>\n",
              "      <th>3</th>\n",
              "      <td>3</td>\n",
              "      <td>science</td>\n",
              "    </tr>\n",
              "    <tr>\n",
              "      <th>4</th>\n",
              "      <td>4</td>\n",
              "      <td>science</td>\n",
              "    </tr>\n",
              "  </tbody>\n",
              "</table>\n",
              "</div>"
            ],
            "text/plain": [
              "   id subreddit\n",
              "0   0   science\n",
              "1   1   science\n",
              "2   2   science\n",
              "3   3   science\n",
              "4   4   science"
            ]
          },
          "metadata": {
            "tags": []
          },
          "execution_count": 69
        }
      ]
    },
    {
      "cell_type": "markdown",
      "metadata": {
        "id": "Xv-LNm10CaLk"
      },
      "source": [
        "### Second Best model: LinearSVC on vectors_train_Lemma_F "
      ]
    },
    {
      "cell_type": "code",
      "metadata": {
        "id": "9uK_TB7_CaLo"
      },
      "source": [
        "from sklearn.model_selection import cross_val_score"
      ],
      "execution_count": null,
      "outputs": []
    },
    {
      "cell_type": "code",
      "metadata": {
        "colab": {
          "base_uri": "https://localhost:8080/"
        },
        "id": "QwCBQu6CCaLp",
        "outputId": "f4b4001f-aec9-4c2b-f0e0-8fa37adb6638"
      },
      "source": [
        "model = LinearSVC(C=1)\n",
        "# model.fit(vectors_train_Lemma_F, y_train_num)\n",
        "cross_val_score(model, vectors_train_Lemma_F, y_train_num, cv=10)"
      ],
      "execution_count": null,
      "outputs": [
        {
          "output_type": "execute_result",
          "data": {
            "text/plain": [
              "array([0.92      , 0.96      , 0.945     , 0.93      , 0.93      ,\n",
              "       0.95      , 0.965     , 0.945     , 0.915     , 0.95477387])"
            ]
          },
          "metadata": {
            "tags": []
          },
          "execution_count": 15
        }
      ]
    },
    {
      "cell_type": "code",
      "metadata": {
        "id": "7vCDdoN6CaLq"
      },
      "source": [
        "model = LinearSVC(C=1)\n",
        "model.fit(vectors_train_Lemma_F, y_train_num)\n",
        "y_pred = model.predict(vectors_test_Lemma_F)\n",
        "y_pred = le.inverse_transform(y_pred)"
      ],
      "execution_count": null,
      "outputs": []
    },
    {
      "cell_type": "markdown",
      "metadata": {
        "id": "acrbVwmaCaLq"
      },
      "source": [
        "#### Write results to CSV"
      ]
    },
    {
      "cell_type": "code",
      "metadata": {
        "id": "dcAJg9XFCaLr"
      },
      "source": [
        "result = pd.DataFrame({'id': test.id, 'subreddit': y_pred})\n",
        "result.to_csv(\"result.csv\", index=False)"
      ],
      "execution_count": null,
      "outputs": []
    },
    {
      "cell_type": "code",
      "metadata": {
        "colab": {
          "base_uri": "https://localhost:8080/",
          "height": 204
        },
        "id": "FA1Jr0nrCaLs",
        "outputId": "a8f027d8-6b92-4899-e071-381b54e2842c"
      },
      "source": [
        "pred_csv = pd.read_csv('result.csv',engine='python')\n",
        "pred_csv.head()"
      ],
      "execution_count": null,
      "outputs": [
        {
          "output_type": "execute_result",
          "data": {
            "text/html": [
              "<div>\n",
              "<style scoped>\n",
              "    .dataframe tbody tr th:only-of-type {\n",
              "        vertical-align: middle;\n",
              "    }\n",
              "\n",
              "    .dataframe tbody tr th {\n",
              "        vertical-align: top;\n",
              "    }\n",
              "\n",
              "    .dataframe thead th {\n",
              "        text-align: right;\n",
              "    }\n",
              "</style>\n",
              "<table border=\"1\" class=\"dataframe\">\n",
              "  <thead>\n",
              "    <tr style=\"text-align: right;\">\n",
              "      <th></th>\n",
              "      <th>id</th>\n",
              "      <th>subreddit</th>\n",
              "    </tr>\n",
              "  </thead>\n",
              "  <tbody>\n",
              "    <tr>\n",
              "      <th>0</th>\n",
              "      <td>0</td>\n",
              "      <td>science</td>\n",
              "    </tr>\n",
              "    <tr>\n",
              "      <th>1</th>\n",
              "      <td>1</td>\n",
              "      <td>science</td>\n",
              "    </tr>\n",
              "    <tr>\n",
              "      <th>2</th>\n",
              "      <td>2</td>\n",
              "      <td>science</td>\n",
              "    </tr>\n",
              "    <tr>\n",
              "      <th>3</th>\n",
              "      <td>3</td>\n",
              "      <td>science</td>\n",
              "    </tr>\n",
              "    <tr>\n",
              "      <th>4</th>\n",
              "      <td>4</td>\n",
              "      <td>science</td>\n",
              "    </tr>\n",
              "  </tbody>\n",
              "</table>\n",
              "</div>"
            ],
            "text/plain": [
              "   id subreddit\n",
              "0   0   science\n",
              "1   1   science\n",
              "2   2   science\n",
              "3   3   science\n",
              "4   4   science"
            ]
          },
          "metadata": {
            "tags": []
          },
          "execution_count": 18
        }
      ]
    }
  ]
}
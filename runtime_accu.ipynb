{
  "nbformat": 4,
  "nbformat_minor": 0,
  "metadata": {
    "colab": {
      "name": "feature selection.ipynb",
      "provenance": [],
      "toc_visible": true,
      "include_colab_link": true
    },
    "kernelspec": {
      "name": "python3",
      "display_name": "Python 3"
    }
  },
  "cells": [
    {
      "cell_type": "markdown",
      "metadata": {
        "id": "view-in-github",
        "colab_type": "text"
      },
      "source": [
        "<a href=\"https://colab.research.google.com/github/jwang44/crispy-fiesta/blob/main/runtime_accu.ipynb\" target=\"_parent\"><img src=\"https://colab.research.google.com/assets/colab-badge.svg\" alt=\"Open In Colab\"/></a>"
      ]
    },
    {
      "cell_type": "code",
      "metadata": {
        "colab": {
          "base_uri": "https://localhost:8080/"
        },
        "id": "GhYkxNMosYcz",
        "outputId": "04e2036f-ff3c-4192-bf02-7d9a2aa68b71"
      },
      "source": [
        "from google.colab import drive\r\n",
        "drive.mount('/content/drive')\r\n",
        "%cd /content/drive/MyDrive/"
      ],
      "execution_count": 1,
      "outputs": [
        {
          "output_type": "stream",
          "text": [
            "Mounted at /content/drive\n",
            "/content/drive/MyDrive\n"
          ],
          "name": "stdout"
        }
      ]
    },
    {
      "cell_type": "markdown",
      "metadata": {
        "id": "g3YXcam7SI-H"
      },
      "source": [
        "## Load the data and get basic features"
      ]
    },
    {
      "cell_type": "code",
      "metadata": {
        "id": "pVrTh5Fdsqcg"
      },
      "source": [
        "import pandas as pd\r\n",
        "import numpy as np"
      ],
      "execution_count": 2,
      "outputs": []
    },
    {
      "cell_type": "code",
      "metadata": {
        "id": "3OMqYMZNsq_-"
      },
      "source": [
        "train = pd.read_csv('./train.csv',engine='python')\r\n",
        "test = pd.read_csv('./test.csv',engine='python')"
      ],
      "execution_count": 3,
      "outputs": []
    },
    {
      "cell_type": "code",
      "metadata": {
        "id": "jjdGixmNss4K"
      },
      "source": [
        "X_train = train.body  # train texts\r\n",
        "y_train = train.subreddit # train subreddits\r\n",
        "X_test = test.body  # test texts"
      ],
      "execution_count": 4,
      "outputs": []
    },
    {
      "cell_type": "code",
      "metadata": {
        "id": "95NKm9YPtJ_d"
      },
      "source": [
        "from sklearn.preprocessing import Normalizer, LabelEncoder\r\n",
        "from sklearn.feature_extraction import text\r\n",
        "from sklearn.feature_extraction.text import CountVectorizer, TfidfVectorizer, TfidfTransformer"
      ],
      "execution_count": 5,
      "outputs": []
    },
    {
      "cell_type": "code",
      "metadata": {
        "colab": {
          "base_uri": "https://localhost:8080/"
        },
        "id": "1XFoTwA_s2B-",
        "outputId": "142908b3-dbcb-443b-ad97-e8ed6f22414d"
      },
      "source": [
        "# transform target labels to values\r\n",
        "le = LabelEncoder()\r\n",
        "y_train_num = le.fit_transform(y_train.values) # convert category from string to numerical (!!!!! update the variables in kcross fold)\r\n",
        "\r\n",
        "# vectorize word count\r\n",
        "vectorizer = CountVectorizer()\r\n",
        "vectors_train = vectorizer.fit_transform(X_train)\r\n",
        "vectors_test = vectorizer.transform(X_test)\r\n",
        "\r\n",
        "normalizer_train = Normalizer()\r\n",
        "vectors_train= normalizer_train.transform(vectors_train)\r\n",
        "vectors_test= normalizer_train.transform(vectors_test)\r\n",
        "\r\n",
        "# print(vectorizer.get_feature_names())\r\n",
        "print(vectors_train.shape)\r\n",
        "print(vectors_test.shape)"
      ],
      "execution_count": 6,
      "outputs": [
        {
          "output_type": "stream",
          "text": [
            "(1999, 15365)\n",
            "(1378, 15365)\n"
          ],
          "name": "stdout"
        }
      ]
    },
    {
      "cell_type": "code",
      "metadata": {
        "colab": {
          "base_uri": "https://localhost:8080/"
        },
        "id": "CkJsrQzH1qAD",
        "outputId": "1bc0db46-5a13-4f9c-8e3b-26ef4fa5ddd4"
      },
      "source": [
        "import nltk\r\n",
        "nltk.download('punkt')\r\n",
        "nltk.download('wordnet')\r\n",
        "nltk.download('averaged_perceptron_tagger')\r\n",
        "from nltk.stem import PorterStemmer, WordNetLemmatizer\r\n",
        "from nltk import word_tokenize\r\n",
        "from nltk.corpus import wordnet"
      ],
      "execution_count": 7,
      "outputs": [
        {
          "output_type": "stream",
          "text": [
            "[nltk_data] Downloading package punkt to /root/nltk_data...\n",
            "[nltk_data]   Unzipping tokenizers/punkt.zip.\n",
            "[nltk_data] Downloading package wordnet to /root/nltk_data...\n",
            "[nltk_data]   Unzipping corpora/wordnet.zip.\n",
            "[nltk_data] Downloading package averaged_perceptron_tagger to\n",
            "[nltk_data]     /root/nltk_data...\n",
            "[nltk_data]   Unzipping taggers/averaged_perceptron_tagger.zip.\n"
          ],
          "name": "stdout"
        }
      ]
    },
    {
      "cell_type": "code",
      "metadata": {
        "colab": {
          "base_uri": "https://localhost:8080/"
        },
        "id": "pOD25ysB1x1o",
        "outputId": "0b7b5ccb-d0ba-4c52-c1cd-558963eeea75"
      },
      "source": [
        "# put it all together: remove stop words and punctuation, tfidf, lemmatization, normalization\r\n",
        "stop_words = text.ENGLISH_STOP_WORDS\r\n",
        "\r\n",
        "def get_wordnet_pos(word):\r\n",
        "    \"\"\"Map POS tag to first character lemmatize() accepts\"\"\"\r\n",
        "    tag = nltk.pos_tag([word])[0][1][0].upper()\r\n",
        "    tag_dict = {\"J\": wordnet.ADJ,\r\n",
        "                \"N\": wordnet.NOUN,\r\n",
        "                \"V\": wordnet.VERB,\r\n",
        "                \"R\": wordnet.ADV}\r\n",
        "    return tag_dict.get(tag, wordnet.NOUN)\r\n",
        "\r\n",
        "class New_LemmaTokenizer:\r\n",
        "     def __init__(self):\r\n",
        "       self.wnl = WordNetLemmatizer()\r\n",
        "     def __call__(self, doc):\r\n",
        "       return [self.wnl.lemmatize(t,pos =get_wordnet_pos(t)) for t in word_tokenize(doc) if t.isalpha()]\r\n",
        "\r\n",
        "tf_idf_transformer = TfidfTransformer()\r\n",
        "vectorizer = CountVectorizer(stop_words = stop_words, tokenizer = New_LemmaTokenizer(), ngram_range=(1, 2)) #unigram+bigram:ngram_range=(1, 2), only bigram:ngram_range=(2, 2)\r\n",
        "vectors_train_stop_tfidf_Lemma = vectorizer.fit_transform(X_train)\r\n",
        "vectors_train_stop_tfidf_Lemma = tf_idf_transformer.fit_transform(vectors_train_stop_tfidf_Lemma)\r\n",
        "vectors_test_stop_tfidf_Lemma = vectorizer.transform(X_test)\r\n",
        "vectors_test_stop_tfidf_Lemma = tf_idf_transformer.transform(vectors_test_stop_tfidf_Lemma)\r\n",
        "vectors_train_stop_tfidf_Lemma = normalizer_train.transform(vectors_train_stop_tfidf_Lemma)\r\n",
        "vectors_test_stop_tfidf_Lemma = normalizer_train.transform(vectors_test_stop_tfidf_Lemma)\r\n",
        "\r\n",
        "#print(vectorizer.get_feature_names())\r\n",
        "print(vectors_train_stop_tfidf_Lemma.shape)\r\n",
        "print(vectors_test_stop_tfidf_Lemma.shape)"
      ],
      "execution_count": 8,
      "outputs": [
        {
          "output_type": "stream",
          "text": [
            "/usr/local/lib/python3.7/dist-packages/sklearn/feature_extraction/text.py:385: UserWarning: Your stop_words may be inconsistent with your preprocessing. Tokenizing the stop words generated tokens ['far', 'make', 'u'] not in stop_words.\n",
            "  'stop_words.' % sorted(inconsistent))\n"
          ],
          "name": "stderr"
        },
        {
          "output_type": "stream",
          "text": [
            "(1999, 70414)\n",
            "(1378, 70414)\n"
          ],
          "name": "stdout"
        }
      ]
    },
    {
      "cell_type": "code",
      "metadata": {
        "colab": {
          "base_uri": "https://localhost:8080/"
        },
        "id": "5oBLHbwe13Uw",
        "outputId": "06d51c43-eefd-438c-90d3-e2b68b235a40"
      },
      "source": [
        "# remove stopwords and punctuation, tfidf, stemming, normalization\r\n",
        "stop_words = text.ENGLISH_STOP_WORDS\r\n",
        "\r\n",
        "class StemTokenizer:\r\n",
        "     def __init__(self):\r\n",
        "       self.wnl =PorterStemmer()\r\n",
        "     def __call__(self, doc):\r\n",
        "       return [self.wnl.stem(t) for t in word_tokenize(doc) if t.isalpha()]\r\n",
        "\r\n",
        "tf_idf_transformer = TfidfTransformer()\r\n",
        "vectorizer = CountVectorizer(stop_words = stop_words, tokenizer=StemTokenizer(),ngram_range=(1, 2)) #unigram+bigram:ngram_range=(1, 2), only bigram:ngram_range=(2, 2)\r\n",
        "vectors_train_stop_tfidf_stem = vectorizer.fit_transform(X_train)\r\n",
        "vectors_train_stop_tfidf_stem = tf_idf_transformer.fit_transform(vectors_train_stop_tfidf_stem)\r\n",
        "vectors_test_stop_tfidf_stem = vectorizer.transform(X_test)\r\n",
        "vectors_test_stop_tfidf_stem = tf_idf_transformer.transform(vectors_test_stop_tfidf_stem)\r\n",
        "vectors_train_stop_tfidf_stem = normalizer_train.transform(vectors_train_stop_tfidf_stem)\r\n",
        "vectors_test_stop_tfidf_stem = normalizer_train.transform(vectors_test_stop_tfidf_stem)\r\n",
        "print(vectors_train_stop_tfidf_stem.shape)\r\n",
        "print(vectors_test_stop_tfidf_stem.shape)"
      ],
      "execution_count": 9,
      "outputs": [
        {
          "output_type": "stream",
          "text": [
            "/usr/local/lib/python3.7/dist-packages/sklearn/feature_extraction/text.py:385: UserWarning: Your stop_words may be inconsistent with your preprocessing. Tokenizing the stop words generated tokens ['abov', 'afterward', 'alon', 'alreadi', 'alway', 'ani', 'anoth', 'anyon', 'anyth', 'anywher', 'becam', 'becaus', 'becom', 'befor', 'besid', 'cri', 'describ', 'dure', 'els', 'elsewher', 'empti', 'everi', 'everyon', 'everyth', 'everywher', 'fifti', 'formerli', 'forti', 'ha', 'henc', 'hereaft', 'herebi', 'hi', 'howev', 'hundr', 'inde', 'latterli', 'mani', 'meanwhil', 'moreov', 'mostli', 'nobodi', 'noon', 'noth', 'nowher', 'onc', 'onli', 'otherwis', 'ourselv', 'perhap', 'pleas', 'seriou', 'sever', 'sinc', 'sincer', 'sixti', 'someon', 'someth', 'sometim', 'somewher', 'themselv', 'thenc', 'thereaft', 'therebi', 'therefor', 'thi', 'thu', 'togeth', 'twelv', 'twenti', 'veri', 'wa', 'whatev', 'whenc', 'whenev', 'wherea', 'whereaft', 'wherebi', 'wherev', 'whi', 'yourselv'] not in stop_words.\n",
            "  'stop_words.' % sorted(inconsistent))\n"
          ],
          "name": "stderr"
        },
        {
          "output_type": "stream",
          "text": [
            "(1999, 73597)\n",
            "(1378, 73597)\n"
          ],
          "name": "stdout"
        }
      ]
    },
    {
      "cell_type": "markdown",
      "metadata": {
        "id": "FcDWLcpSSQUX"
      },
      "source": [
        "## Measure runtime and accuracy for different feature numbers and different feature selections"
      ]
    },
    {
      "cell_type": "code",
      "metadata": {
        "id": "DfzvYQTytAXZ"
      },
      "source": [
        "from sklearn.feature_selection import SelectKBest, SelectPercentile, chi2, mutual_info_classif, f_classif, SelectFpr, SelectFwe, SelectFdr, RFE, RFECV, SelectFromModel\r\n",
        "from sklearn.ensemble import ExtraTreesClassifier\r\n",
        "from sklearn.svm import LinearSVC, SVC\r\n",
        "from sklearn.naive_bayes import MultinomialNB\r\n",
        "from sklearn.linear_model import LogisticRegression\r\n",
        "from sklearn.model_selection import cross_val_score\r\n",
        "import time"
      ],
      "execution_count": 10,
      "outputs": []
    },
    {
      "cell_type": "markdown",
      "metadata": {
        "id": "aUfR6pk4Fwyh"
      },
      "source": [
        "###feature selection function"
      ]
    },
    {
      "cell_type": "code",
      "metadata": {
        "id": "0u8NupGoHb24"
      },
      "source": [
        "per_range = [2**(-6), 2**(-4), 2**(-2), 1., 4., 16., 64.]"
      ],
      "execution_count": 17,
      "outputs": []
    },
    {
      "cell_type": "code",
      "metadata": {
        "id": "PR0_h2pZISXn",
        "outputId": "b89b89b6-e588-442b-a1f6-730a4974cac9",
        "colab": {
          "base_uri": "https://localhost:8080/"
        }
      },
      "source": [
        "per_range"
      ],
      "execution_count": 18,
      "outputs": [
        {
          "output_type": "execute_result",
          "data": {
            "text/plain": [
              "[0.015625, 0.0625, 0.25, 1.0, 4.0, 16.0, 64.0]"
            ]
          },
          "metadata": {
            "tags": []
          },
          "execution_count": 18
        }
      ]
    },
    {
      "cell_type": "code",
      "metadata": {
        "id": "ami7p42TAWdA"
      },
      "source": [
        "select_chi2_1 = SelectPercentile(chi2, percentile=per_range[0])\r\n",
        "ft_chi2_1 = select_chi2_1.fit_transform(vectors_train_stop_tfidf_Lemma, y_train_num)\r\n",
        "select_chi2_2 = SelectPercentile(chi2, percentile=per_range[1])\r\n",
        "ft_chi2_2 = select_chi2_2.fit_transform(vectors_train_stop_tfidf_Lemma, y_train_num)\r\n",
        "select_chi2_3 = SelectPercentile(chi2, percentile=per_range[2])\r\n",
        "ft_chi2_3 = select_chi2_3.fit_transform(vectors_train_stop_tfidf_Lemma, y_train_num)\r\n",
        "select_chi2_4 = SelectPercentile(chi2, percentile=per_range[3])\r\n",
        "ft_chi2_4 = select_chi2_4.fit_transform(vectors_train_stop_tfidf_Lemma, y_train_num)\r\n",
        "select_chi2_5 = SelectPercentile(chi2, percentile=per_range[4])\r\n",
        "ft_chi2_5 = select_chi2_5.fit_transform(vectors_train_stop_tfidf_Lemma, y_train_num)\r\n",
        "select_chi2_6 = SelectPercentile(chi2, percentile=per_range[5])\r\n",
        "ft_chi2_6 = select_chi2_6.fit_transform(vectors_train_stop_tfidf_Lemma, y_train_num)\r\n",
        "select_chi2_7 = SelectPercentile(chi2, percentile=per_range[6])\r\n",
        "ft_chi2_7 = select_chi2_7.fit_transform(vectors_train_stop_tfidf_Lemma, y_train_num)"
      ],
      "execution_count": 20,
      "outputs": []
    },
    {
      "cell_type": "code",
      "metadata": {
        "id": "6EmJT2ZSA7xf"
      },
      "source": [
        "select_mutual_1 = SelectPercentile(mutual_info_classif, percentile=per_range[0])\r\n",
        "ft_mutual_1 = select_mutual_1.fit_transform(vectors_train_stop_tfidf_Lemma, y_train_num)\r\n",
        "select_mutual_2 = SelectPercentile(mutual_info_classif, percentile=per_range[1])\r\n",
        "ft_mutual_2 = select_mutual_2.fit_transform(vectors_train_stop_tfidf_Lemma, y_train_num)\r\n",
        "select_mutual_3 = SelectPercentile(mutual_info_classif, percentile=per_range[2])\r\n",
        "ft_mutual_3 = select_mutual_3.fit_transform(vectors_train_stop_tfidf_Lemma, y_train_num)\r\n",
        "select_mutual_4 = SelectPercentile(mutual_info_classif, percentile=per_range[3])\r\n",
        "ft_mutual_4 = select_mutual_4.fit_transform(vectors_train_stop_tfidf_Lemma, y_train_num)\r\n",
        "select_mutual_5 = SelectPercentile(mutual_info_classif, percentile=per_range[4])\r\n",
        "ft_mutual_5 = select_mutual_5.fit_transform(vectors_train_stop_tfidf_Lemma, y_train_num)\r\n",
        "select_mutual_6 = SelectPercentile(mutual_info_classif, percentile=per_range[5])\r\n",
        "ft_mutual_6 = select_mutual_6.fit_transform(vectors_train_stop_tfidf_Lemma, y_train_num)\r\n",
        "select_mutual_7 = SelectPercentile(mutual_info_classif, percentile=per_range[6])\r\n",
        "ft_mutual_7 = select_mutual_7.fit_transform(vectors_train_stop_tfidf_Lemma, y_train_num)"
      ],
      "execution_count": 21,
      "outputs": []
    },
    {
      "cell_type": "code",
      "metadata": {
        "id": "Wgdbx1GdBEKZ"
      },
      "source": [
        "select_f_1 = SelectPercentile(mutual_info_classif, percentile=per_range[0])\r\n",
        "ft_f_1 = select_f_1.fit_transform(vectors_train_stop_tfidf_Lemma, y_train_num)\r\n",
        "select_f_2 = SelectPercentile(mutual_info_classif, percentile=per_range[1])\r\n",
        "ft_f_2 = select_f_2.fit_transform(vectors_train_stop_tfidf_Lemma, y_train_num)\r\n",
        "select_f_3 = SelectPercentile(mutual_info_classif, percentile=per_range[2])\r\n",
        "ft_f_3 = select_f_3.fit_transform(vectors_train_stop_tfidf_Lemma, y_train_num)\r\n",
        "select_f_4 = SelectPercentile(mutual_info_classif, percentile=per_range[3])\r\n",
        "ft_f_4 = select_f_4.fit_transform(vectors_train_stop_tfidf_Lemma, y_train_num)\r\n",
        "select_f_5 = SelectPercentile(mutual_info_classif, percentile=per_range[4])\r\n",
        "ft_f_5 = select_f_5.fit_transform(vectors_train_stop_tfidf_Lemma, y_train_num)\r\n",
        "select_f_6 = SelectPercentile(mutual_info_classif, percentile=per_range[5])\r\n",
        "ft_f_6 = select_f_6.fit_transform(vectors_train_stop_tfidf_Lemma, y_train_num)\r\n",
        "select_f_7 = SelectPercentile(mutual_info_classif, percentile=per_range[6])\r\n",
        "ft_f_7 = select_f_7.fit_transform(vectors_train_stop_tfidf_Lemma, y_train_num)"
      ],
      "execution_count": 22,
      "outputs": []
    },
    {
      "cell_type": "code",
      "metadata": {
        "id": "cZ6rNq7CEwMQ"
      },
      "source": [
        "def feature_select(selector,per):\r\n",
        "  if selector=='chi2':\r\n",
        "    if per == per_range[0]:\r\n",
        "      return ft_chi2_1\r\n",
        "    elif per == per_range[1]:\r\n",
        "      return ft_chi2_2\r\n",
        "    elif per == per_range[2]:\r\n",
        "      return ft_chi2_3\r\n",
        "    elif per == per_range[3]:\r\n",
        "      return ft_chi2_4\r\n",
        "    elif per == per_range[4]:\r\n",
        "      return ft_chi2_5\r\n",
        "    elif per == per_range[5]:\r\n",
        "      return ft_chi2_6\r\n",
        "    elif per == per_range[6]:\r\n",
        "      return ft_chi2_7     \r\n",
        "  elif selector=='mutual_info':\r\n",
        "    if per == per_range[0]:\r\n",
        "      return ft_mutual_1\r\n",
        "    elif per == per_range[1]:\r\n",
        "      return ft_mutual_2\r\n",
        "    elif per == per_range[2]:\r\n",
        "      return ft_mutual_3\r\n",
        "    elif per == per_range[3]:\r\n",
        "      return ft_mutual_4\r\n",
        "    elif per == per_range[4]:\r\n",
        "      return ft_mutual_5\r\n",
        "    elif per == per_range[5]:\r\n",
        "      return ft_mutual_6\r\n",
        "    elif per == per_range[6]:\r\n",
        "      return ft_mutual_7  \r\n",
        "  elif selector=='f':\r\n",
        "    if per == per_range[0]:\r\n",
        "      return ft_f_1\r\n",
        "    elif per == per_range[1]:\r\n",
        "      return ft_f_2\r\n",
        "    elif per == per_range[2]:\r\n",
        "      return ft_f_3\r\n",
        "    elif per == per_range[3]:\r\n",
        "      return ft_f_4\r\n",
        "    elif per == per_range[4]:\r\n",
        "      return ft_f_5\r\n",
        "    elif per == per_range[5]:\r\n",
        "      return ft_f_6\r\n",
        "    elif per == per_range[6]:\r\n",
        "      return ft_f_7  "
      ],
      "execution_count": 32,
      "outputs": []
    },
    {
      "cell_type": "markdown",
      "metadata": {
        "id": "P2HDwRlFGDet"
      },
      "source": [
        "###runtime accu"
      ]
    },
    {
      "cell_type": "code",
      "metadata": {
        "id": "EUIDv00PLKVC"
      },
      "source": [
        "def runtime_accu(selector, model, per):\n",
        "  # select = SelectKBest(chi2, k=k)\n",
        "  \n",
        "  vectors_train_Lemma = feature_select(selector,per)\n",
        "  print(vectors_train_Lemma.shape)\n",
        "  t1 = time.time()\n",
        "  accuracy = cross_val_score(model, vectors_train_Lemma, y_train_num, cv=10).mean()\n",
        "  runtime = time.time()-t1\n",
        "  print(\"accuracy: \", accuracy)\n",
        "  print(\"runtime: \", runtime, '\\n')\n",
        "  return accuracy, runtime"
      ],
      "execution_count": 33,
      "outputs": []
    },
    {
      "cell_type": "markdown",
      "metadata": {
        "id": "h5sFtvD7XDD1"
      },
      "source": [
        "### Chi2"
      ]
    },
    {
      "cell_type": "code",
      "metadata": {
        "id": "MBP1xMGiWdqR"
      },
      "source": [
        "selector = 'chi2'"
      ],
      "execution_count": 34,
      "outputs": []
    },
    {
      "cell_type": "code",
      "metadata": {
        "colab": {
          "base_uri": "https://localhost:8080/"
        },
        "id": "yfOj6cVRORtJ",
        "outputId": "87ac6f44-19a0-43a2-c790-a47dc0320bb8"
      },
      "source": [
        "model = LinearSVC(C=1)\n",
        "acc_linearsvc = []\n",
        "t_linearsvc = []\n",
        "for per in per_range:\n",
        "  accuracy, runtime = runtime_accu(selector, model, per)\n",
        "  acc_linearsvc.append(accuracy)\n",
        "  t_linearsvc.append(runtime)"
      ],
      "execution_count": 35,
      "outputs": [
        {
          "output_type": "stream",
          "text": [
            "(1999, 12)\n",
            "accuracy:  0.6893492462311558\n",
            "runtime:  0.18451261520385742 \n",
            "\n",
            "(1999, 44)\n",
            "accuracy:  0.7594045226130653\n",
            "runtime:  0.18472766876220703 \n",
            "\n",
            "(1999, 177)\n",
            "accuracy:  0.8584447236180905\n",
            "runtime:  0.2016279697418213 \n",
            "\n",
            "(1999, 705)\n",
            "accuracy:  0.9119572864321608\n",
            "runtime:  0.2343442440032959 \n",
            "\n",
            "(1999, 2817)\n",
            "accuracy:  0.9404773869346735\n",
            "runtime:  0.31644153594970703 \n",
            "\n",
            "(1999, 11266)\n",
            "accuracy:  0.9469723618090452\n",
            "runtime:  0.4210515022277832 \n",
            "\n",
            "(1999, 45064)\n",
            "accuracy:  0.9419748743718592\n",
            "runtime:  0.7188541889190674 \n",
            "\n"
          ],
          "name": "stdout"
        }
      ]
    },
    {
      "cell_type": "code",
      "metadata": {
        "colab": {
          "base_uri": "https://localhost:8080/"
        },
        "id": "lQ3WMv52SSz-",
        "outputId": "75eb5727-1bed-43c4-bd9c-f92ff0239e9b"
      },
      "source": [
        "model = SVC(C=1)\n",
        "acc_svc = []\n",
        "t_svc = []\n",
        "for per in per_range:\n",
        "  accuracy, runtime = runtime_accu(selector, model, per)\n",
        "  acc_svc.append(accuracy)\n",
        "  t_svc.append(runtime)"
      ],
      "execution_count": 36,
      "outputs": [
        {
          "output_type": "stream",
          "text": [
            "(1999, 12)\n",
            "accuracy:  0.6843417085427136\n",
            "runtime:  0.8098056316375732 \n",
            "\n",
            "(1999, 44)\n",
            "accuracy:  0.7578969849246231\n",
            "runtime:  0.9651446342468262 \n",
            "\n",
            "(1999, 177)\n",
            "accuracy:  0.8544371859296482\n",
            "runtime:  1.3311734199523926 \n",
            "\n",
            "(1999, 705)\n",
            "accuracy:  0.8959447236180905\n",
            "runtime:  3.262784719467163 \n",
            "\n",
            "(1999, 2817)\n",
            "accuracy:  0.929467336683417\n",
            "runtime:  9.950004816055298 \n",
            "\n",
            "(1999, 11266)\n",
            "accuracy:  0.8959472361809044\n",
            "runtime:  14.861417293548584 \n",
            "\n",
            "(1999, 45064)\n",
            "accuracy:  0.9204748743718593\n",
            "runtime:  21.55479621887207 \n",
            "\n"
          ],
          "name": "stdout"
        }
      ]
    },
    {
      "cell_type": "code",
      "metadata": {
        "colab": {
          "base_uri": "https://localhost:8080/"
        },
        "id": "8QB0kgywR3wi",
        "outputId": "9f948d7e-8ac5-4585-f074-7b4aa5b3bf37"
      },
      "source": [
        "model = MultinomialNB(alpha=1e-10)\n",
        "acc_MNB = []\n",
        "t_MNB = []\n",
        "for per in per_range:\n",
        "  accuracy, runtime = runtime_accu(selector, model, per)\n",
        "  acc_MNB.append(accuracy)\n",
        "  t_MNB.append(runtime)"
      ],
      "execution_count": 37,
      "outputs": [
        {
          "output_type": "stream",
          "text": [
            "(1999, 12)\n",
            "accuracy:  0.5967914572864321\n",
            "runtime:  0.021589040756225586 \n",
            "\n",
            "(1999, 44)\n",
            "accuracy:  0.7013643216080403\n",
            "runtime:  0.019350528717041016 \n",
            "\n",
            "(1999, 177)\n",
            "accuracy:  0.8104145728643216\n",
            "runtime:  0.01991415023803711 \n",
            "\n",
            "(1999, 705)\n",
            "accuracy:  0.8954597989949749\n",
            "runtime:  0.02341294288635254 \n",
            "\n",
            "(1999, 2817)\n",
            "accuracy:  0.9479824120603016\n",
            "runtime:  0.030005216598510742 \n",
            "\n",
            "(1999, 11266)\n",
            "accuracy:  0.9589849246231156\n",
            "runtime:  0.049387216567993164 \n",
            "\n",
            "(1999, 45064)\n",
            "accuracy:  0.9279748743718592\n",
            "runtime:  0.12299418449401855 \n",
            "\n"
          ],
          "name": "stdout"
        }
      ]
    },
    {
      "cell_type": "code",
      "metadata": {
        "colab": {
          "base_uri": "https://localhost:8080/"
        },
        "id": "VQVbbktDSyK9",
        "outputId": "683638a1-4cdf-4ce6-c1c0-8d0f9d221a88"
      },
      "source": [
        "model = LogisticRegression()\n",
        "acc_LR = []\n",
        "t_LR = []\n",
        "for per in per_range:\n",
        "  accuracy, runtime = runtime_accu(selector, model, per)\n",
        "  acc_LR.append(accuracy)\n",
        "  t_LR.append(runtime)"
      ],
      "execution_count": 38,
      "outputs": [
        {
          "output_type": "stream",
          "text": [
            "(1999, 12)\n",
            "accuracy:  0.6833417085427136\n",
            "runtime:  0.7049853801727295 \n",
            "\n",
            "(1999, 44)\n",
            "accuracy:  0.7508944723618091\n",
            "runtime:  0.747138500213623 \n",
            "\n",
            "(1999, 177)\n",
            "accuracy:  0.8524447236180904\n",
            "runtime:  0.9832291603088379 \n",
            "\n",
            "(1999, 705)\n",
            "accuracy:  0.9049547738693468\n",
            "runtime:  1.3456661701202393 \n",
            "\n",
            "(1999, 2817)\n",
            "accuracy:  0.9304698492462311\n",
            "runtime:  4.627629041671753 \n",
            "\n",
            "(1999, 11266)\n",
            "accuracy:  0.9369723618090452\n",
            "runtime:  10.230558633804321 \n",
            "\n",
            "(1999, 45064)\n",
            "accuracy:  0.9334748743718595\n",
            "runtime:  33.025044202804565 \n",
            "\n"
          ],
          "name": "stdout"
        }
      ]
    },
    {
      "cell_type": "markdown",
      "metadata": {
        "id": "ezBNsGZ6XL4q"
      },
      "source": [
        "### Mutual info"
      ]
    },
    {
      "cell_type": "code",
      "metadata": {
        "id": "vWKMpKk_XOrN"
      },
      "source": [
        "selector = 'mutual_info'"
      ],
      "execution_count": 39,
      "outputs": []
    },
    {
      "cell_type": "code",
      "metadata": {
        "colab": {
          "base_uri": "https://localhost:8080/"
        },
        "id": "eDKQ9KiyKA6P",
        "outputId": "0c6fd98f-113a-41d0-92e2-4f7ed2cd0222"
      },
      "source": [
        "model = LinearSVC(C=1)\n",
        "m_acc_linearsvc = []\n",
        "m_t_linearsvc = []\n",
        "for per in per_range:\n",
        "  accuracy, runtime = runtime_accu(selector, model, per)\n",
        "  m_acc_linearsvc.append(accuracy)\n",
        "  m_t_linearsvc.append(runtime)"
      ],
      "execution_count": 40,
      "outputs": [
        {
          "output_type": "stream",
          "text": [
            "(1999, 12)\n",
            "accuracy:  0.48926633165829153\n",
            "runtime:  0.23307418823242188 \n",
            "\n",
            "(1999, 45)\n",
            "accuracy:  0.743889447236181\n",
            "runtime:  0.1990375518798828 \n",
            "\n",
            "(1999, 177)\n",
            "accuracy:  0.8349271356783919\n",
            "runtime:  0.23114967346191406 \n",
            "\n",
            "(1999, 705)\n",
            "accuracy:  0.8824447236180906\n",
            "runtime:  0.2925853729248047 \n",
            "\n",
            "(1999, 2816)\n",
            "accuracy:  0.9289648241206031\n",
            "runtime:  0.375683069229126 \n",
            "\n",
            "(1999, 11266)\n",
            "accuracy:  0.9354648241206028\n",
            "runtime:  0.4783484935760498 \n",
            "\n",
            "(1999, 45064)\n",
            "accuracy:  0.937467336683417\n",
            "runtime:  0.7096037864685059 \n",
            "\n"
          ],
          "name": "stdout"
        }
      ]
    },
    {
      "cell_type": "code",
      "metadata": {
        "colab": {
          "base_uri": "https://localhost:8080/"
        },
        "id": "qTdb2vw5KA6R",
        "outputId": "f83e2a1f-6700-4ddc-a8b4-8f1b39623d63"
      },
      "source": [
        "model = SVC(C=1)\n",
        "m_acc_svc = []\n",
        "m_t_svc = []\n",
        "for per in per_range:\n",
        "  accuracy, runtime = runtime_accu(selector, model, per)\n",
        "  m_acc_svc.append(accuracy)\n",
        "  m_t_svc.append(runtime)"
      ],
      "execution_count": 41,
      "outputs": [
        {
          "output_type": "stream",
          "text": [
            "(1999, 12)\n",
            "accuracy:  0.48877638190954775\n",
            "runtime:  1.981821060180664 \n",
            "\n",
            "(1999, 45)\n",
            "accuracy:  0.7323768844221106\n",
            "runtime:  2.320124626159668 \n",
            "\n",
            "(1999, 177)\n",
            "accuracy:  0.8164170854271356\n",
            "runtime:  3.5700464248657227 \n",
            "\n",
            "(1999, 705)\n",
            "accuracy:  0.8674346733668342\n",
            "runtime:  6.696924924850464 \n",
            "\n",
            "(1999, 2816)\n",
            "accuracy:  0.922964824120603\n",
            "runtime:  14.301647186279297 \n",
            "\n",
            "(1999, 11266)\n",
            "accuracy:  0.9214597989949749\n",
            "runtime:  18.50215983390808 \n",
            "\n",
            "(1999, 45064)\n",
            "accuracy:  0.9484798994974876\n",
            "runtime:  21.77017331123352 \n",
            "\n"
          ],
          "name": "stdout"
        }
      ]
    },
    {
      "cell_type": "code",
      "metadata": {
        "colab": {
          "base_uri": "https://localhost:8080/"
        },
        "id": "5IiqZQWLKA6S",
        "outputId": "c70908ec-675f-4fb4-d50d-0c0ea6804824"
      },
      "source": [
        "model = MultinomialNB(alpha=1e-10)\n",
        "m_acc_MNB = []\n",
        "m_t_MNB = []\n",
        "for per in per_range:\n",
        "  accuracy, runtime = runtime_accu(selector, model, per)\n",
        "  m_acc_MNB.append(accuracy)\n",
        "  m_t_MNB.append(runtime)"
      ],
      "execution_count": 42,
      "outputs": [
        {
          "output_type": "stream",
          "text": [
            "(1999, 12)\n",
            "accuracy:  0.459251256281407\n",
            "runtime:  0.025593996047973633 \n",
            "\n",
            "(1999, 45)\n",
            "accuracy:  0.698861809045226\n",
            "runtime:  0.021134614944458008 \n",
            "\n",
            "(1999, 177)\n",
            "accuracy:  0.755394472361809\n",
            "runtime:  0.024586200714111328 \n",
            "\n",
            "(1999, 705)\n",
            "accuracy:  0.7949120603015075\n",
            "runtime:  0.027611255645751953 \n",
            "\n",
            "(1999, 2816)\n",
            "accuracy:  0.8734371859296483\n",
            "runtime:  0.03499889373779297 \n",
            "\n",
            "(1999, 11266)\n",
            "accuracy:  0.8999547738693467\n",
            "runtime:  0.06069540977478027 \n",
            "\n",
            "(1999, 45064)\n",
            "accuracy:  0.8904497487437186\n",
            "runtime:  0.1316089630126953 \n",
            "\n"
          ],
          "name": "stdout"
        }
      ]
    },
    {
      "cell_type": "code",
      "metadata": {
        "colab": {
          "base_uri": "https://localhost:8080/"
        },
        "id": "1sXF3ByBKA6T",
        "outputId": "6254ae95-bcbf-4cca-be97-89596f623a14"
      },
      "source": [
        "model = LogisticRegression()\n",
        "m_acc_LR = []\n",
        "m_t_LR = []\n",
        "for per in per_range:\n",
        "  accuracy, runtime = runtime_accu(selector, model, per)\n",
        "  m_acc_LR.append(accuracy)\n",
        "  m_t_LR.append(runtime)"
      ],
      "execution_count": 43,
      "outputs": [
        {
          "output_type": "stream",
          "text": [
            "(1999, 12)\n",
            "accuracy:  0.48726884422110556\n",
            "runtime:  0.6275362968444824 \n",
            "\n",
            "(1999, 45)\n",
            "accuracy:  0.732894472361809\n",
            "runtime:  0.7327344417572021 \n",
            "\n",
            "(1999, 177)\n",
            "accuracy:  0.819429648241206\n",
            "runtime:  1.0448603630065918 \n",
            "\n",
            "(1999, 705)\n",
            "accuracy:  0.8859497487437185\n",
            "runtime:  1.5448241233825684 \n",
            "\n",
            "(1999, 2816)\n",
            "accuracy:  0.9234723618090452\n",
            "runtime:  4.791051149368286 \n",
            "\n",
            "(1999, 11266)\n",
            "accuracy:  0.9314773869346734\n",
            "runtime:  12.009108543395996 \n",
            "\n",
            "(1999, 45064)\n",
            "accuracy:  0.9284773869346734\n",
            "runtime:  32.42049264907837 \n",
            "\n"
          ],
          "name": "stdout"
        }
      ]
    },
    {
      "cell_type": "markdown",
      "metadata": {
        "id": "41vf58GOXTcY"
      },
      "source": [
        "### F score"
      ]
    },
    {
      "cell_type": "code",
      "metadata": {
        "id": "MsWLzgIWXVmw"
      },
      "source": [
        "selector = 'f'"
      ],
      "execution_count": 44,
      "outputs": []
    },
    {
      "cell_type": "code",
      "metadata": {
        "colab": {
          "base_uri": "https://localhost:8080/"
        },
        "id": "7rdnMhq1LsdI",
        "outputId": "44bc5075-4fc5-427e-e2e4-34615faafd72"
      },
      "source": [
        "model = LinearSVC(C=1)\n",
        "f_acc_linearsvc = []\n",
        "f_t_linearsvc = []\n",
        "for per in per_range:\n",
        "  accuracy, runtime = runtime_accu(selector, model, per)\n",
        "  f_acc_linearsvc.append(accuracy)\n",
        "  f_t_linearsvc.append(runtime)"
      ],
      "execution_count": 45,
      "outputs": [
        {
          "output_type": "stream",
          "text": [
            "(1999, 12)\n",
            "accuracy:  0.48926633165829153\n",
            "runtime:  0.22070026397705078 \n",
            "\n",
            "(1999, 45)\n",
            "accuracy:  0.743889447236181\n",
            "runtime:  0.20546174049377441 \n",
            "\n",
            "(1999, 177)\n",
            "accuracy:  0.8349271356783919\n",
            "runtime:  0.2283618450164795 \n",
            "\n",
            "(1999, 705)\n",
            "accuracy:  0.8824447236180906\n",
            "runtime:  0.28603696823120117 \n",
            "\n",
            "(1999, 2816)\n",
            "accuracy:  0.9289648241206031\n",
            "runtime:  0.3725728988647461 \n",
            "\n",
            "(1999, 11266)\n",
            "accuracy:  0.9354648241206028\n",
            "runtime:  0.4726576805114746 \n",
            "\n",
            "(1999, 45064)\n",
            "accuracy:  0.937467336683417\n",
            "runtime:  0.7252578735351562 \n",
            "\n"
          ],
          "name": "stdout"
        }
      ]
    },
    {
      "cell_type": "code",
      "metadata": {
        "colab": {
          "base_uri": "https://localhost:8080/"
        },
        "id": "X_jVQslOLsdJ",
        "outputId": "97b527a9-3a77-4f04-9fca-40f118606246"
      },
      "source": [
        "model = SVC(C=1)\n",
        "f_acc_svc = []\n",
        "f_t_svc = []\n",
        "for per in per_range:\n",
        "  accuracy, runtime = runtime_accu(selector, model, per)\n",
        "  f_acc_svc.append(accuracy)\n",
        "  f_t_svc.append(runtime)"
      ],
      "execution_count": 46,
      "outputs": [
        {
          "output_type": "stream",
          "text": [
            "(1999, 12)\n",
            "accuracy:  0.48877638190954775\n",
            "runtime:  1.9816572666168213 \n",
            "\n",
            "(1999, 45)\n",
            "accuracy:  0.7323768844221106\n",
            "runtime:  2.31567645072937 \n",
            "\n",
            "(1999, 177)\n",
            "accuracy:  0.8164170854271356\n",
            "runtime:  3.5906994342803955 \n",
            "\n",
            "(1999, 705)\n",
            "accuracy:  0.8674346733668342\n",
            "runtime:  6.7101051807403564 \n",
            "\n",
            "(1999, 2816)\n",
            "accuracy:  0.922964824120603\n",
            "runtime:  14.330623865127563 \n",
            "\n",
            "(1999, 11266)\n",
            "accuracy:  0.9214597989949749\n",
            "runtime:  18.508601188659668 \n",
            "\n",
            "(1999, 45064)\n",
            "accuracy:  0.9484798994974876\n",
            "runtime:  21.80891442298889 \n",
            "\n"
          ],
          "name": "stdout"
        }
      ]
    },
    {
      "cell_type": "code",
      "metadata": {
        "colab": {
          "base_uri": "https://localhost:8080/"
        },
        "id": "5C9f5hOGLsdJ",
        "outputId": "0e83e2c0-b8a8-46fa-9826-92e274640f55"
      },
      "source": [
        "model = MultinomialNB(alpha=1e-10)\n",
        "f_acc_MNB = []\n",
        "f_t_MNB = []\n",
        "for per in per_range:\n",
        "  accuracy, runtime = runtime_accu(selector, model, per)\n",
        "  f_acc_MNB.append(accuracy)\n",
        "  f_t_MNB.append(runtime)"
      ],
      "execution_count": 47,
      "outputs": [
        {
          "output_type": "stream",
          "text": [
            "(1999, 12)\n",
            "accuracy:  0.459251256281407\n",
            "runtime:  0.02432107925415039 \n",
            "\n",
            "(1999, 45)\n",
            "accuracy:  0.698861809045226\n",
            "runtime:  0.02331233024597168 \n",
            "\n",
            "(1999, 177)\n",
            "accuracy:  0.755394472361809\n",
            "runtime:  0.02297830581665039 \n",
            "\n",
            "(1999, 705)\n",
            "accuracy:  0.7949120603015075\n",
            "runtime:  0.026443004608154297 \n",
            "\n",
            "(1999, 2816)\n",
            "accuracy:  0.8734371859296483\n",
            "runtime:  0.03405261039733887 \n",
            "\n",
            "(1999, 11266)\n",
            "accuracy:  0.8999547738693467\n",
            "runtime:  0.06131410598754883 \n",
            "\n",
            "(1999, 45064)\n",
            "accuracy:  0.8904497487437186\n",
            "runtime:  0.1331491470336914 \n",
            "\n"
          ],
          "name": "stdout"
        }
      ]
    },
    {
      "cell_type": "code",
      "metadata": {
        "colab": {
          "base_uri": "https://localhost:8080/"
        },
        "id": "6eSiC_sqLsdK",
        "outputId": "8148dbd2-0fb9-4beb-b34b-308736fc04ce"
      },
      "source": [
        "model = LogisticRegression()\n",
        "f_acc_LR = []\n",
        "f_t_LR = []\n",
        "for per in per_range:\n",
        "  accuracy, runtime = runtime_accu(selector, model, per)\n",
        "  f_acc_LR.append(accuracy)\n",
        "  f_t_LR.append(runtime)"
      ],
      "execution_count": 48,
      "outputs": [
        {
          "output_type": "stream",
          "text": [
            "(1999, 12)\n",
            "accuracy:  0.48726884422110556\n",
            "runtime:  0.6448023319244385 \n",
            "\n",
            "(1999, 45)\n",
            "accuracy:  0.732894472361809\n",
            "runtime:  0.7461678981781006 \n",
            "\n",
            "(1999, 177)\n",
            "accuracy:  0.819429648241206\n",
            "runtime:  1.022700548171997 \n",
            "\n",
            "(1999, 705)\n",
            "accuracy:  0.8859497487437185\n",
            "runtime:  1.545456886291504 \n",
            "\n",
            "(1999, 2816)\n",
            "accuracy:  0.9234723618090452\n",
            "runtime:  5.117735862731934 \n",
            "\n",
            "(1999, 11266)\n",
            "accuracy:  0.9314773869346734\n",
            "runtime:  12.574716329574585 \n",
            "\n",
            "(1999, 45064)\n",
            "accuracy:  0.9284773869346734\n",
            "runtime:  32.79120087623596 \n",
            "\n"
          ],
          "name": "stdout"
        }
      ]
    },
    {
      "cell_type": "code",
      "metadata": {
        "id": "CqKShv60XgMw",
        "outputId": "2b0b7c01-f801-4775-a1c0-80476930cb49",
        "colab": {
          "base_uri": "https://localhost:8080/"
        }
      },
      "source": [
        "model = LinearSVC(C=1)\n",
        "for per in per_range:\n",
        "  runtime_accu(selector, model, per)"
      ],
      "execution_count": 49,
      "outputs": [
        {
          "output_type": "stream",
          "text": [
            "(1999, 12)\n",
            "accuracy:  0.48926633165829153\n",
            "runtime:  0.22562551498413086 \n",
            "\n",
            "(1999, 45)\n",
            "accuracy:  0.743889447236181\n",
            "runtime:  0.20238828659057617 \n",
            "\n",
            "(1999, 177)\n",
            "accuracy:  0.8349271356783919\n",
            "runtime:  0.23968768119812012 \n",
            "\n",
            "(1999, 705)\n",
            "accuracy:  0.8824447236180906\n",
            "runtime:  0.29181861877441406 \n",
            "\n",
            "(1999, 2816)\n",
            "accuracy:  0.9289648241206031\n",
            "runtime:  0.37789273262023926 \n",
            "\n",
            "(1999, 11266)\n",
            "accuracy:  0.9354648241206028\n",
            "runtime:  0.48184752464294434 \n",
            "\n",
            "(1999, 45064)\n",
            "accuracy:  0.937467336683417\n",
            "runtime:  0.7214062213897705 \n",
            "\n"
          ],
          "name": "stdout"
        }
      ]
    },
    {
      "cell_type": "code",
      "metadata": {
        "id": "BYNbMRjWXgMx",
        "outputId": "8cdc106c-c883-4d03-e20c-a5c023e6e3a6",
        "colab": {
          "base_uri": "https://localhost:8080/"
        }
      },
      "source": [
        "model = SVC(C=1)\n",
        "for per in per_range:\n",
        "  runtime_accu(selector, model, per)"
      ],
      "execution_count": 50,
      "outputs": [
        {
          "output_type": "stream",
          "text": [
            "(1999, 12)\n",
            "accuracy:  0.48877638190954775\n",
            "runtime:  1.9872286319732666 \n",
            "\n",
            "(1999, 45)\n",
            "accuracy:  0.7323768844221106\n",
            "runtime:  2.328799247741699 \n",
            "\n",
            "(1999, 177)\n",
            "accuracy:  0.8164170854271356\n",
            "runtime:  3.5879952907562256 \n",
            "\n",
            "(1999, 705)\n",
            "accuracy:  0.8674346733668342\n",
            "runtime:  6.7260355949401855 \n",
            "\n",
            "(1999, 2816)\n",
            "accuracy:  0.922964824120603\n",
            "runtime:  14.33727741241455 \n",
            "\n",
            "(1999, 11266)\n",
            "accuracy:  0.9214597989949749\n",
            "runtime:  18.507853507995605 \n",
            "\n",
            "(1999, 45064)\n",
            "accuracy:  0.9484798994974876\n",
            "runtime:  21.809436321258545 \n",
            "\n"
          ],
          "name": "stdout"
        }
      ]
    },
    {
      "cell_type": "code",
      "metadata": {
        "id": "FgMADiU5XgMy",
        "outputId": "3d2db8ec-6cce-4afb-858b-2748ca9b55b6",
        "colab": {
          "base_uri": "https://localhost:8080/"
        }
      },
      "source": [
        "model = MultinomialNB(alpha=1e-10)\n",
        "for per in per_range:\n",
        "  runtime_accu(selector, model, per)"
      ],
      "execution_count": 51,
      "outputs": [
        {
          "output_type": "stream",
          "text": [
            "(1999, 12)\n",
            "accuracy:  0.459251256281407\n",
            "runtime:  0.02485036849975586 \n",
            "\n",
            "(1999, 45)\n",
            "accuracy:  0.698861809045226\n",
            "runtime:  0.02107405662536621 \n",
            "\n",
            "(1999, 177)\n",
            "accuracy:  0.755394472361809\n",
            "runtime:  0.024881839752197266 \n",
            "\n",
            "(1999, 705)\n",
            "accuracy:  0.7949120603015075\n",
            "runtime:  0.026877164840698242 \n",
            "\n",
            "(1999, 2816)\n",
            "accuracy:  0.8734371859296483\n",
            "runtime:  0.03333759307861328 \n",
            "\n",
            "(1999, 11266)\n",
            "accuracy:  0.8999547738693467\n",
            "runtime:  0.06032419204711914 \n",
            "\n",
            "(1999, 45064)\n",
            "accuracy:  0.8904497487437186\n",
            "runtime:  0.13170719146728516 \n",
            "\n"
          ],
          "name": "stdout"
        }
      ]
    },
    {
      "cell_type": "code",
      "metadata": {
        "id": "5P44ETpMXgMz",
        "outputId": "ad627af6-91cc-49de-ee19-08c52c2e41cc",
        "colab": {
          "base_uri": "https://localhost:8080/"
        }
      },
      "source": [
        "model = LogisticRegression()\n",
        "for per in per_range:\n",
        "  runtime_accu(selector, model, per)"
      ],
      "execution_count": 52,
      "outputs": [
        {
          "output_type": "stream",
          "text": [
            "(1999, 12)\n",
            "accuracy:  0.48726884422110556\n",
            "runtime:  0.6450042724609375 \n",
            "\n",
            "(1999, 45)\n",
            "accuracy:  0.732894472361809\n",
            "runtime:  0.7409074306488037 \n",
            "\n",
            "(1999, 177)\n",
            "accuracy:  0.819429648241206\n",
            "runtime:  1.0322811603546143 \n",
            "\n",
            "(1999, 705)\n",
            "accuracy:  0.8859497487437185\n",
            "runtime:  1.5712218284606934 \n",
            "\n",
            "(1999, 2816)\n",
            "accuracy:  0.9234723618090452\n",
            "runtime:  4.807595252990723 \n",
            "\n",
            "(1999, 11266)\n",
            "accuracy:  0.9314773869346734\n",
            "runtime:  12.822061538696289 \n",
            "\n",
            "(1999, 45064)\n",
            "accuracy:  0.9284773869346734\n",
            "runtime:  33.63855195045471 \n",
            "\n"
          ],
          "name": "stdout"
        }
      ]
    },
    {
      "cell_type": "markdown",
      "metadata": {
        "id": "Mux8A-BOXq1P"
      },
      "source": [
        "## Data Visualization"
      ]
    },
    {
      "cell_type": "code",
      "metadata": {
        "id": "b6S9q2GeSu7Q"
      },
      "source": [
        "import matplotlib.pyplot as plt\r\n",
        "from collections import Counter"
      ],
      "execution_count": 54,
      "outputs": []
    },
    {
      "cell_type": "code",
      "metadata": {
        "colab": {
          "base_uri": "https://localhost:8080/"
        },
        "id": "bNi8Qz1fXvXs",
        "outputId": "94608da9-d7e6-460d-dfbd-77b95229087a"
      },
      "source": [
        "\r\n",
        "\r\n",
        "y_labels = np.unique(y_train)\r\n",
        "\r\n",
        "plt.figure(figsize=(7.5,5),dpi=80) # fig size\r\n",
        "labels = list(Counter(y_labels).keys()) # label\r\n",
        "sizes = list(Counter(y_labels).values())\r\n",
        "\r\n",
        "colors = ['mediumaquamarine','salmon','sandybrown','plum','skyblue'] # color of each sector\r\n",
        "explode = (0.01,0.01,0.01,0.01,0.01)\r\n",
        "patches,text1,text2 = plt.pie(sizes,   \r\n",
        "                      explode = explode,         \r\n",
        "                      labels=labels,\r\n",
        "                      colors=colors,\r\n",
        "                      labeldistance = 1.2,\r\n",
        "                      autopct = '%3.2f%%', \r\n",
        "                      shadow = False, \r\n",
        "                      startangle =90, \r\n",
        "                      pctdistance = 0.6) \r\n",
        "# patches: pie chart，texts1: label text，texts2: pie chart text\r\n",
        "plt.axis('equal')\r\n",
        "plt.legend(title = 'class')\r\n",
        "#plt.savefig('piechart.png')\r\n",
        "plt.show()"
      ],
      "execution_count": null,
      "outputs": [
        {
          "output_type": "display_data",
          "data": {
            "image/png": "[encoded data removed]",
            "text/plain": [
              "<Figure size 600x400 with 1 Axes>"
            ]
          },
          "metadata": {
            "tags": []
          }
        }
      ]
    },
    {
      "cell_type": "markdown",
      "metadata": {
        "id": "149BUaWAaHDf"
      },
      "source": [
        "### Chi2"
      ]
    },
    {
      "cell_type": "code",
      "metadata": {
        "colab": {
          "base_uri": "https://localhost:8080/",
          "height": 303
        },
        "id": "Wj5XWRHMYB9M",
        "outputId": "0d1a05a6-8de4-48b3-8612-234432fc4c49"
      },
      "source": [
        "# plot accuracy with x2\r\n",
        "# Data\r\n",
        "df=pd.DataFrame({'x_values': per_range, 'y1_values': acc_linearsvc, 'y2_values': acc_svc, 'y3_values': acc_MNB, 'y4_values': acc_LR})\r\n",
        "\r\n",
        "# multiple line plots\r\n",
        "plt.plot( 'x_values', 'y1_values', data=df, marker='.', markerfacecolor='mediumaquamarine', markersize=12, color='mediumaquamarine', label=\"LinearSVC\")\r\n",
        "plt.plot( 'x_values', 'y2_values', data=df, marker='.', markerfacecolor='salmon', markersize=12, color='salmon', label=\"RBF SVC\")\r\n",
        "plt.plot( 'x_values', 'y3_values', data=df, marker='.', markerfacecolor='skyblue', markersize=12, color='skyblue', label=\"MultinomialNB\")\r\n",
        "plt.plot( 'x_values', 'y4_values', data=df, marker='.', markerfacecolor='sandybrown', markersize=12, color='sandybrown', label=\"Logistic Regression\")\r\n",
        "plt.xscale('log',basex=2)\r\n",
        "plt.xticks(per_range)\r\n",
        "plt.grid(linestyle='-.')\r\n",
        "plt.legend()\r\n",
        "plt.title('Feature Selection Using $X^2$')\r\n",
        "plt.xlabel('Number of Features (percentile)')\r\n",
        "plt.ylabel('Accuracy')\r\n",
        "plt.savefig('acc_x2.png')\r\n",
        "fig_width, fig_height = plt.gcf().get_size_inches()\r\n",
        "plt.show()\r\n"
      ],
      "execution_count": 66,
      "outputs": [
        {
          "output_type": "display_data",
          "data": {
            "image/png": "[encoded data removed]",
            "text/plain": [
              "<Figure size 432x288 with 1 Axes>"
            ]
          },
          "metadata": {
            "tags": [],
            "needs_background": "light"
          }
        }
      ]
    },
    {
      "cell_type": "code",
      "metadata": {
        "colab": {
          "base_uri": "https://localhost:8080/",
          "height": 319
        },
        "id": "fgdmXnvw-P9K",
        "outputId": "a4038264-03ff-479d-b268-9d069c6282b5"
      },
      "source": [
        "# plot runtime with x2\r\n",
        "# Data\r\n",
        "df=pd.DataFrame({'x_values': per_range, 'y1_values': t_linearsvc, 'y2_values': t_svc, 'y3_values': t_MNB, 'y4_values': t_LR})\r\n",
        " \r\n",
        "# multiple line plots\r\n",
        "plt.figure(figsize=(fig_width+0.3,fig_height+0.3))\r\n",
        "plt.plot( 'x_values', 'y1_values', data=df, marker='.', markerfacecolor='mediumaquamarine', markersize=12, color='mediumaquamarine', label=\"LinearSVC\")\r\n",
        "plt.plot( 'x_values', 'y2_values', data=df, marker='.', markerfacecolor='salmon', markersize=12, color='salmon', label=\"RBF SVC\")\r\n",
        "plt.plot( 'x_values', 'y3_values', data=df, marker='.', markerfacecolor='skyblue', markersize=12, color='skyblue', label=\"MultinomialNB\")\r\n",
        "plt.plot( 'x_values', 'y4_values', data=df, marker='.', markerfacecolor='sandybrown', markersize=12, color='sandybrown', label=\"Logistic Regression\")\r\n",
        "plt.xscale('log',basex=2)\r\n",
        "plt.xticks(per_range)\r\n",
        "plt.yscale('log')\r\n",
        "plt.grid(linestyle='-.')\r\n",
        "plt.legend()\r\n",
        "plt.title('Feature Selection Using $X^2$')\r\n",
        "plt.xlabel('Number of Features (percentile)')\r\n",
        "plt.ylabel('Runtime (secondes)')\r\n",
        "plt.savefig('t_x2.png')\r\n",
        "plt.show()"
      ],
      "execution_count": 67,
      "outputs": [
        {
          "output_type": "display_data",
          "data": {
            "image/png": "[encoded data removed]",
            "text/plain": [
              "<Figure size 453.6x309.6 with 1 Axes>"
            ]
          },
          "metadata": {
            "tags": [],
            "needs_background": "light"
          }
        }
      ]
    },
    {
      "cell_type": "markdown",
      "metadata": {
        "id": "2Qdv4ZVeSqo8"
      },
      "source": [
        "### Mutual"
      ]
    },
    {
      "cell_type": "code",
      "metadata": {
        "colab": {
          "base_uri": "https://localhost:8080/",
          "height": 299
        },
        "id": "UVcew3yjSqpG",
        "outputId": "cc6b766b-a447-415b-9155-42f57eaaa8dc"
      },
      "source": [
        "# plot accuracy with x2\r\n",
        "# Data\r\n",
        "df=pd.DataFrame({'x_values': per_range, 'y1_values': m_acc_linearsvc, 'y2_values': m_acc_svc, 'y3_values': m_acc_MNB, 'y4_values': m_acc_LR})\r\n",
        " \r\n",
        "# multiple line plots\r\n",
        "#plt.figure(figsize=(8,5))\r\n",
        "plt.plot( 'x_values', 'y1_values', data=df, marker='.', markerfacecolor='mediumaquamarine', markersize=12, color='mediumaquamarine', label=\"LinearSVC\")\r\n",
        "plt.plot( 'x_values', 'y2_values', data=df, marker='.', markerfacecolor='salmon', markersize=12, color='salmon', label=\"RBF SVC\")\r\n",
        "plt.plot( 'x_values', 'y3_values', data=df, marker='.', markerfacecolor='skyblue', markersize=12, color='skyblue', label=\"MultinomialNB\")\r\n",
        "plt.plot( 'x_values', 'y4_values', data=df, marker='.', markerfacecolor='sandybrown', markersize=12, color='sandybrown', label=\"Logistic Regression\")\r\n",
        "plt.xscale('log',basex=2)\r\n",
        "plt.xticks(per_range)\r\n",
        "plt.grid(linestyle='-.')\r\n",
        "plt.legend()\r\n",
        "plt.title('Feature Selection Using Using Mutual Information')\r\n",
        "plt.xlabel('Number of Features (percentile)')\r\n",
        "plt.ylabel('Accuracy')\r\n",
        "plt.savefig('acc_mutual.png')\r\n",
        "fig_width, fig_height = plt.gcf().get_size_inches()\r\n",
        "plt.show()\r\n"
      ],
      "execution_count": 68,
      "outputs": [
        {
          "output_type": "display_data",
          "data": {
            "image/png": "[encoded data removed]",
            "text/plain": [
              "<Figure size 432x288 with 1 Axes>"
            ]
          },
          "metadata": {
            "tags": [],
            "needs_background": "light"
          }
        }
      ]
    },
    {
      "cell_type": "code",
      "metadata": {
        "colab": {
          "base_uri": "https://localhost:8080/",
          "height": 315
        },
        "id": "qPdKCRKQSqpI",
        "outputId": "552655bc-ea55-4a45-b266-ebc792c6ba4e"
      },
      "source": [
        "# plot runtime with x2\r\n",
        "# Data\r\n",
        "df=pd.DataFrame({'x_values': per_range, 'y1_values': m_t_linearsvc, 'y2_values': m_t_svc, 'y3_values': m_t_MNB, 'y4_values': m_t_LR})\r\n",
        " \r\n",
        "# multiple line plots\r\n",
        "plt.figure(figsize=(fig_width+0.3,fig_height+0.3))\r\n",
        "plt.plot( 'x_values', 'y1_values', data=df, marker='.', markerfacecolor='mediumaquamarine', markersize=12, color='mediumaquamarine', label=\"LinearSVC\")\r\n",
        "plt.plot( 'x_values', 'y2_values', data=df, marker='.', markerfacecolor='salmon', markersize=12, color='salmon', label=\"RBF SVC\")\r\n",
        "plt.plot( 'x_values', 'y3_values', data=df, marker='.', markerfacecolor='skyblue', markersize=12, color='skyblue', label=\"MultinomialNB\")\r\n",
        "plt.plot( 'x_values', 'y4_values', data=df, marker='.', markerfacecolor='sandybrown', markersize=12, color='sandybrown', label=\"Logistic Regression\")\r\n",
        "plt.xscale('log',basex=2)\r\n",
        "plt.xticks(per_range)\r\n",
        "plt.yscale('log')\r\n",
        "plt.grid(linestyle='-.')\r\n",
        "plt.legend()\r\n",
        "plt.title('Feature Selection Using Mutual Information')\r\n",
        "plt.xlabel('Number of Features (percentile)')\r\n",
        "plt.ylabel('Runtime (secondes)')\r\n",
        "plt.savefig('t_mutual.png')\r\n",
        "plt.show()"
      ],
      "execution_count": 69,
      "outputs": [
        {
          "output_type": "display_data",
          "data": {
            "image/png": "[encoded data removed]",
            "text/plain": [
              "<Figure size 453.6x309.6 with 1 Axes>"
            ]
          },
          "metadata": {
            "tags": [],
            "needs_background": "light"
          }
        }
      ]
    },
    {
      "cell_type": "markdown",
      "metadata": {
        "id": "uyuyIu_eSxWh"
      },
      "source": [
        "### F Score"
      ]
    },
    {
      "cell_type": "code",
      "metadata": {
        "colab": {
          "base_uri": "https://localhost:8080/",
          "height": 299
        },
        "id": "mYmty8bWSxWh",
        "outputId": "54f8bf55-4931-46cc-fb4c-715613ecf200"
      },
      "source": [
        "# plot accuracy with x2\r\n",
        "# Data\r\n",
        "df=pd.DataFrame({'x_values': per_range, 'y1_values': f_acc_linearsvc, 'y2_values': f_acc_svc, 'y3_values': f_acc_MNB, 'y4_values': f_acc_LR})\r\n",
        " \r\n",
        "# multiple line plots\r\n",
        "#plt.figure(figsize=(8,5))\r\n",
        "plt.plot( 'x_values', 'y1_values', data=df, marker='.', markerfacecolor='mediumaquamarine', markersize=12, color='mediumaquamarine', label=\"LinearSVC\")\r\n",
        "plt.plot( 'x_values', 'y2_values', data=df, marker='.', markerfacecolor='salmon', markersize=12, color='salmon', label=\"RBF SVC\")\r\n",
        "plt.plot( 'x_values', 'y3_values', data=df, marker='.', markerfacecolor='skyblue', markersize=12, color='skyblue', label=\"MultinomialNB\")\r\n",
        "plt.plot( 'x_values', 'y4_values', data=df, marker='.', markerfacecolor='sandybrown', markersize=12, color='sandybrown', label=\"Logistic Regression\")\r\n",
        "plt.xscale('log',basex=2)\r\n",
        "plt.xticks(per_range)\r\n",
        "plt.grid(linestyle='-.')\r\n",
        "plt.legend()\r\n",
        "plt.title('Feature Selection Using F-Value')\r\n",
        "plt.xlabel('Number of Features (percentile)')\r\n",
        "plt.ylabel('Accuracy')\r\n",
        "plt.savefig('acc_fscore.png')\r\n",
        "fig_width, fig_height = plt.gcf().get_size_inches()\r\n",
        "plt.show()\r\n"
      ],
      "execution_count": 70,
      "outputs": [
        {
          "output_type": "display_data",
          "data": {
            "image/png": "[encoded data removed]",
            "text/plain": [
              "<Figure size 432x288 with 1 Axes>"
            ]
          },
          "metadata": {
            "tags": [],
            "needs_background": "light"
          }
        }
      ]
    },
    {
      "cell_type": "code",
      "metadata": {
        "colab": {
          "base_uri": "https://localhost:8080/",
          "height": 315
        },
        "id": "PtkfcZiwSxWj",
        "outputId": "2b86373c-8127-460c-9e74-563cde0727ca"
      },
      "source": [
        "# plot runtime with x2\r\n",
        "# Data\r\n",
        "df=pd.DataFrame({'x_values': per_range, 'y1_values': f_t_linearsvc, 'y2_values': f_t_svc, 'y3_values': f_t_MNB, 'y4_values': f_t_LR})\r\n",
        " \r\n",
        "# multiple line plots\r\n",
        "plt.figure(figsize=(fig_width+0.3,fig_height+0.3))\r\n",
        "plt.plot( 'x_values', 'y1_values', data=df, marker='.', markerfacecolor='mediumaquamarine', markersize=12, color='mediumaquamarine', label=\"LinearSVC\")\r\n",
        "plt.plot( 'x_values', 'y2_values', data=df, marker='.', markerfacecolor='salmon', markersize=12, color='salmon', label=\"RBF SVC\")\r\n",
        "plt.plot( 'x_values', 'y3_values', data=df, marker='.', markerfacecolor='skyblue', markersize=12, color='skyblue', label=\"MultinomialNB\")\r\n",
        "plt.plot( 'x_values', 'y4_values', data=df, marker='.', markerfacecolor='sandybrown', markersize=12, color='sandybrown', label=\"Logistic Regression\")\r\n",
        "plt.xscale('log',basex=2)\r\n",
        "plt.xticks(per_range)\r\n",
        "plt.yscale('log')\r\n",
        "plt.grid(linestyle='-.')\r\n",
        "plt.legend()\r\n",
        "plt.title('Feature Selection Using F-Value')\r\n",
        "plt.xlabel('Number of Features (percentile)')\r\n",
        "plt.ylabel('Runtime (secondes)')\r\n",
        "plt.savefig('t_fscore.png')\r\n",
        "plt.show()"
      ],
      "execution_count": 71,
      "outputs": [
        {
          "output_type": "display_data",
          "data": {
            "image/png": "[encoded data removed]",
            "text/plain": [
              "<Figure size 453.6x309.6 with 1 Axes>"
            ]
          },
          "metadata": {
            "tags": [],
            "needs_background": "light"
          }
        }
      ]
    },
    {
      "cell_type": "markdown",
      "metadata": {
        "id": "nwKB1KjFZGzv"
      },
      "source": [
        "## Ignore for now"
      ]
    },
    {
      "cell_type": "markdown",
      "metadata": {
        "id": "_OIvmZHu6z52"
      },
      "source": [
        "### 13.4.1 selectfrommodel L1 norm"
      ]
    },
    {
      "cell_type": "code",
      "metadata": {
        "colab": {
          "base_uri": "https://localhost:8080/"
        },
        "id": "lBeC2asR6ycf",
        "outputId": "5b3e106e-5673-41c9-ae32-7d3ed35a5c92"
      },
      "source": [
        "estimator = LinearSVC(C=10, penalty=\"l1\",dual=False)\r\n",
        "select = SelectFromModel(estimator,max_features=5000)\r\n",
        "vectors_train_Lemma_SFML1 = select.fit_transform(vectors_train_stop_tfidf_Lemma, y_train_num)\r\n",
        "vectors_test_Lemma_SFML1 = select.transform(vectors_test_stop_tfidf_Lemma)\r\n",
        "print(vectors_train_Lemma_SFML1.shape)"
      ],
      "execution_count": null,
      "outputs": [
        {
          "output_type": "stream",
          "text": [
            "(1999, 2091)\n"
          ],
          "name": "stdout"
        },
        {
          "output_type": "stream",
          "text": [
            "/usr/local/lib/python3.7/dist-packages/sklearn/svm/_base.py:947: ConvergenceWarning: Liblinear failed to converge, increase the number of iterations.\n",
            "  \"the number of iterations.\", ConvergenceWarning)\n"
          ],
          "name": "stderr"
        }
      ]
    },
    {
      "cell_type": "code",
      "metadata": {
        "id": "1LcRUVHh9EA6",
        "colab": {
          "base_uri": "https://localhost:8080/"
        },
        "outputId": "01da2eac-02a9-4d32-fce4-953b0f81ccd8"
      },
      "source": [
        "estimator = LinearSVC(C=10, penalty=\"l1\",dual=False)\r\n",
        "select = SelectFromModel(estimator,max_features=5000)\r\n",
        "vectors_train_stem_SFML1 = select.fit_transform(vectors_train_stop_tfidf_stem, y_train_num)\r\n",
        "vectors_test_stem_SFML1 = select.transform(vectors_test_stop_tfidf_stem)\r\n",
        "print(vectors_train_stem_SFML1.shape)"
      ],
      "execution_count": null,
      "outputs": [
        {
          "output_type": "stream",
          "text": [
            "(1999, 2064)\n"
          ],
          "name": "stdout"
        },
        {
          "output_type": "stream",
          "text": [
            "/usr/local/lib/python3.7/dist-packages/sklearn/svm/_base.py:947: ConvergenceWarning: Liblinear failed to converge, increase the number of iterations.\n",
            "  \"the number of iterations.\", ConvergenceWarning)\n"
          ],
          "name": "stderr"
        }
      ]
    },
    {
      "cell_type": "markdown",
      "metadata": {
        "id": "A40q_6BkgLzb"
      },
      "source": [
        "### 13.4.2 selectfrommodel tree"
      ]
    },
    {
      "cell_type": "code",
      "metadata": {
        "id": "xlCpRznsc3O8",
        "colab": {
          "base_uri": "https://localhost:8080/"
        },
        "outputId": "99883c04-2b72-45c8-c773-6048de7925c7"
      },
      "source": [
        "clf = ExtraTreesClassifier()\r\n",
        "clf = clf.fit(vectors_train_stop_tfidf_Lemma, y_train_num)\r\n",
        "model = SelectFromModel(clf, prefit=True)\r\n",
        "vectors_train_Lemma_SFMtree = model.transform(vectors_train_stop_tfidf_Lemma)\r\n",
        "vectors_train_Lemma_SFMtree.shape"
      ],
      "execution_count": null,
      "outputs": [
        {
          "output_type": "execute_result",
          "data": {
            "text/plain": [
              "(1999, 9466)"
            ]
          },
          "metadata": {
            "tags": []
          },
          "execution_count": 45
        }
      ]
    },
    {
      "cell_type": "code",
      "metadata": {
        "id": "7kBgGpDLfTXV",
        "colab": {
          "base_uri": "https://localhost:8080/"
        },
        "outputId": "889199a4-79f6-482a-8f83-901134789bc1"
      },
      "source": [
        "clf = ExtraTreesClassifier()\r\n",
        "clf = clf.fit(vectors_train_stop_tfidf_stem, y_train_num)\r\n",
        "model = SelectFromModel(clf, prefit=True)\r\n",
        "vectors_train_stem_SFMtree = model.transform(vectors_train_stop_tfidf_stem)\r\n",
        "vectors_train_stem_SFMtree.shape"
      ],
      "execution_count": null,
      "outputs": [
        {
          "output_type": "execute_result",
          "data": {
            "text/plain": [
              "(1999, 9776)"
            ]
          },
          "metadata": {
            "tags": []
          },
          "execution_count": 46
        }
      ]
    },
    {
      "cell_type": "markdown",
      "metadata": {
        "id": "x4imy8E_6ALI"
      },
      "source": [
        "###Recursive feature elimination"
      ]
    },
    {
      "cell_type": "code",
      "metadata": {
        "id": "ndYrr7lLUPo_",
        "colab": {
          "base_uri": "https://localhost:8080/"
        },
        "outputId": "5baa1536-9207-44e8-a65b-ce3061857c28"
      },
      "source": [
        "estimator = LinearSVC()\r\n",
        "select = RFECV(estimator, step=700,scoring='accuracy', n_jobs=-1)\r\n",
        "vectors_train_Lemma_RFESVC = select.fit_transform(vectors_train_stop_tfidf_Lemma, y_train_num)\r\n",
        "vectors_test_Lemma_RFESVC = select.transform(vectors_test_stop_tfidf_Lemma)\r\n",
        "print(vectors_train_Lemma_RFESVC.shape)"
      ],
      "execution_count": null,
      "outputs": [
        {
          "output_type": "stream",
          "text": [
            "(1999, 18614)\n"
          ],
          "name": "stdout"
        }
      ]
    },
    {
      "cell_type": "code",
      "metadata": {
        "colab": {
          "base_uri": "https://localhost:8080/"
        },
        "id": "yZs_Ql-7dkRk",
        "outputId": "78d8e04c-8829-41d7-f90a-e0c78d411671"
      },
      "source": [
        "model = LinearSVC()\n",
        "# model.fit(vectors_train_Lemma_RFESVC, y_num)\n",
        "cross_val_score(model, vectors_train_Lemma_RFESVC, y_train_num).mean()"
      ],
      "execution_count": null,
      "outputs": [
        {
          "output_type": "execute_result",
          "data": {
            "text/plain": [
              "0.9384661654135338"
            ]
          },
          "metadata": {
            "tags": []
          },
          "execution_count": 55
        }
      ]
    },
    {
      "cell_type": "code",
      "metadata": {
        "id": "c2rkgQ_OW2H-"
      },
      "source": [
        "estimator = LinearSVC()\r\n",
        "select = RFECV(estimator, step=85,scoring='accuracy')\r\n",
        "vectors_train_stem_RFESVC = select.fit_transform(vectors_train_stop_tfidf_stem, y_train_num)\r\n",
        "vectors_test_stem_RFESVC = select.transform(vectors_test_stop_tfidf_stem)\r\n",
        "print(vectors_train_stem_RFESVC.shape)"
      ],
      "execution_count": null,
      "outputs": []
    },
    {
      "cell_type": "code",
      "metadata": {
        "id": "W39u3IvUYa-q"
      },
      "source": [
        "estimator = LogisticRegression()\r\n",
        "select = RFECV(estimator, step=98,scoring='accuracy')\r\n",
        "vectors_train_Lemma_RFELR = select.fit_transform(vectors_train_stop_tfidf_Lemma, y_train_num)\r\n",
        "vectors_test_Lemma_RFELR = select.transform(vectors_test_stop_tfidf_Lemma)\r\n",
        "print(vectors_train_Lemma_RFELR.shape)"
      ],
      "execution_count": null,
      "outputs": []
    },
    {
      "cell_type": "code",
      "metadata": {
        "id": "VVjen15SY5X9"
      },
      "source": [
        "estimator = LogisticRegression()\r\n",
        "select = RFECV(estimator, step=85,scoring='accuracy')\r\n",
        "vectors_train_stem_RFELR = select.fit_transform(vectors_train_stop_tfidf_stem, y_train_num)\r\n",
        "vectors_test_stem_RFELR = select.transform(vectors_test_stop_tfidf_stem)\r\n",
        "print(vectors_train_stem_RFELR.shape)"
      ],
      "execution_count": null,
      "outputs": []
    },
    {
      "cell_type": "code",
      "metadata": {
        "id": "A40g9do-ZqjJ"
      },
      "source": [
        "estimator = MultinomialNB()\r\n",
        "select = RFECV(estimator, step=98,scoring='accuracy')\r\n",
        "vectors_train_Lemma_RFEMNB = select.fit_transform(vectors_train_stop_tfidf_Lemma, y_train_num)\r\n",
        "vectors_test_Lemma_RFEMNB = select.transform(vectors_test_stop_tfidf_Lemma)\r\n",
        "print(vectors_train_Lemma_RFEMNB.shape)"
      ],
      "execution_count": null,
      "outputs": []
    },
    {
      "cell_type": "code",
      "metadata": {
        "id": "uf-xuvLUbOm2"
      },
      "source": [
        "estimator = MultinomialNB()\r\n",
        "select = RFECV(estimator, step=85,scoring='accuracy')\r\n",
        "vectors_train_stem_RFEMNB = select.fit_transform(vectors_train_stop_tfidf_stem, y_train_num)\r\n",
        "vectors_test_stem_RFEMNB = select.transform(vectors_test_stop_tfidf_stem)\r\n",
        "print(vectors_train_stem_RFEMNB.shape)"
      ],
      "execution_count": null,
      "outputs": []
    },
    {
      "cell_type": "markdown",
      "metadata": {
        "id": "w4bpJ3t0TMnS"
      },
      "source": [
        "### Experiment on sklearn models (with NGRAM)"
      ]
    },
    {
      "cell_type": "markdown",
      "metadata": {
        "id": "L41zKhUPVj2l"
      },
      "source": [
        "### Find the best set of features\n",
        "We have 16 sets in total\n",
        "\n",
        "\n",
        "The best are \n",
        "\n",
        "vectors_train_Lemma_X2\n",
        "\n",
        "vectors_train_Lemma_F\n",
        "\n",
        "vectors_train_Lemma_SFML1"
      ]
    },
    {
      "cell_type": "code",
      "metadata": {
        "colab": {
          "base_uri": "https://localhost:8080/"
        },
        "id": "pZQ1dRU4yIpa",
        "outputId": "4ae62430-67f9-48c0-e63a-7f96f21e80a3"
      },
      "source": [
        "model = LinearSVC()\n",
        "scores = cross_val_score(model, vectors_train_Lemma_X2, y_train_num, cv=10)\n",
        "print(scores.mean())\n",
        "\n",
        "model = LinearSVC()\n",
        "scores = cross_val_score(model, vectors_train_stem_X2, y_train_num, cv=10)\n",
        "print(scores.mean())\n",
        "\n",
        "model = LinearSVC()\n",
        "scores = cross_val_score(model, vectors_train_Lemma_mutual, y_train_num, cv=10)\n",
        "print(scores.mean())\n",
        "\n",
        "model = LinearSVC()\n",
        "scores = cross_val_score(model, vectors_train_stem_mutual, y_train_num, cv=10)\n",
        "print(scores.mean())\n",
        "\n",
        "model = LinearSVC()\n",
        "scores = cross_val_score(model, vectors_train_Lemma_F, y_train_num, cv=10)\n",
        "print(scores.mean())\n",
        "\n",
        "model = LinearSVC()\n",
        "scores = cross_val_score(model, vectors_train_stem_F, y_train_num, cv=10)\n",
        "print(scores.mean())\n",
        "\n",
        "model = LinearSVC()\n",
        "scores = cross_val_score(model, vectors_train_Lemma_FPR, y_train_num, cv=10)\n",
        "print(scores.mean())\n",
        "\n",
        "model = LinearSVC()\n",
        "scores = cross_val_score(model, vectors_train_stem_FPR, y_train_num, cv=10)\n",
        "print(scores.mean())\n",
        "\n",
        "model = LinearSVC()\n",
        "scores = cross_val_score(model, vectors_train_Lemma_FDR, y_train_num, cv=10)\n",
        "print(scores.mean())\n",
        "\n",
        "model = LinearSVC()\n",
        "scores = cross_val_score(model, vectors_train_stem_FDR, y_train_num, cv=10)\n",
        "print(scores.mean())\n",
        "\n",
        "model = LinearSVC()\n",
        "scores = cross_val_score(model, vectors_train_Lemma_FWE, y_train_num, cv=10)\n",
        "print(scores.mean())\n",
        "\n",
        "model = LinearSVC()\n",
        "scores = cross_val_score(model, vectors_train_stem_FWE, y_train_num, cv=10)\n",
        "print(scores.mean())\n",
        "\n",
        "model = LinearSVC()\n",
        "scores = cross_val_score(model, vectors_train_Lemma_SFML1, y_train_num, cv=10)\n",
        "print(scores.mean())\n",
        "\n",
        "model = LinearSVC()\n",
        "scores = cross_val_score(model, vectors_train_stem_SFML1, y_train_num, cv=10)\n",
        "print(scores.mean())\n",
        "\n",
        "model = LinearSVC()\n",
        "scores = cross_val_score(model, vectors_train_Lemma_SFMtree, y_train_num, cv=10)\n",
        "print(scores.mean())\n",
        "\n",
        "model = LinearSVC()\n",
        "scores = cross_val_score(model, vectors_train_stem_SFMtree, y_train_num, cv=10)\n",
        "print(scores.mean())"
      ],
      "execution_count": null,
      "outputs": [
        {
          "output_type": "stream",
          "text": [
            "0.9459798994974875\n",
            "0.9449748743718593\n",
            "0.934464824120603\n",
            "0.930462311557789\n",
            "0.9469748743718593\n",
            "0.9449773869346734\n",
            "0.9384698492462311\n",
            "0.9424723618090451\n",
            "0.9214572864321608\n",
            "0.927467336683417\n",
            "0.8869422110552764\n",
            "0.8869422110552764\n",
            "0.9484748743718594\n",
            "0.9464723618090451\n",
            "0.938464824120603\n",
            "0.9339623115577889\n"
          ],
          "name": "stdout"
        }
      ]
    },
    {
      "cell_type": "code",
      "metadata": {
        "colab": {
          "base_uri": "https://localhost:8080/"
        },
        "id": "Ctlyl4oiUzMf",
        "outputId": "c150de98-62ac-49b8-ae20-a9c0504268b3"
      },
      "source": [
        "model = LogisticRegression()\n",
        "scores = cross_val_score(model, vectors_train_Lemma_X2, y_train_num, cv=10)\n",
        "print(scores.mean())\n",
        "\n",
        "model = LogisticRegression()\n",
        "scores = cross_val_score(model, vectors_train_stem_X2, y_train_num, cv=10)\n",
        "print(scores.mean())\n",
        "\n",
        "model = LogisticRegression()\n",
        "scores = cross_val_score(model, vectors_train_Lemma_mutual, y_train_num, cv=10)\n",
        "print(scores.mean())\n",
        "\n",
        "model = LogisticRegression()\n",
        "scores = cross_val_score(model, vectors_train_stem_mutual, y_train_num, cv=10)\n",
        "print(scores.mean())\n",
        "\n",
        "model = LogisticRegression()\n",
        "scores = cross_val_score(model, vectors_train_Lemma_F, y_train_num, cv=10)\n",
        "print(scores.mean())\n",
        "\n",
        "model = LogisticRegression()\n",
        "scores = cross_val_score(model, vectors_train_stem_F, y_train_num, cv=10)\n",
        "print(scores.mean())\n",
        "\n",
        "model = LogisticRegression()\n",
        "scores = cross_val_score(model, vectors_train_Lemma_FPR, y_train_num, cv=10)\n",
        "print(scores.mean())\n",
        "\n",
        "model = LogisticRegression()\n",
        "scores = cross_val_score(model, vectors_train_stem_FPR, y_train_num, cv=10)\n",
        "print(scores.mean())\n",
        "\n",
        "model = LogisticRegression()\n",
        "scores = cross_val_score(model, vectors_train_Lemma_FDR, y_train_num, cv=10)\n",
        "print(scores.mean())\n",
        "\n",
        "model = LogisticRegression()\n",
        "scores = cross_val_score(model, vectors_train_stem_FDR, y_train_num, cv=10)\n",
        "print(scores.mean())\n",
        "\n",
        "model = LogisticRegression()\n",
        "scores = cross_val_score(model, vectors_train_Lemma_FWE, y_train_num, cv=10)\n",
        "print(scores.mean())\n",
        "\n",
        "model = LogisticRegression()\n",
        "scores = cross_val_score(model, vectors_train_stem_FWE, y_train_num, cv=10)\n",
        "print(scores.mean())\n",
        "\n",
        "model = LogisticRegression()\n",
        "scores = cross_val_score(model, vectors_train_Lemma_SFML1, y_train_num, cv=10)\n",
        "print(scores.mean())\n",
        "\n",
        "model = LogisticRegression()\n",
        "scores = cross_val_score(model, vectors_train_stem_SFML1, y_train_num, cv=10)\n",
        "print(scores.mean())\n",
        "\n",
        "model = LogisticRegression()\n",
        "scores = cross_val_score(model, vectors_train_Lemma_SFMtree, y_train_num, cv=10)\n",
        "print(scores.mean())\n",
        "\n",
        "model = LogisticRegression()\n",
        "scores = cross_val_score(model, vectors_train_stem_SFMtree, y_train_num, cv=10)\n",
        "print(scores.mean())"
      ],
      "execution_count": null,
      "outputs": [
        {
          "output_type": "stream",
          "text": [
            "0.9364798994974877\n",
            "0.9354798994974877\n",
            "0.9289748743718593\n",
            "0.9289723618090452\n",
            "0.9374773869346734\n",
            "0.9309748743718593\n",
            "0.9329723618090451\n",
            "0.927467336683417\n",
            "0.9079522613065327\n",
            "0.9109572864321608\n",
            "0.8764422110552765\n",
            "0.8764422110552765\n",
            "0.9274698492462312\n",
            "0.9264698492462312\n",
            "0.9304723618090451\n",
            "0.926469849246231\n"
          ],
          "name": "stdout"
        }
      ]
    },
    {
      "cell_type": "code",
      "metadata": {
        "id": "Xreyyyy0fa3-",
        "colab": {
          "base_uri": "https://localhost:8080/"
        },
        "outputId": "46d5a303-9ebe-4f51-9b32-d10eded9ab5f"
      },
      "source": [
        "model = MultinomialNB()\n",
        "scores = cross_val_score(model, vectors_train_Lemma_X2, y_train_num, cv=10)\n",
        "print(scores.mean())\n",
        "\n",
        "model = MultinomialNB()\n",
        "scores = cross_val_score(model, vectors_train_stem_X2, y_train_num, cv=10)\n",
        "print(scores.mean())\n",
        "\n",
        "model = MultinomialNB()\n",
        "scores = cross_val_score(model, vectors_train_Lemma_mutual, y_train_num, cv=10)\n",
        "print(scores.mean())\n",
        "\n",
        "model = MultinomialNB()\n",
        "scores = cross_val_score(model, vectors_train_stem_mutual, y_train_num, cv=10)\n",
        "print(scores.mean())\n",
        "\n",
        "model = MultinomialNB()\n",
        "scores = cross_val_score(model, vectors_train_Lemma_F, y_train_num, cv=10)\n",
        "print(scores.mean())\n",
        "\n",
        "model = MultinomialNB()\n",
        "scores = cross_val_score(model, vectors_train_stem_F, y_train_num, cv=10)\n",
        "print(scores.mean())\n",
        "\n",
        "model = MultinomialNB()\n",
        "scores = cross_val_score(model, vectors_train_Lemma_FPR, y_train_num, cv=10)\n",
        "print(scores.mean())\n",
        "\n",
        "model = MultinomialNB()\n",
        "scores = cross_val_score(model, vectors_train_stem_FPR, y_train_num, cv=10)\n",
        "print(scores.mean())\n",
        "\n",
        "model = MultinomialNB()\n",
        "scores = cross_val_score(model, vectors_train_Lemma_FDR, y_train_num, cv=10)\n",
        "print(scores.mean())\n",
        "\n",
        "model = MultinomialNB()\n",
        "scores = cross_val_score(model, vectors_train_stem_FDR, y_train_num, cv=10)\n",
        "print(scores.mean())\n",
        "\n",
        "model = MultinomialNB()\n",
        "scores = cross_val_score(model, vectors_train_Lemma_FWE, y_train_num, cv=10)\n",
        "print(scores.mean())\n",
        "\n",
        "model = MultinomialNB()\n",
        "scores = cross_val_score(model, vectors_train_stem_FWE, y_train_num, cv=10)\n",
        "print(scores.mean())\n",
        "\n",
        "model = MultinomialNB()\n",
        "scores = cross_val_score(model, vectors_train_Lemma_SFML1, y_train_num, cv=10)\n",
        "print(scores.mean())\n",
        "\n",
        "model = MultinomialNB()\n",
        "scores = cross_val_score(model, vectors_train_stem_SFML1, y_train_num, cv=10)\n",
        "print(scores.mean())\n",
        "\n",
        "model = MultinomialNB()\n",
        "scores = cross_val_score(model, vectors_train_Lemma_SFMtree, y_train_num, cv=10)\n",
        "print(scores.mean())\n",
        "\n",
        "model = MultinomialNB()\n",
        "scores = cross_val_score(model, vectors_train_stem_SFMtree, y_train_num, cv=10)\n",
        "print(scores.mean())"
      ],
      "execution_count": null,
      "outputs": [
        {
          "output_type": "stream",
          "text": [
            "0.9179673366834171\n",
            "0.9209648241206029\n",
            "0.9164673366834171\n",
            "0.9144648241206029\n",
            "0.9329723618090451\n",
            "0.928967336683417\n",
            "0.9159698492462311\n",
            "0.9214623115577888\n",
            "0.8879497487437185\n",
            "0.8814522613065326\n",
            "0.839929648241206\n",
            "0.839929648241206\n",
            "0.926469849246231\n",
            "0.9324673366834171\n",
            "0.9229698492462312\n",
            "0.9234648241206029\n"
          ],
          "name": "stdout"
        }
      ]
    },
    {
      "cell_type": "markdown",
      "metadata": {
        "id": "Sq5zBLuWWSQH"
      },
      "source": [
        "### Grid search\n",
        "The best features:\n",
        "\n",
        "vectors_train_Lemma_X2\n",
        "\n",
        "vectors_train_Lemma_F\n",
        "\n",
        "vectors_train_Lemma_SFML1"
      ]
    },
    {
      "cell_type": "markdown",
      "metadata": {
        "id": "QrmAJbRtXGNC"
      },
      "source": [
        "#### vectors_train_Lemma_X2\n",
        "Best models: LinearSVM, MultiNB, BernouliNB"
      ]
    },
    {
      "cell_type": "code",
      "metadata": {
        "id": "XB20XzS3FqBL"
      },
      "source": [
        "from sklearn.model_selection import GridSearchCV"
      ],
      "execution_count": null,
      "outputs": []
    },
    {
      "cell_type": "code",
      "metadata": {
        "colab": {
          "base_uri": "https://localhost:8080/"
        },
        "id": "6IzciLosEMMi",
        "outputId": "009a4511-3ac7-4266-9278-f491f7b39bd6"
      },
      "source": [
        "model = LinearSVC()\n",
        "parameters = {\n",
        "    'C': (0.01, 0.1, 1, 10, 100, 1000)\n",
        "}\n",
        "gs_model = GridSearchCV(model, parameters, cv=10, n_jobs=-1)\n",
        "gs_model = gs_model.fit(vectors_train_Lemma_X2, y_train_num)\n",
        "print(gs_model.best_score_)\n",
        "for param_name in sorted(parameters.keys()):\n",
        "    print(\"%s: %r\" % (param_name, gs_model.best_params_[param_name]))"
      ],
      "execution_count": null,
      "outputs": [
        {
          "output_type": "stream",
          "text": [
            "0.9459798994974875\n",
            "C: 1\n"
          ],
          "name": "stdout"
        }
      ]
    },
    {
      "cell_type": "code",
      "metadata": {
        "colab": {
          "base_uri": "https://localhost:8080/"
        },
        "id": "lZxIyqcWQC6u",
        "outputId": "91c67e44-2b55-47b6-ee9c-bbb8b0113a45"
      },
      "source": [
        "model = MultinomialNB()\n",
        "parameters = {\n",
        "    'alpha': (1e-10, 1e-5, 0.1, 0.5, 1, 2), \n",
        "}\n",
        "gs_model = GridSearchCV(model, parameters, cv=10, n_jobs=-1)\n",
        "gs_model = gs_model.fit(vectors_train_Lemma_X2, y_train_num)\n",
        "print(gs_model.best_score_)\n",
        "for param_name in sorted(parameters.keys()):\n",
        "    print(\"%s: %r\" % (param_name, gs_model.best_params_[param_name]))"
      ],
      "execution_count": null,
      "outputs": [
        {
          "output_type": "stream",
          "text": [
            "0.9554849246231155\n",
            "alpha: 1e-10\n"
          ],
          "name": "stdout"
        }
      ]
    },
    {
      "cell_type": "code",
      "metadata": {
        "colab": {
          "base_uri": "https://localhost:8080/"
        },
        "id": "o6eUbXm6QHID",
        "outputId": "bad67195-46d0-4695-9b60-eeca98628fa8"
      },
      "source": [
        "model = BernoulliNB()\n",
        "parameters = {\n",
        "    'alpha': (1e-10, 1e-5, 0.1, 0.5, 1, 2)\n",
        "}\n",
        "gs_model = GridSearchCV(model, parameters, cv=10, n_jobs=-1)\n",
        "gs_model = gs_model.fit(vectors_train_Lemma_X2, y_train_num)\n",
        "print(gs_model.best_score_)\n",
        "for param_name in sorted(parameters.keys()):\n",
        "    print(\"%s: %r\" % (param_name, gs_model.best_params_[param_name]))"
      ],
      "execution_count": null,
      "outputs": [
        {
          "output_type": "stream",
          "text": [
            "0.9469773869346734\n",
            "alpha: 1e-10\n"
          ],
          "name": "stdout"
        }
      ]
    },
    {
      "cell_type": "markdown",
      "metadata": {
        "id": "hQn11XdNXc89"
      },
      "source": [
        "#### vectors_train_Lemma_F\n",
        "Best model: MultiNB, LinearSVM, BernouliNB"
      ]
    },
    {
      "cell_type": "code",
      "metadata": {
        "id": "IzPswnO0XrO_"
      },
      "source": [
        "from sklearn.model_selection import GridSearchCV"
      ],
      "execution_count": null,
      "outputs": []
    },
    {
      "cell_type": "code",
      "metadata": {
        "colab": {
          "base_uri": "https://localhost:8080/"
        },
        "id": "1mqy1F4cXrPL",
        "outputId": "5bfad9f3-bbda-4efb-94a0-83baea4ab90b"
      },
      "source": [
        "model = LinearSVC()\n",
        "parameters = {\n",
        "    'C': (0.01, 0.1, 1, 10, 100, 1000)\n",
        "}\n",
        "gs_model = GridSearchCV(model, parameters, cv=10, n_jobs=-1)\n",
        "gs_model = gs_model.fit(vectors_train_Lemma_F, y_train_num)\n",
        "print(gs_model.best_score_)\n",
        "for param_name in sorted(parameters.keys()):\n",
        "    print(\"%s: %r\" % (param_name, gs_model.best_params_[param_name]))"
      ],
      "execution_count": null,
      "outputs": [
        {
          "output_type": "stream",
          "text": [
            "0.9469748743718593\n",
            "C: 1\n"
          ],
          "name": "stdout"
        }
      ]
    },
    {
      "cell_type": "code",
      "metadata": {
        "colab": {
          "base_uri": "https://localhost:8080/"
        },
        "id": "tYZmNzgMXrPN",
        "outputId": "2992cf18-1a92-4b49-a14b-fb48dacd402c"
      },
      "source": [
        "model = MultinomialNB()\n",
        "parameters = {\n",
        "    'alpha': (1e-10, 1e-5, 0.1, 0.5, 1, 2), \n",
        "}\n",
        "gs_model = GridSearchCV(model, parameters, cv=10, n_jobs=-1)\n",
        "gs_model = gs_model.fit(vectors_train_Lemma_F, y_train_num)\n",
        "print(gs_model.best_score_)\n",
        "for param_name in sorted(parameters.keys()):\n",
        "    print(\"%s: %r\" % (param_name, gs_model.best_params_[param_name]))"
      ],
      "execution_count": null,
      "outputs": [
        {
          "output_type": "stream",
          "text": [
            "0.9639874371859296\n",
            "alpha: 1e-05\n"
          ],
          "name": "stdout"
        }
      ]
    },
    {
      "cell_type": "code",
      "metadata": {
        "colab": {
          "base_uri": "https://localhost:8080/"
        },
        "id": "m1zYdzDxXrPO",
        "outputId": "85b884b3-0049-4f8e-8811-fcfbcd4fb05e"
      },
      "source": [
        "model = BernoulliNB()\n",
        "parameters = {\n",
        "    'alpha': (1e-10, 1e-5, 0.1, 0.5, 1, 2)\n",
        "}\n",
        "gs_model = GridSearchCV(model, parameters, cv=10, n_jobs=-1)\n",
        "gs_model = gs_model.fit(vectors_train_Lemma_F, y_train_num)\n",
        "print(gs_model.best_score_)\n",
        "for param_name in sorted(parameters.keys()):\n",
        "    print(\"%s: %r\" % (param_name, gs_model.best_params_[param_name]))"
      ],
      "execution_count": null,
      "outputs": [
        {
          "output_type": "stream",
          "text": [
            "0.9594824120603015\n",
            "alpha: 1e-10\n"
          ],
          "name": "stdout"
        }
      ]
    },
    {
      "cell_type": "markdown",
      "metadata": {
        "id": "q4zY3GidX5ak"
      },
      "source": [
        "#### vectors_train_Lemma_SFML1\n",
        "Best model: MultiNB, LinearSVM, BernouliNB"
      ]
    },
    {
      "cell_type": "code",
      "metadata": {
        "id": "0v2HbixzX8GN"
      },
      "source": [
        "from sklearn.model_selection import GridSearchCV"
      ],
      "execution_count": null,
      "outputs": []
    },
    {
      "cell_type": "code",
      "metadata": {
        "colab": {
          "base_uri": "https://localhost:8080/"
        },
        "id": "NjO6eBlQX8GY",
        "outputId": "58800e3b-7307-40fb-96bc-b13ae296c84e"
      },
      "source": [
        "model = LinearSVC()\n",
        "parameters = {\n",
        "    'C': (0.01, 0.1, 1, 10, 100, 1000)\n",
        "}\n",
        "gs_model = GridSearchCV(model, parameters, cv=10, n_jobs=-1)\n",
        "gs_model = gs_model.fit(vectors_train_Lemma_SFML1, y_train_num)\n",
        "print(gs_model.best_score_)\n",
        "for param_name in sorted(parameters.keys()):\n",
        "    print(\"%s: %r\" % (param_name, gs_model.best_params_[param_name]))"
      ],
      "execution_count": null,
      "outputs": [
        {
          "output_type": "stream",
          "text": [
            "0.9594874371859297\n",
            "C: 10\n"
          ],
          "name": "stdout"
        }
      ]
    },
    {
      "cell_type": "code",
      "metadata": {
        "colab": {
          "base_uri": "https://localhost:8080/"
        },
        "id": "-TjSc2XjX8Gb",
        "outputId": "488d4d01-bf36-417f-951c-b4e1497db209"
      },
      "source": [
        "model = MultinomialNB()\n",
        "parameters = {\n",
        "    'alpha': (1e-10, 1e-5, 0.1, 0.5, 1, 2), \n",
        "}\n",
        "gs_model = GridSearchCV(model, parameters, cv=10, n_jobs=-1)\n",
        "gs_model = gs_model.fit(vectors_train_Lemma_SFML1, y_train_num)\n",
        "print(gs_model.best_score_)\n",
        "for param_name in sorted(parameters.keys()):\n",
        "    print(\"%s: %r\" % (param_name, gs_model.best_params_[param_name]))"
      ],
      "execution_count": null,
      "outputs": [
        {
          "output_type": "stream",
          "text": [
            "0.9439773869346734\n",
            "alpha: 0.1\n"
          ],
          "name": "stdout"
        }
      ]
    },
    {
      "cell_type": "code",
      "metadata": {
        "colab": {
          "base_uri": "https://localhost:8080/"
        },
        "id": "TEHjQk3iX8Gb",
        "outputId": "2e2b7e6a-5024-496f-acf8-16d95b1a3176"
      },
      "source": [
        "model = BernoulliNB()\n",
        "parameters = {\n",
        "    'alpha': (1e-10, 1e-5, 0.1, 0.5, 1, 2)\n",
        "}\n",
        "gs_model = GridSearchCV(model, parameters, cv=10, n_jobs=-1)\n",
        "gs_model = gs_model.fit(vectors_train_Lemma_SFML1, y_train_num)\n",
        "print(gs_model.best_score_)\n",
        "for param_name in sorted(parameters.keys()):\n",
        "    print(\"%s: %r\" % (param_name, gs_model.best_params_[param_name]))"
      ],
      "execution_count": null,
      "outputs": [
        {
          "output_type": "stream",
          "text": [
            "0.9519874371859297\n",
            "alpha: 0.1\n"
          ],
          "name": "stdout"
        }
      ]
    },
    {
      "cell_type": "markdown",
      "metadata": {
        "id": "bBZ16L91cGK7"
      },
      "source": [
        "### Best model: LinearSVM on vectors_train_Lemma_SFML1"
      ]
    },
    {
      "cell_type": "code",
      "metadata": {
        "id": "0qVb0ydkdAS3"
      },
      "source": [
        "from sklearn.model_selection import cross_val_score"
      ],
      "execution_count": null,
      "outputs": []
    },
    {
      "cell_type": "code",
      "metadata": {
        "id": "4z3MyfeQVs7o",
        "colab": {
          "base_uri": "https://localhost:8080/"
        },
        "outputId": "3854f5db-7c2c-4002-b3ec-dba902a8c0c5"
      },
      "source": [
        "model = LinearSVC(C=10)\n",
        "model.fit(vectors_train_Lemma_SFML1, y_train_num)\n",
        "cross_val_score(model, vectors_train_Lemma_SFML1, y_train_num, cv=10)"
      ],
      "execution_count": null,
      "outputs": [
        {
          "output_type": "execute_result",
          "data": {
            "text/plain": [
              "array([0.94      , 0.97      , 0.96      , 0.955     , 0.945     ,\n",
              "       0.96      , 0.985     , 0.955     , 0.95      , 0.97487437])"
            ]
          },
          "metadata": {
            "tags": []
          },
          "execution_count": 74
        }
      ]
    },
    {
      "cell_type": "code",
      "metadata": {
        "id": "-IFZ5fY6V_Ca"
      },
      "source": [
        "model = LinearSVC(C=10)\n",
        "model.fit(vectors_train_Lemma_SFML1, y_train_num)\n",
        "y_pred = model.predict(vectors_test_Lemma_SFML1)\n",
        "y_pred = le.inverse_transform(y_pred)"
      ],
      "execution_count": null,
      "outputs": []
    },
    {
      "cell_type": "markdown",
      "metadata": {
        "id": "Tz9rCLvRkKDB"
      },
      "source": [
        "#### Write results to CSV"
      ]
    },
    {
      "cell_type": "code",
      "metadata": {
        "id": "sYiVSRFSiKw-"
      },
      "source": [
        "result = pd.DataFrame({'id': test.id, 'subreddit': y_pred})\n",
        "result.to_csv(\"result.csv\", index=False)"
      ],
      "execution_count": null,
      "outputs": []
    },
    {
      "cell_type": "code",
      "metadata": {
        "id": "rfs8FKWxWIbM",
        "colab": {
          "base_uri": "https://localhost:8080/",
          "height": 204
        },
        "outputId": "271d8910-4903-433e-9682-337ccd311e85"
      },
      "source": [
        "pred_csv = pd.read_csv('result.csv',engine='python')\n",
        "pred_csv.head()"
      ],
      "execution_count": null,
      "outputs": [
        {
          "output_type": "execute_result",
          "data": {
            "text/html": [
              "<div>\n",
              "<style scoped>\n",
              "    .dataframe tbody tr th:only-of-type {\n",
              "        vertical-align: middle;\n",
              "    }\n",
              "\n",
              "    .dataframe tbody tr th {\n",
              "        vertical-align: top;\n",
              "    }\n",
              "\n",
              "    .dataframe thead th {\n",
              "        text-align: right;\n",
              "    }\n",
              "</style>\n",
              "<table border=\"1\" class=\"dataframe\">\n",
              "  <thead>\n",
              "    <tr style=\"text-align: right;\">\n",
              "      <th></th>\n",
              "      <th>id</th>\n",
              "      <th>subreddit</th>\n",
              "    </tr>\n",
              "  </thead>\n",
              "  <tbody>\n",
              "    <tr>\n",
              "      <th>0</th>\n",
              "      <td>0</td>\n",
              "      <td>science</td>\n",
              "    </tr>\n",
              "    <tr>\n",
              "      <th>1</th>\n",
              "      <td>1</td>\n",
              "      <td>science</td>\n",
              "    </tr>\n",
              "    <tr>\n",
              "      <th>2</th>\n",
              "      <td>2</td>\n",
              "      <td>anime</td>\n",
              "    </tr>\n",
              "    <tr>\n",
              "      <th>3</th>\n",
              "      <td>3</td>\n",
              "      <td>science</td>\n",
              "    </tr>\n",
              "    <tr>\n",
              "      <th>4</th>\n",
              "      <td>4</td>\n",
              "      <td>science</td>\n",
              "    </tr>\n",
              "  </tbody>\n",
              "</table>\n",
              "</div>"
            ],
            "text/plain": [
              "   id subreddit\n",
              "0   0   science\n",
              "1   1   science\n",
              "2   2     anime\n",
              "3   3   science\n",
              "4   4   science"
            ]
          },
          "metadata": {
            "tags": []
          },
          "execution_count": 77
        }
      ]
    },
    {
      "cell_type": "markdown",
      "metadata": {
        "id": "Xv-LNm10CaLk"
      },
      "source": [
        "### Second Best model: MultiNB on vectors_train_Lemma_F"
      ]
    },
    {
      "cell_type": "code",
      "metadata": {
        "id": "9uK_TB7_CaLo"
      },
      "source": [
        "from sklearn.model_selection import cross_val_score"
      ],
      "execution_count": null,
      "outputs": []
    },
    {
      "cell_type": "code",
      "metadata": {
        "colab": {
          "base_uri": "https://localhost:8080/"
        },
        "id": "QwCBQu6CCaLp",
        "outputId": "b070ac8e-5438-494e-a1b2-49d85d1040b1"
      },
      "source": [
        "model = MultinomialNB(alpha=1e-5)\n",
        "# model.fit(vectors_train_Lemma_F, y_train_num)\n",
        "cross_val_score(model, vectors_train_Lemma_F, y_train_num, cv=10)"
      ],
      "execution_count": null,
      "outputs": [
        {
          "output_type": "execute_result",
          "data": {
            "text/plain": [
              "array([0.96      , 0.985     , 0.95      , 0.975     , 0.94      ,\n",
              "       0.965     , 0.98      , 0.955     , 0.955     , 0.97487437])"
            ]
          },
          "metadata": {
            "tags": []
          },
          "execution_count": 78
        }
      ]
    },
    {
      "cell_type": "code",
      "metadata": {
        "id": "7vCDdoN6CaLq"
      },
      "source": [
        "model = MultinomialNB(alpha=1e-5)\n",
        "model.fit(vectors_train_Lemma_F, y_train_num)\n",
        "y_pred = model.predict(vectors_test_Lemma_F)\n",
        "y_pred = le.inverse_transform(y_pred)"
      ],
      "execution_count": null,
      "outputs": []
    },
    {
      "cell_type": "markdown",
      "metadata": {
        "id": "acrbVwmaCaLq"
      },
      "source": [
        "#### Write results to CSV"
      ]
    },
    {
      "cell_type": "code",
      "metadata": {
        "id": "dcAJg9XFCaLr"
      },
      "source": [
        "result = pd.DataFrame({'id': test.id, 'subreddit': y_pred})\n",
        "result.to_csv(\"result.csv\", index=False)"
      ],
      "execution_count": null,
      "outputs": []
    },
    {
      "cell_type": "code",
      "metadata": {
        "colab": {
          "base_uri": "https://localhost:8080/",
          "height": 204
        },
        "id": "FA1Jr0nrCaLs",
        "outputId": "ed988845-1c55-48a4-ca49-018b47980825"
      },
      "source": [
        "pred_csv = pd.read_csv('result.csv',engine='python')\n",
        "pred_csv.head()"
      ],
      "execution_count": null,
      "outputs": [
        {
          "output_type": "execute_result",
          "data": {
            "text/html": [
              "<div>\n",
              "<style scoped>\n",
              "    .dataframe tbody tr th:only-of-type {\n",
              "        vertical-align: middle;\n",
              "    }\n",
              "\n",
              "    .dataframe tbody tr th {\n",
              "        vertical-align: top;\n",
              "    }\n",
              "\n",
              "    .dataframe thead th {\n",
              "        text-align: right;\n",
              "    }\n",
              "</style>\n",
              "<table border=\"1\" class=\"dataframe\">\n",
              "  <thead>\n",
              "    <tr style=\"text-align: right;\">\n",
              "      <th></th>\n",
              "      <th>id</th>\n",
              "      <th>subreddit</th>\n",
              "    </tr>\n",
              "  </thead>\n",
              "  <tbody>\n",
              "    <tr>\n",
              "      <th>0</th>\n",
              "      <td>0</td>\n",
              "      <td>science</td>\n",
              "    </tr>\n",
              "    <tr>\n",
              "      <th>1</th>\n",
              "      <td>1</td>\n",
              "      <td>science</td>\n",
              "    </tr>\n",
              "    <tr>\n",
              "      <th>2</th>\n",
              "      <td>2</td>\n",
              "      <td>laptop</td>\n",
              "    </tr>\n",
              "    <tr>\n",
              "      <th>3</th>\n",
              "      <td>3</td>\n",
              "      <td>science</td>\n",
              "    </tr>\n",
              "    <tr>\n",
              "      <th>4</th>\n",
              "      <td>4</td>\n",
              "      <td>science</td>\n",
              "    </tr>\n",
              "  </tbody>\n",
              "</table>\n",
              "</div>"
            ],
            "text/plain": [
              "   id subreddit\n",
              "0   0   science\n",
              "1   1   science\n",
              "2   2    laptop\n",
              "3   3   science\n",
              "4   4   science"
            ]
          },
          "metadata": {
            "tags": []
          },
          "execution_count": 81
        }
      ]
    }
  ]
}
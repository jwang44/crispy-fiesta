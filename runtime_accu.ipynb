{
  "nbformat": 4,
  "nbformat_minor": 0,
  "metadata": {
    "colab": {
      "name": "feature selection.ipynb",
      "provenance": [],
      "toc_visible": true,
      "include_colab_link": true
    },
    "kernelspec": {
      "name": "python3",
      "display_name": "Python 3"
    }
  },
  "cells": [
    {
      "cell_type": "markdown",
      "metadata": {
        "id": "view-in-github",
        "colab_type": "text"
      },
      "source": [
        "<a href=\"https://colab.research.google.com/github/jwang44/crispy-fiesta/blob/main/runtime_accu.ipynb\" target=\"_parent\"><img src=\"https://colab.research.google.com/assets/colab-badge.svg\" alt=\"Open In Colab\"/></a>"
      ]
    },
    {
      "cell_type": "code",
      "metadata": {
        "colab": {
          "base_uri": "https://localhost:8080/"
        },
        "id": "GhYkxNMosYcz",
        "outputId": "265bdcfe-77f5-4f4a-f719-928d15e8ed18"
      },
      "source": [
        "from google.colab import drive\r\n",
        "drive.mount('/content/drive')\r\n",
        "%cd /content/drive/MyDrive/"
      ],
      "execution_count": 1,
      "outputs": [
        {
          "output_type": "stream",
          "text": [
            "Mounted at /content/drive\n",
            "/content/drive/MyDrive\n"
          ],
          "name": "stdout"
        }
      ]
    },
    {
      "cell_type": "markdown",
      "metadata": {
        "id": "g3YXcam7SI-H"
      },
      "source": [
        "## Load the data and get basic features"
      ]
    },
    {
      "cell_type": "code",
      "metadata": {
        "id": "pVrTh5Fdsqcg"
      },
      "source": [
        "import pandas as pd\r\n",
        "import numpy as np"
      ],
      "execution_count": 2,
      "outputs": []
    },
    {
      "cell_type": "code",
      "metadata": {
        "id": "3OMqYMZNsq_-"
      },
      "source": [
        "train = pd.read_csv('./train.csv',engine='python')\r\n",
        "test = pd.read_csv('./test.csv',engine='python')"
      ],
      "execution_count": 3,
      "outputs": []
    },
    {
      "cell_type": "code",
      "metadata": {
        "id": "jjdGixmNss4K"
      },
      "source": [
        "X_train = train.body  # train texts\r\n",
        "y_train = train.subreddit # train subreddits\r\n",
        "X_test = test.body  # test texts"
      ],
      "execution_count": 4,
      "outputs": []
    },
    {
      "cell_type": "code",
      "metadata": {
        "id": "95NKm9YPtJ_d"
      },
      "source": [
        "from sklearn.preprocessing import Normalizer, LabelEncoder\r\n",
        "from sklearn.feature_extraction import text\r\n",
        "from sklearn.feature_extraction.text import CountVectorizer, TfidfVectorizer, TfidfTransformer"
      ],
      "execution_count": 5,
      "outputs": []
    },
    {
      "cell_type": "code",
      "metadata": {
        "colab": {
          "base_uri": "https://localhost:8080/"
        },
        "id": "1XFoTwA_s2B-",
        "outputId": "37287f20-d363-48d1-edde-0c67b84158af"
      },
      "source": [
        "# transform target labels to values\r\n",
        "le = LabelEncoder()\r\n",
        "y_train_num = le.fit_transform(y_train.values) # convert category from string to numerical (!!!!! update the variables in kcross fold)\r\n",
        "\r\n",
        "# vectorize word count\r\n",
        "vectorizer = CountVectorizer()\r\n",
        "vectors_train = vectorizer.fit_transform(X_train)\r\n",
        "vectors_test = vectorizer.transform(X_test)\r\n",
        "\r\n",
        "normalizer_train = Normalizer()\r\n",
        "vectors_train= normalizer_train.transform(vectors_train)\r\n",
        "vectors_test= normalizer_train.transform(vectors_test)\r\n",
        "\r\n",
        "# print(vectorizer.get_feature_names())\r\n",
        "print(vectors_train.shape)\r\n",
        "print(vectors_test.shape)"
      ],
      "execution_count": 6,
      "outputs": [
        {
          "output_type": "stream",
          "text": [
            "(1999, 15365)\n",
            "(1378, 15365)\n"
          ],
          "name": "stdout"
        }
      ]
    },
    {
      "cell_type": "code",
      "metadata": {
        "colab": {
          "base_uri": "https://localhost:8080/"
        },
        "id": "CkJsrQzH1qAD",
        "outputId": "7a1fc06d-2b0c-4901-ef21-f101c755b609"
      },
      "source": [
        "import nltk\r\n",
        "nltk.download('punkt')\r\n",
        "nltk.download('wordnet')\r\n",
        "nltk.download('averaged_perceptron_tagger')\r\n",
        "from nltk.stem import PorterStemmer, WordNetLemmatizer\r\n",
        "from nltk import word_tokenize\r\n",
        "from nltk.corpus import wordnet"
      ],
      "execution_count": 7,
      "outputs": [
        {
          "output_type": "stream",
          "text": [
            "[nltk_data] Downloading package punkt to /root/nltk_data...\n",
            "[nltk_data]   Unzipping tokenizers/punkt.zip.\n",
            "[nltk_data] Downloading package wordnet to /root/nltk_data...\n",
            "[nltk_data]   Unzipping corpora/wordnet.zip.\n",
            "[nltk_data] Downloading package averaged_perceptron_tagger to\n",
            "[nltk_data]     /root/nltk_data...\n",
            "[nltk_data]   Unzipping taggers/averaged_perceptron_tagger.zip.\n"
          ],
          "name": "stdout"
        }
      ]
    },
    {
      "cell_type": "code",
      "metadata": {
        "colab": {
          "base_uri": "https://localhost:8080/"
        },
        "id": "pOD25ysB1x1o",
        "outputId": "5d92c06b-1101-454e-ae7f-7c05f7e9d3e9"
      },
      "source": [
        "# put it all together: remove stop words and punctuation, tfidf, lemmatization, normalization\r\n",
        "stop_words = text.ENGLISH_STOP_WORDS\r\n",
        "\r\n",
        "def get_wordnet_pos(word):\r\n",
        "    \"\"\"Map POS tag to first character lemmatize() accepts\"\"\"\r\n",
        "    tag = nltk.pos_tag([word])[0][1][0].upper()\r\n",
        "    tag_dict = {\"J\": wordnet.ADJ,\r\n",
        "                \"N\": wordnet.NOUN,\r\n",
        "                \"V\": wordnet.VERB,\r\n",
        "                \"R\": wordnet.ADV}\r\n",
        "    return tag_dict.get(tag, wordnet.NOUN)\r\n",
        "\r\n",
        "class New_LemmaTokenizer:\r\n",
        "     def __init__(self):\r\n",
        "       self.wnl = WordNetLemmatizer()\r\n",
        "     def __call__(self, doc):\r\n",
        "       return [self.wnl.lemmatize(t,pos =get_wordnet_pos(t)) for t in word_tokenize(doc) if t.isalpha()]\r\n",
        "\r\n",
        "tf_idf_transformer = TfidfTransformer()\r\n",
        "vectorizer = CountVectorizer(stop_words = stop_words, tokenizer = New_LemmaTokenizer(), ngram_range=(1, 2)) #unigram+bigram:ngram_range=(1, 2), only bigram:ngram_range=(2, 2)\r\n",
        "vectors_train_stop_tfidf_Lemma = vectorizer.fit_transform(X_train)\r\n",
        "vectors_train_stop_tfidf_Lemma = tf_idf_transformer.fit_transform(vectors_train_stop_tfidf_Lemma)\r\n",
        "vectors_test_stop_tfidf_Lemma = vectorizer.transform(X_test)\r\n",
        "vectors_test_stop_tfidf_Lemma = tf_idf_transformer.transform(vectors_test_stop_tfidf_Lemma)\r\n",
        "vectors_train_stop_tfidf_Lemma = normalizer_train.transform(vectors_train_stop_tfidf_Lemma)\r\n",
        "vectors_test_stop_tfidf_Lemma = normalizer_train.transform(vectors_test_stop_tfidf_Lemma)\r\n",
        "\r\n",
        "#print(vectorizer.get_feature_names())\r\n",
        "print(vectors_train_stop_tfidf_Lemma.shape)\r\n",
        "print(vectors_test_stop_tfidf_Lemma.shape)"
      ],
      "execution_count": 8,
      "outputs": [
        {
          "output_type": "stream",
          "text": [
            "/usr/local/lib/python3.7/dist-packages/sklearn/feature_extraction/text.py:385: UserWarning: Your stop_words may be inconsistent with your preprocessing. Tokenizing the stop words generated tokens ['far', 'make', 'u'] not in stop_words.\n",
            "  'stop_words.' % sorted(inconsistent))\n"
          ],
          "name": "stderr"
        },
        {
          "output_type": "stream",
          "text": [
            "(1999, 70414)\n",
            "(1378, 70414)\n"
          ],
          "name": "stdout"
        }
      ]
    },
    {
      "cell_type": "code",
      "metadata": {
        "colab": {
          "base_uri": "https://localhost:8080/"
        },
        "id": "5oBLHbwe13Uw",
        "outputId": "2693df43-6190-4267-da87-015a121db8be"
      },
      "source": [
        "# remove stopwords and punctuation, tfidf, stemming, normalization\r\n",
        "stop_words = text.ENGLISH_STOP_WORDS\r\n",
        "\r\n",
        "class StemTokenizer:\r\n",
        "     def __init__(self):\r\n",
        "       self.wnl =PorterStemmer()\r\n",
        "     def __call__(self, doc):\r\n",
        "       return [self.wnl.stem(t) for t in word_tokenize(doc) if t.isalpha()]\r\n",
        "\r\n",
        "tf_idf_transformer = TfidfTransformer()\r\n",
        "vectorizer = CountVectorizer(stop_words = stop_words, tokenizer=StemTokenizer(),ngram_range=(1, 2)) #unigram+bigram:ngram_range=(1, 2), only bigram:ngram_range=(2, 2)\r\n",
        "vectors_train_stop_tfidf_stem = vectorizer.fit_transform(X_train)\r\n",
        "vectors_train_stop_tfidf_stem = tf_idf_transformer.fit_transform(vectors_train_stop_tfidf_stem)\r\n",
        "vectors_test_stop_tfidf_stem = vectorizer.transform(X_test)\r\n",
        "vectors_test_stop_tfidf_stem = tf_idf_transformer.transform(vectors_test_stop_tfidf_stem)\r\n",
        "vectors_train_stop_tfidf_stem = normalizer_train.transform(vectors_train_stop_tfidf_stem)\r\n",
        "vectors_test_stop_tfidf_stem = normalizer_train.transform(vectors_test_stop_tfidf_stem)\r\n",
        "print(vectors_train_stop_tfidf_stem.shape)\r\n",
        "print(vectors_test_stop_tfidf_stem.shape)"
      ],
      "execution_count": 9,
      "outputs": [
        {
          "output_type": "stream",
          "text": [
            "/usr/local/lib/python3.7/dist-packages/sklearn/feature_extraction/text.py:385: UserWarning: Your stop_words may be inconsistent with your preprocessing. Tokenizing the stop words generated tokens ['abov', 'afterward', 'alon', 'alreadi', 'alway', 'ani', 'anoth', 'anyon', 'anyth', 'anywher', 'becam', 'becaus', 'becom', 'befor', 'besid', 'cri', 'describ', 'dure', 'els', 'elsewher', 'empti', 'everi', 'everyon', 'everyth', 'everywher', 'fifti', 'formerli', 'forti', 'ha', 'henc', 'hereaft', 'herebi', 'hi', 'howev', 'hundr', 'inde', 'latterli', 'mani', 'meanwhil', 'moreov', 'mostli', 'nobodi', 'noon', 'noth', 'nowher', 'onc', 'onli', 'otherwis', 'ourselv', 'perhap', 'pleas', 'seriou', 'sever', 'sinc', 'sincer', 'sixti', 'someon', 'someth', 'sometim', 'somewher', 'themselv', 'thenc', 'thereaft', 'therebi', 'therefor', 'thi', 'thu', 'togeth', 'twelv', 'twenti', 'veri', 'wa', 'whatev', 'whenc', 'whenev', 'wherea', 'whereaft', 'wherebi', 'wherev', 'whi', 'yourselv'] not in stop_words.\n",
            "  'stop_words.' % sorted(inconsistent))\n"
          ],
          "name": "stderr"
        },
        {
          "output_type": "stream",
          "text": [
            "(1999, 73597)\n",
            "(1378, 73597)\n"
          ],
          "name": "stdout"
        }
      ]
    },
    {
      "cell_type": "markdown",
      "metadata": {
        "id": "FcDWLcpSSQUX"
      },
      "source": [
        "## Measure runtime and accuracy for different feature numbers and different feature selections"
      ]
    },
    {
      "cell_type": "code",
      "metadata": {
        "id": "DfzvYQTytAXZ"
      },
      "source": [
        "from sklearn.feature_selection import SelectKBest, SelectPercentile, chi2, mutual_info_classif, f_classif, SelectFpr, SelectFwe, SelectFdr, RFE, RFECV, SelectFromModel\r\n",
        "from sklearn.ensemble import ExtraTreesClassifier\r\n",
        "from sklearn.svm import LinearSVC, SVC\r\n",
        "from sklearn.naive_bayes import MultinomialNB\r\n",
        "from sklearn.linear_model import LogisticRegression\r\n",
        "from sklearn.model_selection import cross_val_score\r\n",
        "import time"
      ],
      "execution_count": 39,
      "outputs": []
    },
    {
      "cell_type": "code",
      "metadata": {
        "id": "EUIDv00PLKVC"
      },
      "source": [
        "def runtime_accu(selector, model, per):\n",
        "  # select = SelectKBest(chi2, k=k)\n",
        "  if selector=='chi2':\n",
        "    select = SelectPercentile(chi2, percentile=per)\n",
        "  elif selector=='mutual_info':\n",
        "    select = SelectPercentile(mutual_info_classif, percentile=per)\n",
        "  elif selector=='f':\n",
        "    select = SelectPercentile(f_classif, percentile=per)\n",
        "  \n",
        "  vectors_train_Lemma = select.fit_transform(vectors_train_stop_tfidf_Lemma, y_train_num)\n",
        "  print(vectors_train_Lemma.shape)\n",
        "  t1 = time.time()\n",
        "  print(\"accuracy: \", cross_val_score(model, vectors_train_Lemma, y_train_num, cv=10).mean())\n",
        "  print(\"runtime: \", time.time()-t1, '\\n')"
      ],
      "execution_count": 66,
      "outputs": []
    },
    {
      "cell_type": "code",
      "metadata": {
        "id": "w0Jb2crkmlkE"
      },
      "source": [
        "per_range = [0.015, 0.06, 0.24, 1, 4, 16, 64]"
      ],
      "execution_count": 80,
      "outputs": []
    },
    {
      "cell_type": "markdown",
      "metadata": {
        "id": "h5sFtvD7XDD1"
      },
      "source": [
        "### Chi2"
      ]
    },
    {
      "cell_type": "code",
      "metadata": {
        "id": "MBP1xMGiWdqR"
      },
      "source": [
        "selector = 'chi2'"
      ],
      "execution_count": 76,
      "outputs": []
    },
    {
      "cell_type": "code",
      "metadata": {
        "colab": {
          "base_uri": "https://localhost:8080/"
        },
        "id": "yfOj6cVRORtJ",
        "outputId": "80e52d00-2418-45b4-9de6-f7851bde0f45"
      },
      "source": [
        "model = LinearSVC(C=1)\n",
        "for per in per_range:\n",
        "  runtime_accu(selector, model, per)"
      ],
      "execution_count": 81,
      "outputs": [
        {
          "output_type": "stream",
          "text": [
            "(1999, 11)\n",
            "accuracy:  0.689354271356784\n",
            "runtime:  0.1898493766784668 \n",
            "\n",
            "(1999, 42)\n",
            "accuracy:  0.7594045226130653\n",
            "runtime:  0.20742559432983398 \n",
            "\n",
            "(1999, 169)\n",
            "accuracy:  0.8579472361809044\n",
            "runtime:  0.23154997825622559 \n",
            "\n",
            "(1999, 705)\n",
            "accuracy:  0.9119572864321608\n",
            "runtime:  0.26328563690185547 \n",
            "\n",
            "(1999, 2817)\n",
            "accuracy:  0.9404773869346735\n",
            "runtime:  0.342679500579834 \n",
            "\n",
            "(1999, 11266)\n",
            "accuracy:  0.9469723618090452\n",
            "runtime:  0.45365047454833984 \n",
            "\n",
            "(1999, 45064)\n",
            "accuracy:  0.9419748743718592\n",
            "runtime:  0.7767648696899414 \n",
            "\n"
          ],
          "name": "stdout"
        }
      ]
    },
    {
      "cell_type": "code",
      "metadata": {
        "colab": {
          "base_uri": "https://localhost:8080/"
        },
        "id": "lQ3WMv52SSz-",
        "outputId": "6a8110d5-eec1-4b08-fe63-e26172dd9700"
      },
      "source": [
        "model = SVC(C=1)\n",
        "for per in per_range:\n",
        "  runtime_accu(selector, model, per)"
      ],
      "execution_count": 83,
      "outputs": [
        {
          "output_type": "stream",
          "text": [
            "(1999, 11)\n",
            "accuracy:  0.6848492462311558\n",
            "runtime:  0.8431212902069092 \n",
            "\n",
            "(1999, 42)\n",
            "accuracy:  0.7578969849246231\n",
            "runtime:  1.0111474990844727 \n",
            "\n",
            "(1999, 169)\n",
            "accuracy:  0.8509346733668341\n",
            "runtime:  1.3295824527740479 \n",
            "\n",
            "(1999, 705)\n",
            "accuracy:  0.8959447236180905\n",
            "runtime:  3.338622808456421 \n",
            "\n",
            "(1999, 2817)\n",
            "accuracy:  0.929467336683417\n",
            "runtime:  10.090218782424927 \n",
            "\n",
            "(1999, 11266)\n",
            "accuracy:  0.8959472361809044\n",
            "runtime:  15.05076265335083 \n",
            "\n",
            "(1999, 45064)\n",
            "accuracy:  0.9204748743718593\n",
            "runtime:  21.84426212310791 \n",
            "\n"
          ],
          "name": "stdout"
        }
      ]
    },
    {
      "cell_type": "code",
      "metadata": {
        "colab": {
          "base_uri": "https://localhost:8080/"
        },
        "id": "8QB0kgywR3wi",
        "outputId": "00fd2fa8-7c79-4cda-e0f2-89cfd8949bdc"
      },
      "source": [
        "model = MultinomialNB(alpha=1e-10)\n",
        "for per in per_range:\n",
        "  runtime_accu(selector, model, per)"
      ],
      "execution_count": 85,
      "outputs": [
        {
          "output_type": "stream",
          "text": [
            "(1999, 11)\n",
            "accuracy:  0.5967914572864321\n",
            "runtime:  0.03517866134643555 \n",
            "\n",
            "(1999, 42)\n",
            "accuracy:  0.7013643216080403\n",
            "runtime:  0.031725168228149414 \n",
            "\n",
            "(1999, 169)\n",
            "accuracy:  0.8084170854271356\n",
            "runtime:  0.03154349327087402 \n",
            "\n",
            "(1999, 705)\n",
            "accuracy:  0.8954597989949749\n",
            "runtime:  0.04047989845275879 \n",
            "\n",
            "(1999, 2817)\n",
            "accuracy:  0.9479824120603016\n",
            "runtime:  0.04791426658630371 \n",
            "\n",
            "(1999, 11266)\n",
            "accuracy:  0.9589849246231156\n",
            "runtime:  0.07815885543823242 \n",
            "\n",
            "(1999, 45064)\n",
            "accuracy:  0.9279748743718592\n",
            "runtime:  0.1644604206085205 \n",
            "\n"
          ],
          "name": "stdout"
        }
      ]
    },
    {
      "cell_type": "code",
      "metadata": {
        "colab": {
          "base_uri": "https://localhost:8080/"
        },
        "id": "VQVbbktDSyK9",
        "outputId": "76eda0cf-c2c0-4a4f-bdac-3b76a2b71191"
      },
      "source": [
        "model = LogisticRegression()\n",
        "for per in per_range:\n",
        "  runtime_accu(selector, model, per)"
      ],
      "execution_count": 86,
      "outputs": [
        {
          "output_type": "stream",
          "text": [
            "(1999, 11)\n",
            "accuracy:  0.6848517587939698\n",
            "runtime:  0.519320011138916 \n",
            "\n",
            "(1999, 42)\n",
            "accuracy:  0.7508944723618091\n",
            "runtime:  0.7451884746551514 \n",
            "\n",
            "(1999, 169)\n",
            "accuracy:  0.8499422110552762\n",
            "runtime:  0.9701001644134521 \n",
            "\n",
            "(1999, 705)\n",
            "accuracy:  0.9049547738693468\n",
            "runtime:  1.2688312530517578 \n",
            "\n",
            "(1999, 2817)\n",
            "accuracy:  0.9304698492462311\n",
            "runtime:  4.636819124221802 \n",
            "\n",
            "(1999, 11266)\n",
            "accuracy:  0.9369723618090452\n",
            "runtime:  10.185412168502808 \n",
            "\n",
            "(1999, 45064)\n",
            "accuracy:  0.9334748743718595\n",
            "runtime:  34.91974925994873 \n",
            "\n"
          ],
          "name": "stdout"
        }
      ]
    },
    {
      "cell_type": "markdown",
      "metadata": {
        "id": "ezBNsGZ6XL4q"
      },
      "source": [
        "### Mutual info"
      ]
    },
    {
      "cell_type": "code",
      "metadata": {
        "id": "vWKMpKk_XOrN"
      },
      "source": [
        "selector = 'mutual_info'"
      ],
      "execution_count": 87,
      "outputs": []
    },
    {
      "cell_type": "code",
      "metadata": {
        "colab": {
          "base_uri": "https://localhost:8080/"
        },
        "id": "6AyzXNopXeBF",
        "outputId": "15474b5f-7882-4de0-f808-226272a6b1d5"
      },
      "source": [
        "model = LinearSVC(C=1)\n",
        "for per in per_range:\n",
        "  runtime_accu(selector, model, per)"
      ],
      "execution_count": 88,
      "outputs": [
        {
          "output_type": "stream",
          "text": [
            "(1999, 11)\n",
            "accuracy:  0.48426381909547744\n",
            "runtime:  0.20358991622924805 \n",
            "\n",
            "(1999, 43)\n",
            "accuracy:  0.7133768844221106\n",
            "runtime:  0.2039651870727539 \n",
            "\n",
            "(1999, 169)\n",
            "accuracy:  0.8244221105527638\n",
            "runtime:  0.2308509349822998 \n",
            "\n",
            "(1999, 705)\n",
            "accuracy:  0.8824447236180906\n",
            "runtime:  0.29204273223876953 \n",
            "\n",
            "(1999, 2816)\n",
            "accuracy:  0.9289648241206031\n",
            "runtime:  0.38042211532592773 \n",
            "\n",
            "(1999, 11266)\n",
            "accuracy:  0.9354648241206028\n",
            "runtime:  0.48803162574768066 \n",
            "\n",
            "(1999, 45064)\n",
            "accuracy:  0.937467336683417\n",
            "runtime:  0.7465944290161133 \n",
            "\n"
          ],
          "name": "stdout"
        }
      ]
    },
    {
      "cell_type": "code",
      "metadata": {
        "colab": {
          "base_uri": "https://localhost:8080/"
        },
        "id": "gcLv8k9OXeBH",
        "outputId": "1fac257a-3491-4368-f2ba-94a14aea2e90"
      },
      "source": [
        "model = SVC(C=1)\n",
        "for per in per_range:\n",
        "  runtime_accu(selector, model, per)"
      ],
      "execution_count": 89,
      "outputs": [
        {
          "output_type": "stream",
          "text": [
            "(1999, 11)\n",
            "accuracy:  0.48827638190954775\n",
            "runtime:  1.937324047088623 \n",
            "\n",
            "(1999, 43)\n",
            "accuracy:  0.6988668341708544\n",
            "runtime:  2.406881093978882 \n",
            "\n",
            "(1999, 169)\n",
            "accuracy:  0.8084120603015075\n",
            "runtime:  3.5704739093780518 \n",
            "\n",
            "(1999, 705)\n",
            "accuracy:  0.8674346733668342\n",
            "runtime:  6.797235727310181 \n",
            "\n",
            "(1999, 2816)\n",
            "accuracy:  0.922964824120603\n",
            "runtime:  14.542876720428467 \n",
            "\n",
            "(1999, 11266)\n",
            "accuracy:  0.9214597989949749\n",
            "runtime:  18.81100559234619 \n",
            "\n",
            "(1999, 45064)\n",
            "accuracy:  0.9484798994974876\n",
            "runtime:  22.218812942504883 \n",
            "\n"
          ],
          "name": "stdout"
        }
      ]
    },
    {
      "cell_type": "code",
      "metadata": {
        "colab": {
          "base_uri": "https://localhost:8080/"
        },
        "id": "9TmNVYhAXeBI",
        "outputId": "3c3467a3-d263-4ffc-9e48-14bccd170fdd"
      },
      "source": [
        "model = MultinomialNB(alpha=1e-10)\n",
        "for per in per_range:\n",
        "  runtime_accu(selector, model, per)"
      ],
      "execution_count": 90,
      "outputs": [
        {
          "output_type": "stream",
          "text": [
            "(1999, 11)\n",
            "accuracy:  0.4632462311557789\n",
            "runtime:  0.022405385971069336 \n",
            "\n",
            "(1999, 43)\n",
            "accuracy:  0.669856783919598\n",
            "runtime:  0.022440195083618164 \n",
            "\n",
            "(1999, 169)\n",
            "accuracy:  0.7443869346733669\n",
            "runtime:  0.02251148223876953 \n",
            "\n",
            "(1999, 705)\n",
            "accuracy:  0.7949120603015075\n",
            "runtime:  0.028333187103271484 \n",
            "\n",
            "(1999, 2816)\n",
            "accuracy:  0.8734371859296483\n",
            "runtime:  0.035927534103393555 \n",
            "\n",
            "(1999, 11266)\n",
            "accuracy:  0.8999547738693467\n",
            "runtime:  0.05977010726928711 \n",
            "\n",
            "(1999, 45064)\n",
            "accuracy:  0.8904497487437186\n",
            "runtime:  0.13895964622497559 \n",
            "\n"
          ],
          "name": "stdout"
        }
      ]
    },
    {
      "cell_type": "code",
      "metadata": {
        "colab": {
          "base_uri": "https://localhost:8080/"
        },
        "id": "34Ae6i-0XeBI",
        "outputId": "b36ccc4a-8c6d-4997-f05f-845adca929a4"
      },
      "source": [
        "model = LogisticRegression()\n",
        "for per in per_range:\n",
        "  runtime_accu(selector, model, per)"
      ],
      "execution_count": 91,
      "outputs": [
        {
          "output_type": "stream",
          "text": [
            "(1999, 11)\n",
            "accuracy:  0.4882688442211055\n",
            "runtime:  0.645073413848877 \n",
            "\n",
            "(1999, 43)\n",
            "accuracy:  0.7068869346733667\n",
            "runtime:  0.6883525848388672 \n",
            "\n",
            "(1999, 169)\n",
            "accuracy:  0.814427135678392\n",
            "runtime:  1.0057330131530762 \n",
            "\n",
            "(1999, 705)\n",
            "accuracy:  0.8859497487437185\n",
            "runtime:  1.4701075553894043 \n",
            "\n",
            "(1999, 2816)\n",
            "accuracy:  0.9234723618090452\n",
            "runtime:  5.246405124664307 \n",
            "\n",
            "(1999, 11266)\n",
            "accuracy:  0.9314773869346734\n",
            "runtime:  13.437782526016235 \n",
            "\n",
            "(1999, 45064)\n",
            "accuracy:  0.9284773869346734\n",
            "runtime:  34.78925347328186 \n",
            "\n"
          ],
          "name": "stdout"
        }
      ]
    },
    {
      "cell_type": "markdown",
      "metadata": {
        "id": "41vf58GOXTcY"
      },
      "source": [
        "### F score"
      ]
    },
    {
      "cell_type": "code",
      "metadata": {
        "id": "MsWLzgIWXVmw"
      },
      "source": [
        "selector = 'f'"
      ],
      "execution_count": 92,
      "outputs": []
    },
    {
      "cell_type": "code",
      "metadata": {
        "colab": {
          "base_uri": "https://localhost:8080/"
        },
        "id": "CqKShv60XgMw",
        "outputId": "0f5a693d-e2a0-4872-fcae-edcd994e58ec"
      },
      "source": [
        "model = LinearSVC(C=1)\n",
        "for per in per_range:\n",
        "  runtime_accu(selector, model, per)"
      ],
      "execution_count": 93,
      "outputs": [
        {
          "output_type": "stream",
          "text": [
            "(1999, 11)\n",
            "accuracy:  0.699356783919598\n",
            "runtime:  0.16190314292907715 \n",
            "\n",
            "(1999, 20)\n",
            "accuracy:  0.7348844221105527\n",
            "runtime:  0.16633152961730957 \n",
            "\n",
            "(1999, 168)\n",
            "accuracy:  0.834429648241206\n",
            "runtime:  0.2083582878112793 \n",
            "\n",
            "(1999, 705)\n",
            "accuracy:  0.9049422110552765\n",
            "runtime:  0.24715232849121094 \n",
            "\n",
            "(1999, 2817)\n",
            "accuracy:  0.9409698492462312\n",
            "runtime:  0.35201287269592285 \n",
            "\n",
            "(1999, 11266)\n",
            "accuracy:  0.9454748743718593\n",
            "runtime:  0.46314024925231934 \n",
            "\n",
            "(1999, 45064)\n",
            "accuracy:  0.9459798994974875\n",
            "runtime:  0.7204024791717529 \n",
            "\n"
          ],
          "name": "stdout"
        }
      ]
    },
    {
      "cell_type": "code",
      "metadata": {
        "colab": {
          "base_uri": "https://localhost:8080/"
        },
        "id": "BYNbMRjWXgMx",
        "outputId": "3fb5ada0-2bd4-458c-9b63-1b1809a85022"
      },
      "source": [
        "model = SVC(C=1)\n",
        "for per in per_range:\n",
        "  runtime_accu(selector, model, per)"
      ],
      "execution_count": 94,
      "outputs": [
        {
          "output_type": "stream",
          "text": [
            "(1999, 11)\n",
            "accuracy:  0.6963492462311558\n",
            "runtime:  0.9451847076416016 \n",
            "\n",
            "(1999, 20)\n",
            "accuracy:  0.7353793969849247\n",
            "runtime:  0.9378843307495117 \n",
            "\n",
            "(1999, 168)\n",
            "accuracy:  0.8264221105527639\n",
            "runtime:  1.3068928718566895 \n",
            "\n",
            "(1999, 705)\n",
            "accuracy:  0.8864296482412062\n",
            "runtime:  3.703448534011841 \n",
            "\n",
            "(1999, 2817)\n",
            "accuracy:  0.9344748743718594\n",
            "runtime:  11.83224630355835 \n",
            "\n",
            "(1999, 11266)\n",
            "accuracy:  0.9249623115577889\n",
            "runtime:  16.691577911376953 \n",
            "\n",
            "(1999, 45064)\n",
            "accuracy:  0.7908869346733669\n",
            "runtime:  20.65315270423889 \n",
            "\n"
          ],
          "name": "stdout"
        }
      ]
    },
    {
      "cell_type": "code",
      "metadata": {
        "colab": {
          "base_uri": "https://localhost:8080/"
        },
        "id": "FgMADiU5XgMy",
        "outputId": "40ec61c8-f579-4769-e1e6-1972be6a0b74"
      },
      "source": [
        "model = MultinomialNB(alpha=1e-10)\n",
        "for per in per_range:\n",
        "  runtime_accu(selector, model, per)"
      ],
      "execution_count": 95,
      "outputs": [
        {
          "output_type": "stream",
          "text": [
            "(1999, 11)\n",
            "accuracy:  0.646321608040201\n",
            "runtime:  0.02029895782470703 \n",
            "\n",
            "(1999, 20)\n",
            "accuracy:  0.683354271356784\n",
            "runtime:  0.020882368087768555 \n",
            "\n",
            "(1999, 168)\n",
            "accuracy:  0.7789020100502513\n",
            "runtime:  0.02650904655456543 \n",
            "\n",
            "(1999, 705)\n",
            "accuracy:  0.8764497487437186\n",
            "runtime:  0.025598764419555664 \n",
            "\n",
            "(1999, 2817)\n",
            "accuracy:  0.9404798994974876\n",
            "runtime:  0.03756141662597656 \n",
            "\n",
            "(1999, 11266)\n",
            "accuracy:  0.9579849246231156\n",
            "runtime:  0.05775046348571777 \n",
            "\n",
            "(1999, 45064)\n",
            "accuracy:  0.9554849246231157\n",
            "runtime:  0.12949609756469727 \n",
            "\n"
          ],
          "name": "stdout"
        }
      ]
    },
    {
      "cell_type": "code",
      "metadata": {
        "colab": {
          "base_uri": "https://localhost:8080/"
        },
        "id": "5P44ETpMXgMz",
        "outputId": "73cb8213-f70a-4bb7-ff3a-a09b28ce82f5"
      },
      "source": [
        "model = LogisticRegression()\n",
        "for per in per_range:\n",
        "  runtime_accu(selector, model, per)"
      ],
      "execution_count": 96,
      "outputs": [
        {
          "output_type": "stream",
          "text": [
            "(1999, 11)\n",
            "accuracy:  0.6958492462311557\n",
            "runtime:  0.4725379943847656 \n",
            "\n",
            "(1999, 20)\n",
            "accuracy:  0.7308793969849245\n",
            "runtime:  0.5780160427093506 \n",
            "\n",
            "(1999, 168)\n",
            "accuracy:  0.8294246231155779\n",
            "runtime:  0.8769228458404541 \n",
            "\n",
            "(1999, 705)\n",
            "accuracy:  0.8959472361809044\n",
            "runtime:  1.2939579486846924 \n",
            "\n",
            "(1999, 2817)\n",
            "accuracy:  0.9319723618090452\n",
            "runtime:  4.657679557800293 \n",
            "\n",
            "(1999, 11266)\n",
            "accuracy:  0.9374773869346734\n",
            "runtime:  11.054420232772827 \n",
            "\n",
            "(1999, 45064)\n",
            "accuracy:  0.9359773869346736\n",
            "runtime:  36.070772886276245 \n",
            "\n"
          ],
          "name": "stdout"
        }
      ]
    },
    {
      "cell_type": "markdown",
      "metadata": {
        "id": "nwKB1KjFZGzv"
      },
      "source": [
        "## Ignore for now"
      ]
    },
    {
      "cell_type": "markdown",
      "metadata": {
        "id": "_OIvmZHu6z52"
      },
      "source": [
        "### 13.4.1 selectfrommodel L1 norm"
      ]
    },
    {
      "cell_type": "code",
      "metadata": {
        "colab": {
          "base_uri": "https://localhost:8080/"
        },
        "id": "lBeC2asR6ycf",
        "outputId": "5b3e106e-5673-41c9-ae32-7d3ed35a5c92"
      },
      "source": [
        "estimator = LinearSVC(C=10, penalty=\"l1\",dual=False)\r\n",
        "select = SelectFromModel(estimator,max_features=5000)\r\n",
        "vectors_train_Lemma_SFML1 = select.fit_transform(vectors_train_stop_tfidf_Lemma, y_train_num)\r\n",
        "vectors_test_Lemma_SFML1 = select.transform(vectors_test_stop_tfidf_Lemma)\r\n",
        "print(vectors_train_Lemma_SFML1.shape)"
      ],
      "execution_count": null,
      "outputs": [
        {
          "output_type": "stream",
          "text": [
            "(1999, 2091)\n"
          ],
          "name": "stdout"
        },
        {
          "output_type": "stream",
          "text": [
            "/usr/local/lib/python3.7/dist-packages/sklearn/svm/_base.py:947: ConvergenceWarning: Liblinear failed to converge, increase the number of iterations.\n",
            "  \"the number of iterations.\", ConvergenceWarning)\n"
          ],
          "name": "stderr"
        }
      ]
    },
    {
      "cell_type": "code",
      "metadata": {
        "id": "1LcRUVHh9EA6",
        "colab": {
          "base_uri": "https://localhost:8080/"
        },
        "outputId": "01da2eac-02a9-4d32-fce4-953b0f81ccd8"
      },
      "source": [
        "estimator = LinearSVC(C=10, penalty=\"l1\",dual=False)\r\n",
        "select = SelectFromModel(estimator,max_features=5000)\r\n",
        "vectors_train_stem_SFML1 = select.fit_transform(vectors_train_stop_tfidf_stem, y_train_num)\r\n",
        "vectors_test_stem_SFML1 = select.transform(vectors_test_stop_tfidf_stem)\r\n",
        "print(vectors_train_stem_SFML1.shape)"
      ],
      "execution_count": null,
      "outputs": [
        {
          "output_type": "stream",
          "text": [
            "(1999, 2064)\n"
          ],
          "name": "stdout"
        },
        {
          "output_type": "stream",
          "text": [
            "/usr/local/lib/python3.7/dist-packages/sklearn/svm/_base.py:947: ConvergenceWarning: Liblinear failed to converge, increase the number of iterations.\n",
            "  \"the number of iterations.\", ConvergenceWarning)\n"
          ],
          "name": "stderr"
        }
      ]
    },
    {
      "cell_type": "markdown",
      "metadata": {
        "id": "A40q_6BkgLzb"
      },
      "source": [
        "### 13.4.2 selectfrommodel tree"
      ]
    },
    {
      "cell_type": "code",
      "metadata": {
        "id": "xlCpRznsc3O8",
        "colab": {
          "base_uri": "https://localhost:8080/"
        },
        "outputId": "99883c04-2b72-45c8-c773-6048de7925c7"
      },
      "source": [
        "clf = ExtraTreesClassifier()\r\n",
        "clf = clf.fit(vectors_train_stop_tfidf_Lemma, y_train_num)\r\n",
        "model = SelectFromModel(clf, prefit=True)\r\n",
        "vectors_train_Lemma_SFMtree = model.transform(vectors_train_stop_tfidf_Lemma)\r\n",
        "vectors_train_Lemma_SFMtree.shape"
      ],
      "execution_count": null,
      "outputs": [
        {
          "output_type": "execute_result",
          "data": {
            "text/plain": [
              "(1999, 9466)"
            ]
          },
          "metadata": {
            "tags": []
          },
          "execution_count": 45
        }
      ]
    },
    {
      "cell_type": "code",
      "metadata": {
        "id": "7kBgGpDLfTXV",
        "colab": {
          "base_uri": "https://localhost:8080/"
        },
        "outputId": "889199a4-79f6-482a-8f83-901134789bc1"
      },
      "source": [
        "clf = ExtraTreesClassifier()\r\n",
        "clf = clf.fit(vectors_train_stop_tfidf_stem, y_train_num)\r\n",
        "model = SelectFromModel(clf, prefit=True)\r\n",
        "vectors_train_stem_SFMtree = model.transform(vectors_train_stop_tfidf_stem)\r\n",
        "vectors_train_stem_SFMtree.shape"
      ],
      "execution_count": null,
      "outputs": [
        {
          "output_type": "execute_result",
          "data": {
            "text/plain": [
              "(1999, 9776)"
            ]
          },
          "metadata": {
            "tags": []
          },
          "execution_count": 46
        }
      ]
    },
    {
      "cell_type": "markdown",
      "metadata": {
        "id": "x4imy8E_6ALI"
      },
      "source": [
        "###Recursive feature elimination"
      ]
    },
    {
      "cell_type": "code",
      "metadata": {
        "id": "ndYrr7lLUPo_",
        "colab": {
          "base_uri": "https://localhost:8080/"
        },
        "outputId": "5baa1536-9207-44e8-a65b-ce3061857c28"
      },
      "source": [
        "estimator = LinearSVC()\r\n",
        "select = RFECV(estimator, step=700,scoring='accuracy', n_jobs=-1)\r\n",
        "vectors_train_Lemma_RFESVC = select.fit_transform(vectors_train_stop_tfidf_Lemma, y_train_num)\r\n",
        "vectors_test_Lemma_RFESVC = select.transform(vectors_test_stop_tfidf_Lemma)\r\n",
        "print(vectors_train_Lemma_RFESVC.shape)"
      ],
      "execution_count": 53,
      "outputs": [
        {
          "output_type": "stream",
          "text": [
            "(1999, 18614)\n"
          ],
          "name": "stdout"
        }
      ]
    },
    {
      "cell_type": "code",
      "metadata": {
        "colab": {
          "base_uri": "https://localhost:8080/"
        },
        "id": "yZs_Ql-7dkRk",
        "outputId": "78d8e04c-8829-41d7-f90a-e0c78d411671"
      },
      "source": [
        "model = LinearSVC()\n",
        "# model.fit(vectors_train_Lemma_RFESVC, y_num)\n",
        "cross_val_score(model, vectors_train_Lemma_RFESVC, y_train_num).mean()"
      ],
      "execution_count": 55,
      "outputs": [
        {
          "output_type": "execute_result",
          "data": {
            "text/plain": [
              "0.9384661654135338"
            ]
          },
          "metadata": {
            "tags": []
          },
          "execution_count": 55
        }
      ]
    },
    {
      "cell_type": "code",
      "metadata": {
        "id": "c2rkgQ_OW2H-"
      },
      "source": [
        "estimator = LinearSVC()\r\n",
        "select = RFECV(estimator, step=85,scoring='accuracy')\r\n",
        "vectors_train_stem_RFESVC = select.fit_transform(vectors_train_stop_tfidf_stem, y_train_num)\r\n",
        "vectors_test_stem_RFESVC = select.transform(vectors_test_stop_tfidf_stem)\r\n",
        "print(vectors_train_stem_RFESVC.shape)"
      ],
      "execution_count": null,
      "outputs": []
    },
    {
      "cell_type": "code",
      "metadata": {
        "id": "W39u3IvUYa-q"
      },
      "source": [
        "estimator = LogisticRegression()\r\n",
        "select = RFECV(estimator, step=98,scoring='accuracy')\r\n",
        "vectors_train_Lemma_RFELR = select.fit_transform(vectors_train_stop_tfidf_Lemma, y_train_num)\r\n",
        "vectors_test_Lemma_RFELR = select.transform(vectors_test_stop_tfidf_Lemma)\r\n",
        "print(vectors_train_Lemma_RFELR.shape)"
      ],
      "execution_count": null,
      "outputs": []
    },
    {
      "cell_type": "code",
      "metadata": {
        "id": "VVjen15SY5X9"
      },
      "source": [
        "estimator = LogisticRegression()\r\n",
        "select = RFECV(estimator, step=85,scoring='accuracy')\r\n",
        "vectors_train_stem_RFELR = select.fit_transform(vectors_train_stop_tfidf_stem, y_train_num)\r\n",
        "vectors_test_stem_RFELR = select.transform(vectors_test_stop_tfidf_stem)\r\n",
        "print(vectors_train_stem_RFELR.shape)"
      ],
      "execution_count": null,
      "outputs": []
    },
    {
      "cell_type": "code",
      "metadata": {
        "id": "A40g9do-ZqjJ"
      },
      "source": [
        "estimator = MultinomialNB()\r\n",
        "select = RFECV(estimator, step=98,scoring='accuracy')\r\n",
        "vectors_train_Lemma_RFEMNB = select.fit_transform(vectors_train_stop_tfidf_Lemma, y_train_num)\r\n",
        "vectors_test_Lemma_RFEMNB = select.transform(vectors_test_stop_tfidf_Lemma)\r\n",
        "print(vectors_train_Lemma_RFEMNB.shape)"
      ],
      "execution_count": null,
      "outputs": []
    },
    {
      "cell_type": "code",
      "metadata": {
        "id": "uf-xuvLUbOm2"
      },
      "source": [
        "estimator = MultinomialNB()\r\n",
        "select = RFECV(estimator, step=85,scoring='accuracy')\r\n",
        "vectors_train_stem_RFEMNB = select.fit_transform(vectors_train_stop_tfidf_stem, y_train_num)\r\n",
        "vectors_test_stem_RFEMNB = select.transform(vectors_test_stop_tfidf_stem)\r\n",
        "print(vectors_train_stem_RFEMNB.shape)"
      ],
      "execution_count": null,
      "outputs": []
    },
    {
      "cell_type": "markdown",
      "metadata": {
        "id": "w4bpJ3t0TMnS"
      },
      "source": [
        "### Experiment on sklearn models (with NGRAM)"
      ]
    },
    {
      "cell_type": "markdown",
      "metadata": {
        "id": "L41zKhUPVj2l"
      },
      "source": [
        "### Find the best set of features\n",
        "We have 16 sets in total\n",
        "\n",
        "\n",
        "The best are \n",
        "\n",
        "vectors_train_Lemma_X2\n",
        "\n",
        "vectors_train_Lemma_F\n",
        "\n",
        "vectors_train_Lemma_SFML1"
      ]
    },
    {
      "cell_type": "code",
      "metadata": {
        "colab": {
          "base_uri": "https://localhost:8080/"
        },
        "id": "pZQ1dRU4yIpa",
        "outputId": "4ae62430-67f9-48c0-e63a-7f96f21e80a3"
      },
      "source": [
        "model = LinearSVC()\n",
        "scores = cross_val_score(model, vectors_train_Lemma_X2, y_train_num, cv=10)\n",
        "print(scores.mean())\n",
        "\n",
        "model = LinearSVC()\n",
        "scores = cross_val_score(model, vectors_train_stem_X2, y_train_num, cv=10)\n",
        "print(scores.mean())\n",
        "\n",
        "model = LinearSVC()\n",
        "scores = cross_val_score(model, vectors_train_Lemma_mutual, y_train_num, cv=10)\n",
        "print(scores.mean())\n",
        "\n",
        "model = LinearSVC()\n",
        "scores = cross_val_score(model, vectors_train_stem_mutual, y_train_num, cv=10)\n",
        "print(scores.mean())\n",
        "\n",
        "model = LinearSVC()\n",
        "scores = cross_val_score(model, vectors_train_Lemma_F, y_train_num, cv=10)\n",
        "print(scores.mean())\n",
        "\n",
        "model = LinearSVC()\n",
        "scores = cross_val_score(model, vectors_train_stem_F, y_train_num, cv=10)\n",
        "print(scores.mean())\n",
        "\n",
        "model = LinearSVC()\n",
        "scores = cross_val_score(model, vectors_train_Lemma_FPR, y_train_num, cv=10)\n",
        "print(scores.mean())\n",
        "\n",
        "model = LinearSVC()\n",
        "scores = cross_val_score(model, vectors_train_stem_FPR, y_train_num, cv=10)\n",
        "print(scores.mean())\n",
        "\n",
        "model = LinearSVC()\n",
        "scores = cross_val_score(model, vectors_train_Lemma_FDR, y_train_num, cv=10)\n",
        "print(scores.mean())\n",
        "\n",
        "model = LinearSVC()\n",
        "scores = cross_val_score(model, vectors_train_stem_FDR, y_train_num, cv=10)\n",
        "print(scores.mean())\n",
        "\n",
        "model = LinearSVC()\n",
        "scores = cross_val_score(model, vectors_train_Lemma_FWE, y_train_num, cv=10)\n",
        "print(scores.mean())\n",
        "\n",
        "model = LinearSVC()\n",
        "scores = cross_val_score(model, vectors_train_stem_FWE, y_train_num, cv=10)\n",
        "print(scores.mean())\n",
        "\n",
        "model = LinearSVC()\n",
        "scores = cross_val_score(model, vectors_train_Lemma_SFML1, y_train_num, cv=10)\n",
        "print(scores.mean())\n",
        "\n",
        "model = LinearSVC()\n",
        "scores = cross_val_score(model, vectors_train_stem_SFML1, y_train_num, cv=10)\n",
        "print(scores.mean())\n",
        "\n",
        "model = LinearSVC()\n",
        "scores = cross_val_score(model, vectors_train_Lemma_SFMtree, y_train_num, cv=10)\n",
        "print(scores.mean())\n",
        "\n",
        "model = LinearSVC()\n",
        "scores = cross_val_score(model, vectors_train_stem_SFMtree, y_train_num, cv=10)\n",
        "print(scores.mean())"
      ],
      "execution_count": null,
      "outputs": [
        {
          "output_type": "stream",
          "text": [
            "0.9459798994974875\n",
            "0.9449748743718593\n",
            "0.934464824120603\n",
            "0.930462311557789\n",
            "0.9469748743718593\n",
            "0.9449773869346734\n",
            "0.9384698492462311\n",
            "0.9424723618090451\n",
            "0.9214572864321608\n",
            "0.927467336683417\n",
            "0.8869422110552764\n",
            "0.8869422110552764\n",
            "0.9484748743718594\n",
            "0.9464723618090451\n",
            "0.938464824120603\n",
            "0.9339623115577889\n"
          ],
          "name": "stdout"
        }
      ]
    },
    {
      "cell_type": "code",
      "metadata": {
        "colab": {
          "base_uri": "https://localhost:8080/"
        },
        "id": "Ctlyl4oiUzMf",
        "outputId": "c150de98-62ac-49b8-ae20-a9c0504268b3"
      },
      "source": [
        "model = LogisticRegression()\n",
        "scores = cross_val_score(model, vectors_train_Lemma_X2, y_train_num, cv=10)\n",
        "print(scores.mean())\n",
        "\n",
        "model = LogisticRegression()\n",
        "scores = cross_val_score(model, vectors_train_stem_X2, y_train_num, cv=10)\n",
        "print(scores.mean())\n",
        "\n",
        "model = LogisticRegression()\n",
        "scores = cross_val_score(model, vectors_train_Lemma_mutual, y_train_num, cv=10)\n",
        "print(scores.mean())\n",
        "\n",
        "model = LogisticRegression()\n",
        "scores = cross_val_score(model, vectors_train_stem_mutual, y_train_num, cv=10)\n",
        "print(scores.mean())\n",
        "\n",
        "model = LogisticRegression()\n",
        "scores = cross_val_score(model, vectors_train_Lemma_F, y_train_num, cv=10)\n",
        "print(scores.mean())\n",
        "\n",
        "model = LogisticRegression()\n",
        "scores = cross_val_score(model, vectors_train_stem_F, y_train_num, cv=10)\n",
        "print(scores.mean())\n",
        "\n",
        "model = LogisticRegression()\n",
        "scores = cross_val_score(model, vectors_train_Lemma_FPR, y_train_num, cv=10)\n",
        "print(scores.mean())\n",
        "\n",
        "model = LogisticRegression()\n",
        "scores = cross_val_score(model, vectors_train_stem_FPR, y_train_num, cv=10)\n",
        "print(scores.mean())\n",
        "\n",
        "model = LogisticRegression()\n",
        "scores = cross_val_score(model, vectors_train_Lemma_FDR, y_train_num, cv=10)\n",
        "print(scores.mean())\n",
        "\n",
        "model = LogisticRegression()\n",
        "scores = cross_val_score(model, vectors_train_stem_FDR, y_train_num, cv=10)\n",
        "print(scores.mean())\n",
        "\n",
        "model = LogisticRegression()\n",
        "scores = cross_val_score(model, vectors_train_Lemma_FWE, y_train_num, cv=10)\n",
        "print(scores.mean())\n",
        "\n",
        "model = LogisticRegression()\n",
        "scores = cross_val_score(model, vectors_train_stem_FWE, y_train_num, cv=10)\n",
        "print(scores.mean())\n",
        "\n",
        "model = LogisticRegression()\n",
        "scores = cross_val_score(model, vectors_train_Lemma_SFML1, y_train_num, cv=10)\n",
        "print(scores.mean())\n",
        "\n",
        "model = LogisticRegression()\n",
        "scores = cross_val_score(model, vectors_train_stem_SFML1, y_train_num, cv=10)\n",
        "print(scores.mean())\n",
        "\n",
        "model = LogisticRegression()\n",
        "scores = cross_val_score(model, vectors_train_Lemma_SFMtree, y_train_num, cv=10)\n",
        "print(scores.mean())\n",
        "\n",
        "model = LogisticRegression()\n",
        "scores = cross_val_score(model, vectors_train_stem_SFMtree, y_train_num, cv=10)\n",
        "print(scores.mean())"
      ],
      "execution_count": null,
      "outputs": [
        {
          "output_type": "stream",
          "text": [
            "0.9364798994974877\n",
            "0.9354798994974877\n",
            "0.9289748743718593\n",
            "0.9289723618090452\n",
            "0.9374773869346734\n",
            "0.9309748743718593\n",
            "0.9329723618090451\n",
            "0.927467336683417\n",
            "0.9079522613065327\n",
            "0.9109572864321608\n",
            "0.8764422110552765\n",
            "0.8764422110552765\n",
            "0.9274698492462312\n",
            "0.9264698492462312\n",
            "0.9304723618090451\n",
            "0.926469849246231\n"
          ],
          "name": "stdout"
        }
      ]
    },
    {
      "cell_type": "code",
      "metadata": {
        "id": "Xreyyyy0fa3-",
        "colab": {
          "base_uri": "https://localhost:8080/"
        },
        "outputId": "46d5a303-9ebe-4f51-9b32-d10eded9ab5f"
      },
      "source": [
        "model = MultinomialNB()\n",
        "scores = cross_val_score(model, vectors_train_Lemma_X2, y_train_num, cv=10)\n",
        "print(scores.mean())\n",
        "\n",
        "model = MultinomialNB()\n",
        "scores = cross_val_score(model, vectors_train_stem_X2, y_train_num, cv=10)\n",
        "print(scores.mean())\n",
        "\n",
        "model = MultinomialNB()\n",
        "scores = cross_val_score(model, vectors_train_Lemma_mutual, y_train_num, cv=10)\n",
        "print(scores.mean())\n",
        "\n",
        "model = MultinomialNB()\n",
        "scores = cross_val_score(model, vectors_train_stem_mutual, y_train_num, cv=10)\n",
        "print(scores.mean())\n",
        "\n",
        "model = MultinomialNB()\n",
        "scores = cross_val_score(model, vectors_train_Lemma_F, y_train_num, cv=10)\n",
        "print(scores.mean())\n",
        "\n",
        "model = MultinomialNB()\n",
        "scores = cross_val_score(model, vectors_train_stem_F, y_train_num, cv=10)\n",
        "print(scores.mean())\n",
        "\n",
        "model = MultinomialNB()\n",
        "scores = cross_val_score(model, vectors_train_Lemma_FPR, y_train_num, cv=10)\n",
        "print(scores.mean())\n",
        "\n",
        "model = MultinomialNB()\n",
        "scores = cross_val_score(model, vectors_train_stem_FPR, y_train_num, cv=10)\n",
        "print(scores.mean())\n",
        "\n",
        "model = MultinomialNB()\n",
        "scores = cross_val_score(model, vectors_train_Lemma_FDR, y_train_num, cv=10)\n",
        "print(scores.mean())\n",
        "\n",
        "model = MultinomialNB()\n",
        "scores = cross_val_score(model, vectors_train_stem_FDR, y_train_num, cv=10)\n",
        "print(scores.mean())\n",
        "\n",
        "model = MultinomialNB()\n",
        "scores = cross_val_score(model, vectors_train_Lemma_FWE, y_train_num, cv=10)\n",
        "print(scores.mean())\n",
        "\n",
        "model = MultinomialNB()\n",
        "scores = cross_val_score(model, vectors_train_stem_FWE, y_train_num, cv=10)\n",
        "print(scores.mean())\n",
        "\n",
        "model = MultinomialNB()\n",
        "scores = cross_val_score(model, vectors_train_Lemma_SFML1, y_train_num, cv=10)\n",
        "print(scores.mean())\n",
        "\n",
        "model = MultinomialNB()\n",
        "scores = cross_val_score(model, vectors_train_stem_SFML1, y_train_num, cv=10)\n",
        "print(scores.mean())\n",
        "\n",
        "model = MultinomialNB()\n",
        "scores = cross_val_score(model, vectors_train_Lemma_SFMtree, y_train_num, cv=10)\n",
        "print(scores.mean())\n",
        "\n",
        "model = MultinomialNB()\n",
        "scores = cross_val_score(model, vectors_train_stem_SFMtree, y_train_num, cv=10)\n",
        "print(scores.mean())"
      ],
      "execution_count": null,
      "outputs": [
        {
          "output_type": "stream",
          "text": [
            "0.9179673366834171\n",
            "0.9209648241206029\n",
            "0.9164673366834171\n",
            "0.9144648241206029\n",
            "0.9329723618090451\n",
            "0.928967336683417\n",
            "0.9159698492462311\n",
            "0.9214623115577888\n",
            "0.8879497487437185\n",
            "0.8814522613065326\n",
            "0.839929648241206\n",
            "0.839929648241206\n",
            "0.926469849246231\n",
            "0.9324673366834171\n",
            "0.9229698492462312\n",
            "0.9234648241206029\n"
          ],
          "name": "stdout"
        }
      ]
    },
    {
      "cell_type": "markdown",
      "metadata": {
        "id": "Sq5zBLuWWSQH"
      },
      "source": [
        "### Grid search\n",
        "The best features:\n",
        "\n",
        "vectors_train_Lemma_X2\n",
        "\n",
        "vectors_train_Lemma_F\n",
        "\n",
        "vectors_train_Lemma_SFML1"
      ]
    },
    {
      "cell_type": "markdown",
      "metadata": {
        "id": "QrmAJbRtXGNC"
      },
      "source": [
        "#### vectors_train_Lemma_X2\n",
        "Best models: LinearSVM, MultiNB, BernouliNB"
      ]
    },
    {
      "cell_type": "code",
      "metadata": {
        "id": "XB20XzS3FqBL"
      },
      "source": [
        "from sklearn.model_selection import GridSearchCV"
      ],
      "execution_count": null,
      "outputs": []
    },
    {
      "cell_type": "code",
      "metadata": {
        "colab": {
          "base_uri": "https://localhost:8080/"
        },
        "id": "6IzciLosEMMi",
        "outputId": "009a4511-3ac7-4266-9278-f491f7b39bd6"
      },
      "source": [
        "model = LinearSVC()\n",
        "parameters = {\n",
        "    'C': (0.01, 0.1, 1, 10, 100, 1000)\n",
        "}\n",
        "gs_model = GridSearchCV(model, parameters, cv=10, n_jobs=-1)\n",
        "gs_model = gs_model.fit(vectors_train_Lemma_X2, y_train_num)\n",
        "print(gs_model.best_score_)\n",
        "for param_name in sorted(parameters.keys()):\n",
        "    print(\"%s: %r\" % (param_name, gs_model.best_params_[param_name]))"
      ],
      "execution_count": null,
      "outputs": [
        {
          "output_type": "stream",
          "text": [
            "0.9459798994974875\n",
            "C: 1\n"
          ],
          "name": "stdout"
        }
      ]
    },
    {
      "cell_type": "code",
      "metadata": {
        "colab": {
          "base_uri": "https://localhost:8080/"
        },
        "id": "lZxIyqcWQC6u",
        "outputId": "91c67e44-2b55-47b6-ee9c-bbb8b0113a45"
      },
      "source": [
        "model = MultinomialNB()\n",
        "parameters = {\n",
        "    'alpha': (1e-10, 1e-5, 0.1, 0.5, 1, 2), \n",
        "}\n",
        "gs_model = GridSearchCV(model, parameters, cv=10, n_jobs=-1)\n",
        "gs_model = gs_model.fit(vectors_train_Lemma_X2, y_train_num)\n",
        "print(gs_model.best_score_)\n",
        "for param_name in sorted(parameters.keys()):\n",
        "    print(\"%s: %r\" % (param_name, gs_model.best_params_[param_name]))"
      ],
      "execution_count": null,
      "outputs": [
        {
          "output_type": "stream",
          "text": [
            "0.9554849246231155\n",
            "alpha: 1e-10\n"
          ],
          "name": "stdout"
        }
      ]
    },
    {
      "cell_type": "code",
      "metadata": {
        "colab": {
          "base_uri": "https://localhost:8080/"
        },
        "id": "o6eUbXm6QHID",
        "outputId": "bad67195-46d0-4695-9b60-eeca98628fa8"
      },
      "source": [
        "model = BernoulliNB()\n",
        "parameters = {\n",
        "    'alpha': (1e-10, 1e-5, 0.1, 0.5, 1, 2)\n",
        "}\n",
        "gs_model = GridSearchCV(model, parameters, cv=10, n_jobs=-1)\n",
        "gs_model = gs_model.fit(vectors_train_Lemma_X2, y_train_num)\n",
        "print(gs_model.best_score_)\n",
        "for param_name in sorted(parameters.keys()):\n",
        "    print(\"%s: %r\" % (param_name, gs_model.best_params_[param_name]))"
      ],
      "execution_count": null,
      "outputs": [
        {
          "output_type": "stream",
          "text": [
            "0.9469773869346734\n",
            "alpha: 1e-10\n"
          ],
          "name": "stdout"
        }
      ]
    },
    {
      "cell_type": "markdown",
      "metadata": {
        "id": "hQn11XdNXc89"
      },
      "source": [
        "#### vectors_train_Lemma_F\n",
        "Best model: MultiNB, LinearSVM, BernouliNB"
      ]
    },
    {
      "cell_type": "code",
      "metadata": {
        "id": "IzPswnO0XrO_"
      },
      "source": [
        "from sklearn.model_selection import GridSearchCV"
      ],
      "execution_count": null,
      "outputs": []
    },
    {
      "cell_type": "code",
      "metadata": {
        "colab": {
          "base_uri": "https://localhost:8080/"
        },
        "id": "1mqy1F4cXrPL",
        "outputId": "5bfad9f3-bbda-4efb-94a0-83baea4ab90b"
      },
      "source": [
        "model = LinearSVC()\n",
        "parameters = {\n",
        "    'C': (0.01, 0.1, 1, 10, 100, 1000)\n",
        "}\n",
        "gs_model = GridSearchCV(model, parameters, cv=10, n_jobs=-1)\n",
        "gs_model = gs_model.fit(vectors_train_Lemma_F, y_train_num)\n",
        "print(gs_model.best_score_)\n",
        "for param_name in sorted(parameters.keys()):\n",
        "    print(\"%s: %r\" % (param_name, gs_model.best_params_[param_name]))"
      ],
      "execution_count": null,
      "outputs": [
        {
          "output_type": "stream",
          "text": [
            "0.9469748743718593\n",
            "C: 1\n"
          ],
          "name": "stdout"
        }
      ]
    },
    {
      "cell_type": "code",
      "metadata": {
        "colab": {
          "base_uri": "https://localhost:8080/"
        },
        "id": "tYZmNzgMXrPN",
        "outputId": "2992cf18-1a92-4b49-a14b-fb48dacd402c"
      },
      "source": [
        "model = MultinomialNB()\n",
        "parameters = {\n",
        "    'alpha': (1e-10, 1e-5, 0.1, 0.5, 1, 2), \n",
        "}\n",
        "gs_model = GridSearchCV(model, parameters, cv=10, n_jobs=-1)\n",
        "gs_model = gs_model.fit(vectors_train_Lemma_F, y_train_num)\n",
        "print(gs_model.best_score_)\n",
        "for param_name in sorted(parameters.keys()):\n",
        "    print(\"%s: %r\" % (param_name, gs_model.best_params_[param_name]))"
      ],
      "execution_count": null,
      "outputs": [
        {
          "output_type": "stream",
          "text": [
            "0.9639874371859296\n",
            "alpha: 1e-05\n"
          ],
          "name": "stdout"
        }
      ]
    },
    {
      "cell_type": "code",
      "metadata": {
        "colab": {
          "base_uri": "https://localhost:8080/"
        },
        "id": "m1zYdzDxXrPO",
        "outputId": "85b884b3-0049-4f8e-8811-fcfbcd4fb05e"
      },
      "source": [
        "model = BernoulliNB()\n",
        "parameters = {\n",
        "    'alpha': (1e-10, 1e-5, 0.1, 0.5, 1, 2)\n",
        "}\n",
        "gs_model = GridSearchCV(model, parameters, cv=10, n_jobs=-1)\n",
        "gs_model = gs_model.fit(vectors_train_Lemma_F, y_train_num)\n",
        "print(gs_model.best_score_)\n",
        "for param_name in sorted(parameters.keys()):\n",
        "    print(\"%s: %r\" % (param_name, gs_model.best_params_[param_name]))"
      ],
      "execution_count": null,
      "outputs": [
        {
          "output_type": "stream",
          "text": [
            "0.9594824120603015\n",
            "alpha: 1e-10\n"
          ],
          "name": "stdout"
        }
      ]
    },
    {
      "cell_type": "markdown",
      "metadata": {
        "id": "q4zY3GidX5ak"
      },
      "source": [
        "#### vectors_train_Lemma_SFML1\n",
        "Best model: MultiNB, LinearSVM, BernouliNB"
      ]
    },
    {
      "cell_type": "code",
      "metadata": {
        "id": "0v2HbixzX8GN"
      },
      "source": [
        "from sklearn.model_selection import GridSearchCV"
      ],
      "execution_count": null,
      "outputs": []
    },
    {
      "cell_type": "code",
      "metadata": {
        "colab": {
          "base_uri": "https://localhost:8080/"
        },
        "id": "NjO6eBlQX8GY",
        "outputId": "58800e3b-7307-40fb-96bc-b13ae296c84e"
      },
      "source": [
        "model = LinearSVC()\n",
        "parameters = {\n",
        "    'C': (0.01, 0.1, 1, 10, 100, 1000)\n",
        "}\n",
        "gs_model = GridSearchCV(model, parameters, cv=10, n_jobs=-1)\n",
        "gs_model = gs_model.fit(vectors_train_Lemma_SFML1, y_train_num)\n",
        "print(gs_model.best_score_)\n",
        "for param_name in sorted(parameters.keys()):\n",
        "    print(\"%s: %r\" % (param_name, gs_model.best_params_[param_name]))"
      ],
      "execution_count": null,
      "outputs": [
        {
          "output_type": "stream",
          "text": [
            "0.9594874371859297\n",
            "C: 10\n"
          ],
          "name": "stdout"
        }
      ]
    },
    {
      "cell_type": "code",
      "metadata": {
        "colab": {
          "base_uri": "https://localhost:8080/"
        },
        "id": "-TjSc2XjX8Gb",
        "outputId": "488d4d01-bf36-417f-951c-b4e1497db209"
      },
      "source": [
        "model = MultinomialNB()\n",
        "parameters = {\n",
        "    'alpha': (1e-10, 1e-5, 0.1, 0.5, 1, 2), \n",
        "}\n",
        "gs_model = GridSearchCV(model, parameters, cv=10, n_jobs=-1)\n",
        "gs_model = gs_model.fit(vectors_train_Lemma_SFML1, y_train_num)\n",
        "print(gs_model.best_score_)\n",
        "for param_name in sorted(parameters.keys()):\n",
        "    print(\"%s: %r\" % (param_name, gs_model.best_params_[param_name]))"
      ],
      "execution_count": null,
      "outputs": [
        {
          "output_type": "stream",
          "text": [
            "0.9439773869346734\n",
            "alpha: 0.1\n"
          ],
          "name": "stdout"
        }
      ]
    },
    {
      "cell_type": "code",
      "metadata": {
        "colab": {
          "base_uri": "https://localhost:8080/"
        },
        "id": "TEHjQk3iX8Gb",
        "outputId": "2e2b7e6a-5024-496f-acf8-16d95b1a3176"
      },
      "source": [
        "model = BernoulliNB()\n",
        "parameters = {\n",
        "    'alpha': (1e-10, 1e-5, 0.1, 0.5, 1, 2)\n",
        "}\n",
        "gs_model = GridSearchCV(model, parameters, cv=10, n_jobs=-1)\n",
        "gs_model = gs_model.fit(vectors_train_Lemma_SFML1, y_train_num)\n",
        "print(gs_model.best_score_)\n",
        "for param_name in sorted(parameters.keys()):\n",
        "    print(\"%s: %r\" % (param_name, gs_model.best_params_[param_name]))"
      ],
      "execution_count": null,
      "outputs": [
        {
          "output_type": "stream",
          "text": [
            "0.9519874371859297\n",
            "alpha: 0.1\n"
          ],
          "name": "stdout"
        }
      ]
    },
    {
      "cell_type": "markdown",
      "metadata": {
        "id": "bBZ16L91cGK7"
      },
      "source": [
        "### Best model: LinearSVM on vectors_train_Lemma_SFML1"
      ]
    },
    {
      "cell_type": "code",
      "metadata": {
        "id": "0qVb0ydkdAS3"
      },
      "source": [
        "from sklearn.model_selection import cross_val_score"
      ],
      "execution_count": null,
      "outputs": []
    },
    {
      "cell_type": "code",
      "metadata": {
        "id": "4z3MyfeQVs7o",
        "colab": {
          "base_uri": "https://localhost:8080/"
        },
        "outputId": "3854f5db-7c2c-4002-b3ec-dba902a8c0c5"
      },
      "source": [
        "model = LinearSVC(C=10)\n",
        "model.fit(vectors_train_Lemma_SFML1, y_train_num)\n",
        "cross_val_score(model, vectors_train_Lemma_SFML1, y_train_num, cv=10)"
      ],
      "execution_count": null,
      "outputs": [
        {
          "output_type": "execute_result",
          "data": {
            "text/plain": [
              "array([0.94      , 0.97      , 0.96      , 0.955     , 0.945     ,\n",
              "       0.96      , 0.985     , 0.955     , 0.95      , 0.97487437])"
            ]
          },
          "metadata": {
            "tags": []
          },
          "execution_count": 74
        }
      ]
    },
    {
      "cell_type": "code",
      "metadata": {
        "id": "-IFZ5fY6V_Ca"
      },
      "source": [
        "model = LinearSVC(C=10)\n",
        "model.fit(vectors_train_Lemma_SFML1, y_train_num)\n",
        "y_pred = model.predict(vectors_test_Lemma_SFML1)\n",
        "y_pred = le.inverse_transform(y_pred)"
      ],
      "execution_count": null,
      "outputs": []
    },
    {
      "cell_type": "markdown",
      "metadata": {
        "id": "Tz9rCLvRkKDB"
      },
      "source": [
        "#### Write results to CSV"
      ]
    },
    {
      "cell_type": "code",
      "metadata": {
        "id": "sYiVSRFSiKw-"
      },
      "source": [
        "result = pd.DataFrame({'id': test.id, 'subreddit': y_pred})\n",
        "result.to_csv(\"result.csv\", index=False)"
      ],
      "execution_count": null,
      "outputs": []
    },
    {
      "cell_type": "code",
      "metadata": {
        "id": "rfs8FKWxWIbM",
        "colab": {
          "base_uri": "https://localhost:8080/",
          "height": 204
        },
        "outputId": "271d8910-4903-433e-9682-337ccd311e85"
      },
      "source": [
        "pred_csv = pd.read_csv('result.csv',engine='python')\n",
        "pred_csv.head()"
      ],
      "execution_count": null,
      "outputs": [
        {
          "output_type": "execute_result",
          "data": {
            "text/html": [
              "<div>\n",
              "<style scoped>\n",
              "    .dataframe tbody tr th:only-of-type {\n",
              "        vertical-align: middle;\n",
              "    }\n",
              "\n",
              "    .dataframe tbody tr th {\n",
              "        vertical-align: top;\n",
              "    }\n",
              "\n",
              "    .dataframe thead th {\n",
              "        text-align: right;\n",
              "    }\n",
              "</style>\n",
              "<table border=\"1\" class=\"dataframe\">\n",
              "  <thead>\n",
              "    <tr style=\"text-align: right;\">\n",
              "      <th></th>\n",
              "      <th>id</th>\n",
              "      <th>subreddit</th>\n",
              "    </tr>\n",
              "  </thead>\n",
              "  <tbody>\n",
              "    <tr>\n",
              "      <th>0</th>\n",
              "      <td>0</td>\n",
              "      <td>science</td>\n",
              "    </tr>\n",
              "    <tr>\n",
              "      <th>1</th>\n",
              "      <td>1</td>\n",
              "      <td>science</td>\n",
              "    </tr>\n",
              "    <tr>\n",
              "      <th>2</th>\n",
              "      <td>2</td>\n",
              "      <td>anime</td>\n",
              "    </tr>\n",
              "    <tr>\n",
              "      <th>3</th>\n",
              "      <td>3</td>\n",
              "      <td>science</td>\n",
              "    </tr>\n",
              "    <tr>\n",
              "      <th>4</th>\n",
              "      <td>4</td>\n",
              "      <td>science</td>\n",
              "    </tr>\n",
              "  </tbody>\n",
              "</table>\n",
              "</div>"
            ],
            "text/plain": [
              "   id subreddit\n",
              "0   0   science\n",
              "1   1   science\n",
              "2   2     anime\n",
              "3   3   science\n",
              "4   4   science"
            ]
          },
          "metadata": {
            "tags": []
          },
          "execution_count": 77
        }
      ]
    },
    {
      "cell_type": "markdown",
      "metadata": {
        "id": "Xv-LNm10CaLk"
      },
      "source": [
        "### Second Best model: MultiNB on vectors_train_Lemma_F"
      ]
    },
    {
      "cell_type": "code",
      "metadata": {
        "id": "9uK_TB7_CaLo"
      },
      "source": [
        "from sklearn.model_selection import cross_val_score"
      ],
      "execution_count": null,
      "outputs": []
    },
    {
      "cell_type": "code",
      "metadata": {
        "colab": {
          "base_uri": "https://localhost:8080/"
        },
        "id": "QwCBQu6CCaLp",
        "outputId": "b070ac8e-5438-494e-a1b2-49d85d1040b1"
      },
      "source": [
        "model = MultinomialNB(alpha=1e-5)\n",
        "# model.fit(vectors_train_Lemma_F, y_train_num)\n",
        "cross_val_score(model, vectors_train_Lemma_F, y_train_num, cv=10)"
      ],
      "execution_count": null,
      "outputs": [
        {
          "output_type": "execute_result",
          "data": {
            "text/plain": [
              "array([0.96      , 0.985     , 0.95      , 0.975     , 0.94      ,\n",
              "       0.965     , 0.98      , 0.955     , 0.955     , 0.97487437])"
            ]
          },
          "metadata": {
            "tags": []
          },
          "execution_count": 78
        }
      ]
    },
    {
      "cell_type": "code",
      "metadata": {
        "id": "7vCDdoN6CaLq"
      },
      "source": [
        "model = MultinomialNB(alpha=1e-5)\n",
        "model.fit(vectors_train_Lemma_F, y_train_num)\n",
        "y_pred = model.predict(vectors_test_Lemma_F)\n",
        "y_pred = le.inverse_transform(y_pred)"
      ],
      "execution_count": null,
      "outputs": []
    },
    {
      "cell_type": "markdown",
      "metadata": {
        "id": "acrbVwmaCaLq"
      },
      "source": [
        "#### Write results to CSV"
      ]
    },
    {
      "cell_type": "code",
      "metadata": {
        "id": "dcAJg9XFCaLr"
      },
      "source": [
        "result = pd.DataFrame({'id': test.id, 'subreddit': y_pred})\n",
        "result.to_csv(\"result.csv\", index=False)"
      ],
      "execution_count": null,
      "outputs": []
    },
    {
      "cell_type": "code",
      "metadata": {
        "colab": {
          "base_uri": "https://localhost:8080/",
          "height": 204
        },
        "id": "FA1Jr0nrCaLs",
        "outputId": "ed988845-1c55-48a4-ca49-018b47980825"
      },
      "source": [
        "pred_csv = pd.read_csv('result.csv',engine='python')\n",
        "pred_csv.head()"
      ],
      "execution_count": null,
      "outputs": [
        {
          "output_type": "execute_result",
          "data": {
            "text/html": [
              "<div>\n",
              "<style scoped>\n",
              "    .dataframe tbody tr th:only-of-type {\n",
              "        vertical-align: middle;\n",
              "    }\n",
              "\n",
              "    .dataframe tbody tr th {\n",
              "        vertical-align: top;\n",
              "    }\n",
              "\n",
              "    .dataframe thead th {\n",
              "        text-align: right;\n",
              "    }\n",
              "</style>\n",
              "<table border=\"1\" class=\"dataframe\">\n",
              "  <thead>\n",
              "    <tr style=\"text-align: right;\">\n",
              "      <th></th>\n",
              "      <th>id</th>\n",
              "      <th>subreddit</th>\n",
              "    </tr>\n",
              "  </thead>\n",
              "  <tbody>\n",
              "    <tr>\n",
              "      <th>0</th>\n",
              "      <td>0</td>\n",
              "      <td>science</td>\n",
              "    </tr>\n",
              "    <tr>\n",
              "      <th>1</th>\n",
              "      <td>1</td>\n",
              "      <td>science</td>\n",
              "    </tr>\n",
              "    <tr>\n",
              "      <th>2</th>\n",
              "      <td>2</td>\n",
              "      <td>laptop</td>\n",
              "    </tr>\n",
              "    <tr>\n",
              "      <th>3</th>\n",
              "      <td>3</td>\n",
              "      <td>science</td>\n",
              "    </tr>\n",
              "    <tr>\n",
              "      <th>4</th>\n",
              "      <td>4</td>\n",
              "      <td>science</td>\n",
              "    </tr>\n",
              "  </tbody>\n",
              "</table>\n",
              "</div>"
            ],
            "text/plain": [
              "   id subreddit\n",
              "0   0   science\n",
              "1   1   science\n",
              "2   2    laptop\n",
              "3   3   science\n",
              "4   4   science"
            ]
          },
          "metadata": {
            "tags": []
          },
          "execution_count": 81
        }
      ]
    }
  ]
}
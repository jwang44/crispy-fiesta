{
  "nbformat": 4,
  "nbformat_minor": 0,
  "metadata": {
    "colab": {
      "name": "feature selection.ipynb",
      "provenance": [],
      "toc_visible": true,
      "include_colab_link": true
    },
    "kernelspec": {
      "name": "python3",
      "display_name": "Python 3"
    }
  },
  "cells": [
    {
      "cell_type": "markdown",
      "metadata": {
        "id": "view-in-github",
        "colab_type": "text"
      },
      "source": [
        "<a href=\"https://colab.research.google.com/github/jwang44/crispy-fiesta/blob/main/runtime_accu.ipynb\" target=\"_parent\"><img src=\"https://colab.research.google.com/assets/colab-badge.svg\" alt=\"Open In Colab\"/></a>"
      ]
    },
    {
      "cell_type": "code",
      "metadata": {
        "colab": {
          "base_uri": "https://localhost:8080/"
        },
        "id": "GhYkxNMosYcz",
        "outputId": "381a2799-bc95-4964-f6f9-16009e216e6d"
      },
      "source": [
        "from google.colab import drive\r\n",
        "drive.mount('/content/drive')\r\n",
        "%cd /content/drive/MyDrive/"
      ],
      "execution_count": 1,
      "outputs": [
        {
          "output_type": "stream",
          "text": [
            "Drive already mounted at /content/drive; to attempt to forcibly remount, call drive.mount(\"/content/drive\", force_remount=True).\n",
            "/content/drive/MyDrive\n"
          ],
          "name": "stdout"
        }
      ]
    },
    {
      "cell_type": "markdown",
      "metadata": {
        "id": "g3YXcam7SI-H"
      },
      "source": [
        "## Load the data and get basic features"
      ]
    },
    {
      "cell_type": "code",
      "metadata": {
        "id": "pVrTh5Fdsqcg"
      },
      "source": [
        "import pandas as pd\r\n",
        "import numpy as np"
      ],
      "execution_count": 2,
      "outputs": []
    },
    {
      "cell_type": "code",
      "metadata": {
        "id": "3OMqYMZNsq_-"
      },
      "source": [
        "train = pd.read_csv('./train.csv',engine='python')\r\n",
        "test = pd.read_csv('./test.csv',engine='python')"
      ],
      "execution_count": 3,
      "outputs": []
    },
    {
      "cell_type": "code",
      "metadata": {
        "id": "jjdGixmNss4K"
      },
      "source": [
        "X_train = train.body  # train texts\r\n",
        "y_train = train.subreddit # train subreddits\r\n",
        "X_test = test.body  # test texts"
      ],
      "execution_count": 4,
      "outputs": []
    },
    {
      "cell_type": "code",
      "metadata": {
        "id": "95NKm9YPtJ_d"
      },
      "source": [
        "from sklearn.preprocessing import Normalizer, LabelEncoder\r\n",
        "from sklearn.feature_extraction import text\r\n",
        "from sklearn.feature_extraction.text import CountVectorizer, TfidfVectorizer, TfidfTransformer"
      ],
      "execution_count": 5,
      "outputs": []
    },
    {
      "cell_type": "code",
      "metadata": {
        "colab": {
          "base_uri": "https://localhost:8080/"
        },
        "id": "1XFoTwA_s2B-",
        "outputId": "b134518f-eb42-4666-8d0f-3ba2c6ac3a9d"
      },
      "source": [
        "# transform target labels to values\r\n",
        "le = LabelEncoder()\r\n",
        "y_train_num = le.fit_transform(y_train.values) # convert category from string to numerical (!!!!! update the variables in kcross fold)\r\n",
        "\r\n",
        "# vectorize word count\r\n",
        "vectorizer = CountVectorizer()\r\n",
        "vectors_train = vectorizer.fit_transform(X_train)\r\n",
        "vectors_test = vectorizer.transform(X_test)\r\n",
        "\r\n",
        "normalizer_train = Normalizer()\r\n",
        "vectors_train= normalizer_train.transform(vectors_train)\r\n",
        "vectors_test= normalizer_train.transform(vectors_test)\r\n",
        "\r\n",
        "# print(vectorizer.get_feature_names())\r\n",
        "print(vectors_train.shape)\r\n",
        "print(vectors_test.shape)"
      ],
      "execution_count": 6,
      "outputs": [
        {
          "output_type": "stream",
          "text": [
            "(1999, 15365)\n",
            "(1378, 15365)\n"
          ],
          "name": "stdout"
        }
      ]
    },
    {
      "cell_type": "code",
      "metadata": {
        "colab": {
          "base_uri": "https://localhost:8080/"
        },
        "id": "CkJsrQzH1qAD",
        "outputId": "dc717383-476c-4b0e-ef79-334961feb9d5"
      },
      "source": [
        "import nltk\r\n",
        "nltk.download('punkt')\r\n",
        "nltk.download('wordnet')\r\n",
        "nltk.download('averaged_perceptron_tagger')\r\n",
        "from nltk.stem import PorterStemmer, WordNetLemmatizer\r\n",
        "from nltk import word_tokenize\r\n",
        "from nltk.corpus import wordnet"
      ],
      "execution_count": 7,
      "outputs": [
        {
          "output_type": "stream",
          "text": [
            "[nltk_data] Downloading package punkt to /root/nltk_data...\n",
            "[nltk_data]   Package punkt is already up-to-date!\n",
            "[nltk_data] Downloading package wordnet to /root/nltk_data...\n",
            "[nltk_data]   Package wordnet is already up-to-date!\n",
            "[nltk_data] Downloading package averaged_perceptron_tagger to\n",
            "[nltk_data]     /root/nltk_data...\n",
            "[nltk_data]   Package averaged_perceptron_tagger is already up-to-\n",
            "[nltk_data]       date!\n"
          ],
          "name": "stdout"
        }
      ]
    },
    {
      "cell_type": "code",
      "metadata": {
        "colab": {
          "base_uri": "https://localhost:8080/"
        },
        "id": "pOD25ysB1x1o",
        "outputId": "dd1061d6-6bd5-4934-c77b-e9cfcf8258f0"
      },
      "source": [
        "# put it all together: remove stop words and punctuation, tfidf, lemmatization, normalization\r\n",
        "stop_words = text.ENGLISH_STOP_WORDS\r\n",
        "\r\n",
        "def get_wordnet_pos(word):\r\n",
        "    \"\"\"Map POS tag to first character lemmatize() accepts\"\"\"\r\n",
        "    tag = nltk.pos_tag([word])[0][1][0].upper()\r\n",
        "    tag_dict = {\"J\": wordnet.ADJ,\r\n",
        "                \"N\": wordnet.NOUN,\r\n",
        "                \"V\": wordnet.VERB,\r\n",
        "                \"R\": wordnet.ADV}\r\n",
        "    return tag_dict.get(tag, wordnet.NOUN)\r\n",
        "\r\n",
        "class New_LemmaTokenizer:\r\n",
        "     def __init__(self):\r\n",
        "       self.wnl = WordNetLemmatizer()\r\n",
        "     def __call__(self, doc):\r\n",
        "       return [self.wnl.lemmatize(t,pos =get_wordnet_pos(t)) for t in word_tokenize(doc) if t.isalpha()]\r\n",
        "\r\n",
        "tf_idf_transformer = TfidfTransformer()\r\n",
        "vectorizer = CountVectorizer(stop_words = stop_words, tokenizer = New_LemmaTokenizer(), ngram_range=(1, 2)) #unigram+bigram:ngram_range=(1, 2), only bigram:ngram_range=(2, 2)\r\n",
        "vectors_train_stop_tfidf_Lemma = vectorizer.fit_transform(X_train)\r\n",
        "vectors_train_stop_tfidf_Lemma = tf_idf_transformer.fit_transform(vectors_train_stop_tfidf_Lemma)\r\n",
        "vectors_test_stop_tfidf_Lemma = vectorizer.transform(X_test)\r\n",
        "vectors_test_stop_tfidf_Lemma = tf_idf_transformer.transform(vectors_test_stop_tfidf_Lemma)\r\n",
        "vectors_train_stop_tfidf_Lemma = normalizer_train.transform(vectors_train_stop_tfidf_Lemma)\r\n",
        "vectors_test_stop_tfidf_Lemma = normalizer_train.transform(vectors_test_stop_tfidf_Lemma)\r\n",
        "\r\n",
        "#print(vectorizer.get_feature_names())\r\n",
        "print(vectors_train_stop_tfidf_Lemma.shape)\r\n",
        "print(vectors_test_stop_tfidf_Lemma.shape)"
      ],
      "execution_count": 8,
      "outputs": [
        {
          "output_type": "stream",
          "text": [
            "/usr/local/lib/python3.7/dist-packages/sklearn/feature_extraction/text.py:385: UserWarning: Your stop_words may be inconsistent with your preprocessing. Tokenizing the stop words generated tokens ['far', 'make', 'u'] not in stop_words.\n",
            "  'stop_words.' % sorted(inconsistent))\n"
          ],
          "name": "stderr"
        },
        {
          "output_type": "stream",
          "text": [
            "(1999, 70414)\n",
            "(1378, 70414)\n"
          ],
          "name": "stdout"
        }
      ]
    },
    {
      "cell_type": "code",
      "metadata": {
        "colab": {
          "base_uri": "https://localhost:8080/"
        },
        "id": "5oBLHbwe13Uw",
        "outputId": "9b3db48e-2bda-4cb9-e315-0b54a8a5e8fc"
      },
      "source": [
        "# remove stopwords and punctuation, tfidf, stemming, normalization\r\n",
        "stop_words = text.ENGLISH_STOP_WORDS\r\n",
        "\r\n",
        "class StemTokenizer:\r\n",
        "     def __init__(self):\r\n",
        "       self.wnl =PorterStemmer()\r\n",
        "     def __call__(self, doc):\r\n",
        "       return [self.wnl.stem(t) for t in word_tokenize(doc) if t.isalpha()]\r\n",
        "\r\n",
        "tf_idf_transformer = TfidfTransformer()\r\n",
        "vectorizer = CountVectorizer(stop_words = stop_words, tokenizer=StemTokenizer(),ngram_range=(1, 2)) #unigram+bigram:ngram_range=(1, 2), only bigram:ngram_range=(2, 2)\r\n",
        "vectors_train_stop_tfidf_stem = vectorizer.fit_transform(X_train)\r\n",
        "vectors_train_stop_tfidf_stem = tf_idf_transformer.fit_transform(vectors_train_stop_tfidf_stem)\r\n",
        "vectors_test_stop_tfidf_stem = vectorizer.transform(X_test)\r\n",
        "vectors_test_stop_tfidf_stem = tf_idf_transformer.transform(vectors_test_stop_tfidf_stem)\r\n",
        "vectors_train_stop_tfidf_stem = normalizer_train.transform(vectors_train_stop_tfidf_stem)\r\n",
        "vectors_test_stop_tfidf_stem = normalizer_train.transform(vectors_test_stop_tfidf_stem)\r\n",
        "print(vectors_train_stop_tfidf_stem.shape)\r\n",
        "print(vectors_test_stop_tfidf_stem.shape)"
      ],
      "execution_count": 9,
      "outputs": [
        {
          "output_type": "stream",
          "text": [
            "/usr/local/lib/python3.7/dist-packages/sklearn/feature_extraction/text.py:385: UserWarning: Your stop_words may be inconsistent with your preprocessing. Tokenizing the stop words generated tokens ['abov', 'afterward', 'alon', 'alreadi', 'alway', 'ani', 'anoth', 'anyon', 'anyth', 'anywher', 'becam', 'becaus', 'becom', 'befor', 'besid', 'cri', 'describ', 'dure', 'els', 'elsewher', 'empti', 'everi', 'everyon', 'everyth', 'everywher', 'fifti', 'formerli', 'forti', 'ha', 'henc', 'hereaft', 'herebi', 'hi', 'howev', 'hundr', 'inde', 'latterli', 'mani', 'meanwhil', 'moreov', 'mostli', 'nobodi', 'noon', 'noth', 'nowher', 'onc', 'onli', 'otherwis', 'ourselv', 'perhap', 'pleas', 'seriou', 'sever', 'sinc', 'sincer', 'sixti', 'someon', 'someth', 'sometim', 'somewher', 'themselv', 'thenc', 'thereaft', 'therebi', 'therefor', 'thi', 'thu', 'togeth', 'twelv', 'twenti', 'veri', 'wa', 'whatev', 'whenc', 'whenev', 'wherea', 'whereaft', 'wherebi', 'wherev', 'whi', 'yourselv'] not in stop_words.\n",
            "  'stop_words.' % sorted(inconsistent))\n"
          ],
          "name": "stderr"
        },
        {
          "output_type": "stream",
          "text": [
            "(1999, 73597)\n",
            "(1378, 73597)\n"
          ],
          "name": "stdout"
        }
      ]
    },
    {
      "cell_type": "markdown",
      "metadata": {
        "id": "FcDWLcpSSQUX"
      },
      "source": [
        "## Measure runtime and accuracy for different feature numbers and different feature selections"
      ]
    },
    {
      "cell_type": "code",
      "metadata": {
        "id": "DfzvYQTytAXZ"
      },
      "source": [
        "from sklearn.feature_selection import SelectKBest, SelectPercentile, chi2, mutual_info_classif, f_classif, SelectFpr, SelectFwe, SelectFdr, RFE, RFECV, SelectFromModel\r\n",
        "from sklearn.ensemble import ExtraTreesClassifier\r\n",
        "from sklearn.svm import LinearSVC, SVC\r\n",
        "from sklearn.naive_bayes import MultinomialNB\r\n",
        "from sklearn.linear_model import LogisticRegression\r\n",
        "from sklearn.model_selection import cross_val_score\r\n",
        "import time"
      ],
      "execution_count": 10,
      "outputs": []
    },
    {
      "cell_type": "markdown",
      "metadata": {
        "id": "aUfR6pk4Fwyh"
      },
      "source": [
        "###feature selection function"
      ]
    },
    {
      "cell_type": "code",
      "metadata": {
        "id": "ami7p42TAWdA"
      },
      "source": [
        "select_chi2_1 = SelectPercentile(chi2, percentile=0.015)\r\n",
        "ft_chi2_1 = select_chi2_1.fit_transform(vectors_train_stop_tfidf_Lemma, y_train_num)\r\n",
        "select_chi2_2 = SelectPercentile(chi2, percentile=0.06)\r\n",
        "ft_chi2_2 = select_chi2_2.fit_transform(vectors_train_stop_tfidf_Lemma, y_train_num)\r\n",
        "select_chi2_3 = SelectPercentile(chi2, percentile=0.24)\r\n",
        "ft_chi2_3 = select_chi2_3.fit_transform(vectors_train_stop_tfidf_Lemma, y_train_num)\r\n",
        "select_chi2_4 = SelectPercentile(chi2, percentile=1)\r\n",
        "ft_chi2_4 = select_chi2_4.fit_transform(vectors_train_stop_tfidf_Lemma, y_train_num)\r\n",
        "select_chi2_5 = SelectPercentile(chi2, percentile=4)\r\n",
        "ft_chi2_5 = select_chi2_5.fit_transform(vectors_train_stop_tfidf_Lemma, y_train_num)\r\n",
        "select_chi2_6 = SelectPercentile(chi2, percentile=16)\r\n",
        "ft_chi2_6 = select_chi2_6.fit_transform(vectors_train_stop_tfidf_Lemma, y_train_num)\r\n",
        "select_chi2_7 = SelectPercentile(chi2, percentile=64)\r\n",
        "ft_chi2_7 = select_chi2_7.fit_transform(vectors_train_stop_tfidf_Lemma, y_train_num)"
      ],
      "execution_count": 92,
      "outputs": []
    },
    {
      "cell_type": "code",
      "metadata": {
        "id": "6EmJT2ZSA7xf"
      },
      "source": [
        "select_mutual_1 = SelectPercentile(mutual_info_classif, percentile=0.015)\r\n",
        "ft_mutual_1 = select_mutual_1.fit_transform(vectors_train_stop_tfidf_Lemma, y_train_num)\r\n",
        "select_mutual_2 = SelectPercentile(mutual_info_classif, percentile=0.06)\r\n",
        "ft_mutual_2 = select_mutual_2.fit_transform(vectors_train_stop_tfidf_Lemma, y_train_num)\r\n",
        "select_mutual_3 = SelectPercentile(mutual_info_classif, percentile=0.24)\r\n",
        "ft_mutual_3 = select_mutual_3.fit_transform(vectors_train_stop_tfidf_Lemma, y_train_num)\r\n",
        "select_mutual_4 = SelectPercentile(mutual_info_classif, percentile=1)\r\n",
        "ft_mutual_4 = select_mutual_4.fit_transform(vectors_train_stop_tfidf_Lemma, y_train_num)\r\n",
        "select_mutual_5 = SelectPercentile(mutual_info_classif, percentile=4)\r\n",
        "ft_mutual_5 = select_mutual_5.fit_transform(vectors_train_stop_tfidf_Lemma, y_train_num)\r\n",
        "select_mutual_6 = SelectPercentile(mutual_info_classif, percentile=16)\r\n",
        "ft_mutual_6 = select_mutual_6.fit_transform(vectors_train_stop_tfidf_Lemma, y_train_num)\r\n",
        "select_mutual_7 = SelectPercentile(mutual_info_classif, percentile=64)\r\n",
        "ft_mutual_7 = select_mutual_7.fit_transform(vectors_train_stop_tfidf_Lemma, y_train_num)"
      ],
      "execution_count": 99,
      "outputs": []
    },
    {
      "cell_type": "code",
      "metadata": {
        "id": "Wgdbx1GdBEKZ"
      },
      "source": [
        "select_f_1 = SelectPercentile(mutual_info_classif, percentile=0.015)\r\n",
        "ft_f_1 = select_f_1.fit_transform(vectors_train_stop_tfidf_Lemma, y_train_num)\r\n",
        "select_f_2 = SelectPercentile(mutual_info_classif, percentile=0.06)\r\n",
        "ft_f_2 = select_f_2.fit_transform(vectors_train_stop_tfidf_Lemma, y_train_num)\r\n",
        "select_f_3 = SelectPercentile(mutual_info_classif, percentile=0.24)\r\n",
        "ft_f_3 = select_f_3.fit_transform(vectors_train_stop_tfidf_Lemma, y_train_num)\r\n",
        "select_f_4 = SelectPercentile(mutual_info_classif, percentile=1)\r\n",
        "ft_f_4 = select_f_4.fit_transform(vectors_train_stop_tfidf_Lemma, y_train_num)\r\n",
        "select_f_5 = SelectPercentile(mutual_info_classif, percentile=4)\r\n",
        "ft_f_5 = select_f_5.fit_transform(vectors_train_stop_tfidf_Lemma, y_train_num)\r\n",
        "select_f_6 = SelectPercentile(mutual_info_classif, percentile=16)\r\n",
        "ft_f_6 = select_f_6.fit_transform(vectors_train_stop_tfidf_Lemma, y_train_num)\r\n",
        "select_f_7 = SelectPercentile(mutual_info_classif, percentile=64)\r\n",
        "ft_f_7 = select_f_7.fit_transform(vectors_train_stop_tfidf_Lemma, y_train_num)"
      ],
      "execution_count": 95,
      "outputs": []
    },
    {
      "cell_type": "code",
      "metadata": {
        "id": "cZ6rNq7CEwMQ"
      },
      "source": [
        "def feature_select(selector,per):\r\n",
        "  if selector=='chi2':\r\n",
        "    if per == 0.015:\r\n",
        "      return ft_chi2_1\r\n",
        "    elif per == 0.06:\r\n",
        "      return ft_chi2_2\r\n",
        "    elif per == 0.24:\r\n",
        "      return ft_chi2_3\r\n",
        "    elif per == 1:\r\n",
        "      return ft_chi2_4\r\n",
        "    elif per == 4:\r\n",
        "      return ft_chi2_5\r\n",
        "    elif per == 16:\r\n",
        "      return ft_chi2_6\r\n",
        "    elif per == 64:\r\n",
        "      return ft_chi2_7     \r\n",
        "  elif selector=='mutual_info':\r\n",
        "    if per == 0.015:\r\n",
        "      return ft_mutual_1\r\n",
        "    elif per == 0.06:\r\n",
        "      return ft_mutual_2\r\n",
        "    elif per == 0.24:\r\n",
        "      return ft_mutual_3\r\n",
        "    elif per == 1:\r\n",
        "      return ft_mutual_4\r\n",
        "    elif per == 4:\r\n",
        "      return ft_mutual_5\r\n",
        "    elif per == 16:\r\n",
        "      return ft_mutual_6\r\n",
        "    elif per == 64:\r\n",
        "      return ft_mutual_7  \r\n",
        "  elif selector=='f':\r\n",
        "    if per == 0.015:\r\n",
        "      return ft_f_1\r\n",
        "    elif per == 0.06:\r\n",
        "      return ft_f_2\r\n",
        "    elif per == 0.24:\r\n",
        "      return ft_f_3\r\n",
        "    elif per == 1:\r\n",
        "      return ft_f_4\r\n",
        "    elif per == 4:\r\n",
        "      return ft_f_5\r\n",
        "    elif per == 16:\r\n",
        "      return ft_f_6\r\n",
        "    elif per == 64:\r\n",
        "      return ft_f_7  "
      ],
      "execution_count": 103,
      "outputs": []
    },
    {
      "cell_type": "markdown",
      "metadata": {
        "id": "P2HDwRlFGDet"
      },
      "source": [
        "###runtime accu"
      ]
    },
    {
      "cell_type": "code",
      "metadata": {
        "id": "EUIDv00PLKVC"
      },
      "source": [
        "def runtime_accu(selector, model, per):\n",
        "  # select = SelectKBest(chi2, k=k)\n",
        "  \n",
        "  vectors_train_Lemma = feature_select(selector,per)\n",
        "  print(vectors_train_Lemma.shape)\n",
        "  t1 = time.time()\n",
        "  accuracy = cross_val_score(model, vectors_train_Lemma, y_train_num, cv=10).mean()\n",
        "  runtime = time.time()-t1\n",
        "  print(\"accuracy: \", accuracy)\n",
        "  print(\"runtime: \", runtime, '\\n')\n",
        "  return accuracy, runtime"
      ],
      "execution_count": 97,
      "outputs": []
    },
    {
      "cell_type": "code",
      "metadata": {
        "id": "w0Jb2crkmlkE"
      },
      "source": [
        "per_range = [0.015, 0.06, 0.24, 1, 4, 16, 64]"
      ],
      "execution_count": 78,
      "outputs": []
    },
    {
      "cell_type": "markdown",
      "metadata": {
        "id": "h5sFtvD7XDD1"
      },
      "source": [
        "### Chi2"
      ]
    },
    {
      "cell_type": "code",
      "metadata": {
        "id": "MBP1xMGiWdqR"
      },
      "source": [
        "selector = 'chi2'"
      ],
      "execution_count": 145,
      "outputs": []
    },
    {
      "cell_type": "code",
      "metadata": {
        "colab": {
          "base_uri": "https://localhost:8080/"
        },
        "id": "yfOj6cVRORtJ",
        "outputId": "6b736ed5-96e4-4932-ece7-f9de0c6341ee"
      },
      "source": [
        "model = LinearSVC(C=1)\n",
        "acc_linearsvc = []\n",
        "t_linearsvc = []\n",
        "for per in per_range:\n",
        "  accuracy, runtime = runtime_accu(selector, model, per)\n",
        "  acc_linearsvc.append(accuracy)\n",
        "  t_linearsvc.append(runtime)"
      ],
      "execution_count": 146,
      "outputs": [
        {
          "output_type": "stream",
          "text": [
            "(1999, 11)\n",
            "accuracy:  0.689354271356784\n",
            "runtime:  0.16544103622436523 \n",
            "\n",
            "(1999, 42)\n",
            "accuracy:  0.7594045226130653\n",
            "runtime:  0.1812300682067871 \n",
            "\n",
            "(1999, 169)\n",
            "accuracy:  0.8579472361809044\n",
            "runtime:  0.20434331893920898 \n",
            "\n",
            "(1999, 705)\n",
            "accuracy:  0.9119572864321608\n",
            "runtime:  0.24789834022521973 \n",
            "\n",
            "(1999, 2817)\n",
            "accuracy:  0.9404773869346735\n",
            "runtime:  0.31222033500671387 \n",
            "\n",
            "(1999, 11266)\n",
            "accuracy:  0.9469723618090452\n",
            "runtime:  0.4239063262939453 \n",
            "\n",
            "(1999, 45064)\n",
            "accuracy:  0.9419748743718592\n",
            "runtime:  0.7392127513885498 \n",
            "\n"
          ],
          "name": "stdout"
        }
      ]
    },
    {
      "cell_type": "code",
      "metadata": {
        "colab": {
          "base_uri": "https://localhost:8080/"
        },
        "id": "lQ3WMv52SSz-",
        "outputId": "2989a02d-4dc6-4694-e444-a6b2dbd89ceb"
      },
      "source": [
        "model = SVC(C=1)\n",
        "acc_svc = []\n",
        "t_svc = []\n",
        "for per in per_range:\n",
        "  accuracy, runtime = runtime_accu(selector, model, per)\n",
        "  acc_svc.append(accuracy)\n",
        "  t_svc.append(runtime)"
      ],
      "execution_count": 147,
      "outputs": [
        {
          "output_type": "stream",
          "text": [
            "(1999, 11)\n",
            "accuracy:  0.6848492462311558\n",
            "runtime:  0.7908039093017578 \n",
            "\n",
            "(1999, 42)\n",
            "accuracy:  0.7578969849246231\n",
            "runtime:  0.9890344142913818 \n",
            "\n",
            "(1999, 169)\n",
            "accuracy:  0.8509346733668341\n",
            "runtime:  1.321225643157959 \n",
            "\n",
            "(1999, 705)\n",
            "accuracy:  0.8959447236180905\n",
            "runtime:  3.3054208755493164 \n",
            "\n",
            "(1999, 2817)\n",
            "accuracy:  0.929467336683417\n",
            "runtime:  10.067138433456421 \n",
            "\n",
            "(1999, 11266)\n",
            "accuracy:  0.8959472361809044\n",
            "runtime:  14.995628595352173 \n",
            "\n",
            "(1999, 45064)\n",
            "accuracy:  0.9204748743718593\n",
            "runtime:  21.900299787521362 \n",
            "\n"
          ],
          "name": "stdout"
        }
      ]
    },
    {
      "cell_type": "code",
      "metadata": {
        "colab": {
          "base_uri": "https://localhost:8080/"
        },
        "id": "8QB0kgywR3wi",
        "outputId": "207dd86b-5544-4c4d-acdf-05d1008141e3"
      },
      "source": [
        "model = MultinomialNB(alpha=1e-10)\n",
        "acc_MNB = []\n",
        "t_MNB = []\n",
        "for per in per_range:\n",
        "  accuracy, runtime = runtime_accu(selector, model, per)\n",
        "  acc_MNB.append(accuracy)\n",
        "  t_MNB.append(runtime)"
      ],
      "execution_count": 148,
      "outputs": [
        {
          "output_type": "stream",
          "text": [
            "(1999, 11)\n",
            "accuracy:  0.5967914572864321\n",
            "runtime:  0.02365732192993164 \n",
            "\n",
            "(1999, 42)\n",
            "accuracy:  0.7013643216080403\n",
            "runtime:  0.018560171127319336 \n",
            "\n",
            "(1999, 169)\n",
            "accuracy:  0.8084170854271356\n",
            "runtime:  0.021249055862426758 \n",
            "\n",
            "(1999, 705)\n",
            "accuracy:  0.8954597989949749\n",
            "runtime:  0.02305150032043457 \n",
            "\n",
            "(1999, 2817)\n",
            "accuracy:  0.9479824120603016\n",
            "runtime:  0.03034186363220215 \n",
            "\n",
            "(1999, 11266)\n",
            "accuracy:  0.9589849246231156\n",
            "runtime:  0.047742366790771484 \n",
            "\n",
            "(1999, 45064)\n",
            "accuracy:  0.9279748743718592\n",
            "runtime:  0.13162016868591309 \n",
            "\n"
          ],
          "name": "stdout"
        }
      ]
    },
    {
      "cell_type": "code",
      "metadata": {
        "colab": {
          "base_uri": "https://localhost:8080/"
        },
        "id": "VQVbbktDSyK9",
        "outputId": "73e8fc62-3bbd-4a6f-9a9c-e5bbe72d8e0d"
      },
      "source": [
        "model = LogisticRegression()\n",
        "acc_LR = []\n",
        "t_LR = []\n",
        "for per in per_range:\n",
        "  accuracy, runtime = runtime_accu(selector, model, per)\n",
        "  acc_LR.append(accuracy)\n",
        "  t_LR.append(runtime)"
      ],
      "execution_count": 149,
      "outputs": [
        {
          "output_type": "stream",
          "text": [
            "(1999, 11)\n",
            "accuracy:  0.6848517587939698\n",
            "runtime:  0.4727652072906494 \n",
            "\n",
            "(1999, 42)\n",
            "accuracy:  0.7508944723618091\n",
            "runtime:  0.7359647750854492 \n",
            "\n",
            "(1999, 169)\n",
            "accuracy:  0.8499422110552762\n",
            "runtime:  0.99277663230896 \n",
            "\n",
            "(1999, 705)\n",
            "accuracy:  0.9049547738693468\n",
            "runtime:  1.3592965602874756 \n",
            "\n",
            "(1999, 2817)\n",
            "accuracy:  0.9304698492462311\n",
            "runtime:  4.165464162826538 \n",
            "\n",
            "(1999, 11266)\n",
            "accuracy:  0.9369723618090452\n",
            "runtime:  11.151235818862915 \n",
            "\n",
            "(1999, 45064)\n",
            "accuracy:  0.9334748743718595\n",
            "runtime:  33.1479971408844 \n",
            "\n"
          ],
          "name": "stdout"
        }
      ]
    },
    {
      "cell_type": "markdown",
      "metadata": {
        "id": "ezBNsGZ6XL4q"
      },
      "source": [
        "### Mutual info"
      ]
    },
    {
      "cell_type": "code",
      "metadata": {
        "id": "vWKMpKk_XOrN"
      },
      "source": [
        "selector = 'mutual_info'"
      ],
      "execution_count": 150,
      "outputs": []
    },
    {
      "cell_type": "code",
      "metadata": {
        "colab": {
          "base_uri": "https://localhost:8080/"
        },
        "id": "eDKQ9KiyKA6P",
        "outputId": "7249a169-389f-48a0-977d-4e9d5f30b0da"
      },
      "source": [
        "model = LinearSVC(C=1)\n",
        "m_acc_linearsvc = []\n",
        "m_t_linearsvc = []\n",
        "for per in per_range:\n",
        "  accuracy, runtime = runtime_accu(selector, model, per)\n",
        "  m_acc_linearsvc.append(accuracy)\n",
        "  m_t_linearsvc.append(runtime)"
      ],
      "execution_count": 151,
      "outputs": [
        {
          "output_type": "stream",
          "text": [
            "(1999, 11)\n",
            "accuracy:  0.48426381909547744\n",
            "runtime:  0.2122032642364502 \n",
            "\n",
            "(1999, 43)\n",
            "accuracy:  0.7133768844221106\n",
            "runtime:  0.20849394798278809 \n",
            "\n",
            "(1999, 169)\n",
            "accuracy:  0.8244221105527638\n",
            "runtime:  0.23018383979797363 \n",
            "\n",
            "(1999, 705)\n",
            "accuracy:  0.8824447236180906\n",
            "runtime:  0.2861955165863037 \n",
            "\n",
            "(1999, 2816)\n",
            "accuracy:  0.9289648241206031\n",
            "runtime:  0.37527942657470703 \n",
            "\n",
            "(1999, 11266)\n",
            "accuracy:  0.9354648241206028\n",
            "runtime:  0.4809145927429199 \n",
            "\n",
            "(1999, 45064)\n",
            "accuracy:  0.937467336683417\n",
            "runtime:  0.7279319763183594 \n",
            "\n"
          ],
          "name": "stdout"
        }
      ]
    },
    {
      "cell_type": "code",
      "metadata": {
        "colab": {
          "base_uri": "https://localhost:8080/"
        },
        "id": "qTdb2vw5KA6R",
        "outputId": "a561a38f-630e-4db2-cea9-11f35faeb204"
      },
      "source": [
        "model = SVC(C=1)\n",
        "m_acc_svc = []\n",
        "m_t_svc = []\n",
        "for per in per_range:\n",
        "  accuracy, runtime = runtime_accu(selector, model, per)\n",
        "  m_acc_svc.append(accuracy)\n",
        "  m_t_svc.append(runtime)"
      ],
      "execution_count": 152,
      "outputs": [
        {
          "output_type": "stream",
          "text": [
            "(1999, 11)\n",
            "accuracy:  0.48827638190954775\n",
            "runtime:  1.9841423034667969 \n",
            "\n",
            "(1999, 43)\n",
            "accuracy:  0.6988668341708544\n",
            "runtime:  2.4201745986938477 \n",
            "\n",
            "(1999, 169)\n",
            "accuracy:  0.8084120603015075\n",
            "runtime:  3.584333658218384 \n",
            "\n",
            "(1999, 705)\n",
            "accuracy:  0.8674346733668342\n",
            "runtime:  6.766091823577881 \n",
            "\n",
            "(1999, 2816)\n",
            "accuracy:  0.922964824120603\n",
            "runtime:  14.433770656585693 \n",
            "\n",
            "(1999, 11266)\n",
            "accuracy:  0.9214597989949749\n",
            "runtime:  18.673514127731323 \n",
            "\n",
            "(1999, 45064)\n",
            "accuracy:  0.9484798994974876\n",
            "runtime:  22.051501035690308 \n",
            "\n"
          ],
          "name": "stdout"
        }
      ]
    },
    {
      "cell_type": "code",
      "metadata": {
        "colab": {
          "base_uri": "https://localhost:8080/"
        },
        "id": "5IiqZQWLKA6S",
        "outputId": "99ffd055-d285-4fa5-c830-b30f352220e2"
      },
      "source": [
        "model = MultinomialNB(alpha=1e-10)\n",
        "m_acc_MNB = []\n",
        "m_t_MNB = []\n",
        "for per in per_range:\n",
        "  accuracy, runtime = runtime_accu(selector, model, per)\n",
        "  m_acc_MNB.append(accuracy)\n",
        "  m_t_MNB.append(runtime)"
      ],
      "execution_count": 153,
      "outputs": [
        {
          "output_type": "stream",
          "text": [
            "(1999, 11)\n",
            "accuracy:  0.4632462311557789\n",
            "runtime:  0.023824214935302734 \n",
            "\n",
            "(1999, 43)\n",
            "accuracy:  0.669856783919598\n",
            "runtime:  0.019484758377075195 \n",
            "\n",
            "(1999, 169)\n",
            "accuracy:  0.7443869346733669\n",
            "runtime:  0.020663976669311523 \n",
            "\n",
            "(1999, 705)\n",
            "accuracy:  0.7949120603015075\n",
            "runtime:  0.024098873138427734 \n",
            "\n",
            "(1999, 2816)\n",
            "accuracy:  0.8734371859296483\n",
            "runtime:  0.03317713737487793 \n",
            "\n",
            "(1999, 11266)\n",
            "accuracy:  0.8999547738693467\n",
            "runtime:  0.053458452224731445 \n",
            "\n",
            "(1999, 45064)\n",
            "accuracy:  0.8904497487437186\n",
            "runtime:  0.1317596435546875 \n",
            "\n"
          ],
          "name": "stdout"
        }
      ]
    },
    {
      "cell_type": "code",
      "metadata": {
        "colab": {
          "base_uri": "https://localhost:8080/"
        },
        "id": "1sXF3ByBKA6T",
        "outputId": "3a31eb35-fb07-4398-d65a-61d8c9a38b78"
      },
      "source": [
        "model = LogisticRegression()\n",
        "m_acc_LR = []\n",
        "m_t_LR = []\n",
        "for per in per_range:\n",
        "  accuracy, runtime = runtime_accu(selector, model, per)\n",
        "  m_acc_LR.append(accuracy)\n",
        "  m_t_LR.append(runtime)"
      ],
      "execution_count": 154,
      "outputs": [
        {
          "output_type": "stream",
          "text": [
            "(1999, 11)\n",
            "accuracy:  0.4882688442211055\n",
            "runtime:  0.6378984451293945 \n",
            "\n",
            "(1999, 43)\n",
            "accuracy:  0.7068869346733667\n",
            "runtime:  0.7480430603027344 \n",
            "\n",
            "(1999, 169)\n",
            "accuracy:  0.814427135678392\n",
            "runtime:  1.0466268062591553 \n",
            "\n",
            "(1999, 705)\n",
            "accuracy:  0.8859497487437185\n",
            "runtime:  1.5338633060455322 \n",
            "\n",
            "(1999, 2816)\n",
            "accuracy:  0.9234723618090452\n",
            "runtime:  4.891570568084717 \n",
            "\n",
            "(1999, 11266)\n",
            "accuracy:  0.9314773869346734\n",
            "runtime:  12.24168872833252 \n",
            "\n",
            "(1999, 45064)\n",
            "accuracy:  0.9284773869346734\n",
            "runtime:  33.0831823348999 \n",
            "\n"
          ],
          "name": "stdout"
        }
      ]
    },
    {
      "cell_type": "markdown",
      "metadata": {
        "id": "41vf58GOXTcY"
      },
      "source": [
        "### F score"
      ]
    },
    {
      "cell_type": "code",
      "metadata": {
        "id": "MsWLzgIWXVmw"
      },
      "source": [
        "selector = 'f'"
      ],
      "execution_count": 155,
      "outputs": []
    },
    {
      "cell_type": "code",
      "metadata": {
        "id": "7rdnMhq1LsdI",
        "outputId": "91075828-9438-4582-8a91-855f5891b662",
        "colab": {
          "base_uri": "https://localhost:8080/"
        }
      },
      "source": [
        "model = LinearSVC(C=1)\n",
        "f_acc_linearsvc = []\n",
        "f_t_linearsvc = []\n",
        "for per in per_range:\n",
        "  accuracy, runtime = runtime_accu(selector, model, per)\n",
        "  f_acc_linearsvc.append(accuracy)\n",
        "  f_t_linearsvc.append(runtime)"
      ],
      "execution_count": 156,
      "outputs": [
        {
          "output_type": "stream",
          "text": [
            "(1999, 11)\n",
            "accuracy:  0.48426381909547744\n",
            "runtime:  0.24852943420410156 \n",
            "\n",
            "(1999, 43)\n",
            "accuracy:  0.7133768844221106\n",
            "runtime:  0.21040916442871094 \n",
            "\n",
            "(1999, 169)\n",
            "accuracy:  0.8244221105527638\n",
            "runtime:  0.22840571403503418 \n",
            "\n",
            "(1999, 705)\n",
            "accuracy:  0.8824447236180906\n",
            "runtime:  0.2880406379699707 \n",
            "\n",
            "(1999, 2816)\n",
            "accuracy:  0.9289648241206031\n",
            "runtime:  0.3805370330810547 \n",
            "\n",
            "(1999, 11266)\n",
            "accuracy:  0.9354648241206028\n",
            "runtime:  0.480741024017334 \n",
            "\n",
            "(1999, 45064)\n",
            "accuracy:  0.937467336683417\n",
            "runtime:  0.7266032695770264 \n",
            "\n"
          ],
          "name": "stdout"
        }
      ]
    },
    {
      "cell_type": "code",
      "metadata": {
        "id": "X_jVQslOLsdJ",
        "outputId": "d1aee8a7-cacc-4db8-e101-ee9c1006dd21",
        "colab": {
          "base_uri": "https://localhost:8080/"
        }
      },
      "source": [
        "model = SVC(C=1)\n",
        "f_acc_svc = []\n",
        "f_t_svc = []\n",
        "for per in per_range:\n",
        "  accuracy, runtime = runtime_accu(selector, model, per)\n",
        "  f_acc_svc.append(accuracy)\n",
        "  f_t_svc.append(runtime)"
      ],
      "execution_count": 157,
      "outputs": [
        {
          "output_type": "stream",
          "text": [
            "(1999, 11)\n",
            "accuracy:  0.48827638190954775\n",
            "runtime:  1.9577252864837646 \n",
            "\n",
            "(1999, 43)\n",
            "accuracy:  0.6988668341708544\n",
            "runtime:  2.4082255363464355 \n",
            "\n",
            "(1999, 169)\n",
            "accuracy:  0.8084120603015075\n",
            "runtime:  3.57646107673645 \n",
            "\n",
            "(1999, 705)\n",
            "accuracy:  0.8674346733668342\n",
            "runtime:  6.781553506851196 \n",
            "\n",
            "(1999, 2816)\n",
            "accuracy:  0.922964824120603\n",
            "runtime:  14.449561595916748 \n",
            "\n",
            "(1999, 11266)\n",
            "accuracy:  0.9214597989949749\n",
            "runtime:  18.671270608901978 \n",
            "\n",
            "(1999, 45064)\n",
            "accuracy:  0.9484798994974876\n",
            "runtime:  22.027907848358154 \n",
            "\n"
          ],
          "name": "stdout"
        }
      ]
    },
    {
      "cell_type": "code",
      "metadata": {
        "id": "5C9f5hOGLsdJ",
        "outputId": "339a902b-493a-4384-df37-c02bb960c0b9",
        "colab": {
          "base_uri": "https://localhost:8080/"
        }
      },
      "source": [
        "model = MultinomialNB(alpha=1e-10)\n",
        "f_acc_MNB = []\n",
        "f_t_MNB = []\n",
        "for per in per_range:\n",
        "  accuracy, runtime = runtime_accu(selector, model, per)\n",
        "  f_acc_MNB.append(accuracy)\n",
        "  f_t_MNB.append(runtime)"
      ],
      "execution_count": 158,
      "outputs": [
        {
          "output_type": "stream",
          "text": [
            "(1999, 11)\n",
            "accuracy:  0.4632462311557789\n",
            "runtime:  0.02338409423828125 \n",
            "\n",
            "(1999, 43)\n",
            "accuracy:  0.669856783919598\n",
            "runtime:  0.020959854125976562 \n",
            "\n",
            "(1999, 169)\n",
            "accuracy:  0.7443869346733669\n",
            "runtime:  0.02202010154724121 \n",
            "\n",
            "(1999, 705)\n",
            "accuracy:  0.7949120603015075\n",
            "runtime:  0.024637699127197266 \n",
            "\n",
            "(1999, 2816)\n",
            "accuracy:  0.8734371859296483\n",
            "runtime:  0.03197455406188965 \n",
            "\n",
            "(1999, 11266)\n",
            "accuracy:  0.8999547738693467\n",
            "runtime:  0.05294632911682129 \n",
            "\n",
            "(1999, 45064)\n",
            "accuracy:  0.8904497487437186\n",
            "runtime:  0.12800002098083496 \n",
            "\n"
          ],
          "name": "stdout"
        }
      ]
    },
    {
      "cell_type": "code",
      "metadata": {
        "id": "6eSiC_sqLsdK",
        "outputId": "a63d61d3-ef84-40e6-8c95-73bc51447f94",
        "colab": {
          "base_uri": "https://localhost:8080/"
        }
      },
      "source": [
        "model = LogisticRegression()\n",
        "f_acc_LR = []\n",
        "f_t_LR = []\n",
        "for per in per_range:\n",
        "  accuracy, runtime = runtime_accu(selector, model, per)\n",
        "  f_acc_LR.append(accuracy)\n",
        "  f_t_LR.append(runtime)"
      ],
      "execution_count": 159,
      "outputs": [
        {
          "output_type": "stream",
          "text": [
            "(1999, 11)\n",
            "accuracy:  0.4882688442211055\n",
            "runtime:  0.6139829158782959 \n",
            "\n",
            "(1999, 43)\n",
            "accuracy:  0.7068869346733667\n",
            "runtime:  0.7610945701599121 \n",
            "\n",
            "(1999, 169)\n",
            "accuracy:  0.814427135678392\n",
            "runtime:  1.0448894500732422 \n",
            "\n",
            "(1999, 705)\n",
            "accuracy:  0.8859497487437185\n",
            "runtime:  1.5261149406433105 \n",
            "\n",
            "(1999, 2816)\n",
            "accuracy:  0.9234723618090452\n",
            "runtime:  5.141241550445557 \n",
            "\n",
            "(1999, 11266)\n",
            "accuracy:  0.9314773869346734\n",
            "runtime:  12.426674604415894 \n",
            "\n",
            "(1999, 45064)\n",
            "accuracy:  0.9284773869346734\n",
            "runtime:  32.13876175880432 \n",
            "\n"
          ],
          "name": "stdout"
        }
      ]
    },
    {
      "cell_type": "code",
      "metadata": {
        "id": "CqKShv60XgMw"
      },
      "source": [
        "model = LinearSVC(C=1)\n",
        "for per in per_range:\n",
        "  runtime_accu(selector, model, per)"
      ],
      "execution_count": null,
      "outputs": []
    },
    {
      "cell_type": "code",
      "metadata": {
        "id": "BYNbMRjWXgMx"
      },
      "source": [
        "model = SVC(C=1)\n",
        "for per in per_range:\n",
        "  runtime_accu(selector, model, per)"
      ],
      "execution_count": null,
      "outputs": []
    },
    {
      "cell_type": "code",
      "metadata": {
        "id": "FgMADiU5XgMy"
      },
      "source": [
        "model = MultinomialNB(alpha=1e-10)\n",
        "for per in per_range:\n",
        "  runtime_accu(selector, model, per)"
      ],
      "execution_count": null,
      "outputs": []
    },
    {
      "cell_type": "code",
      "metadata": {
        "id": "5P44ETpMXgMz"
      },
      "source": [
        "model = LogisticRegression()\n",
        "for per in per_range:\n",
        "  runtime_accu(selector, model, per)"
      ],
      "execution_count": null,
      "outputs": []
    },
    {
      "cell_type": "markdown",
      "metadata": {
        "id": "Mux8A-BOXq1P"
      },
      "source": [
        "## Data Visualization"
      ]
    },
    {
      "cell_type": "code",
      "metadata": {
        "id": "bNi8Qz1fXvXs",
        "outputId": "6746561b-fa59-4555-f942-a371ee489565",
        "colab": {
          "base_uri": "https://localhost:8080/",
          "height": 353
        }
      },
      "source": [
        "import matplotlib.pyplot as plt\r\n",
        "from collections import Counter\r\n",
        "\r\n",
        "y_labels = np.unique(y_train)\r\n",
        "\r\n",
        "plt.figure(figsize=(7.5,5),dpi=80) # fig size\r\n",
        "labels = list(Counter(y_labels).keys()) # label\r\n",
        "sizes = list(Counter(y_labels).values())\r\n",
        "\r\n",
        "colors = ['mediumaquamarine','salmon','sandybrown','plum','skyblue'] # color of each sector\r\n",
        "explode = (0.01,0.01,0.01,0.01,0.01)\r\n",
        "patches,text1,text2 = plt.pie(sizes,   \r\n",
        "                      explode = explode,         \r\n",
        "                      labels=labels,\r\n",
        "                      colors=colors,\r\n",
        "                      labeldistance = 1.2,\r\n",
        "                      autopct = '%3.2f%%', \r\n",
        "                      shadow = False, \r\n",
        "                      startangle =90, \r\n",
        "                      pctdistance = 0.6) \r\n",
        "# patches: pie chart，texts1: label text，texts2: pie chart text\r\n",
        "plt.axis('equal')\r\n",
        "plt.legend(title = 'class')\r\n",
        "#plt.savefig('piechart.png')\r\n",
        "plt.show()"
      ],
      "execution_count": 160,
      "outputs": [
        {
          "output_type": "display_data",
          "data": {
            "image/png": "[encoded data removed]",
            "text/plain": [
              "<Figure size 600x400 with 1 Axes>"
            ]
          },
          "metadata": {
            "tags": []
          }
        }
      ]
    },
    {
      "cell_type": "markdown",
      "metadata": {
        "id": "149BUaWAaHDf"
      },
      "source": [
        "### Chi2"
      ]
    },
    {
      "cell_type": "code",
      "metadata": {
        "colab": {
          "base_uri": "https://localhost:8080/",
          "height": 303
        },
        "id": "Wj5XWRHMYB9M",
        "outputId": "6deac750-3c5a-4bdd-dc60-59115811ee73"
      },
      "source": [
        "# plot accuracy with x2\r\n",
        "# Data\r\n",
        "df=pd.DataFrame({'x_values': per_range, 'y1_values': acc_linearsvc, 'y2_values': acc_svc, 'y3_values': acc_MNB, 'y4_values': acc_LR})\r\n",
        " \r\n",
        "# multiple line plots\r\n",
        "#plt.figure(figsize=(8,5))\r\n",
        "plt.plot( 'x_values', 'y1_values', data=df, marker='.', markerfacecolor='mediumaquamarine', markersize=12, color='mediumaquamarine', label=\"LinearSVC\")\r\n",
        "plt.plot( 'x_values', 'y2_values', data=df, marker='.', markerfacecolor='salmon', markersize=12, color='salmon', label=\"SVC\")\r\n",
        "plt.plot( 'x_values', 'y3_values', data=df, marker='.', markerfacecolor='skyblue', markersize=12, color='skyblue', label=\"MultinomialNB\")\r\n",
        "plt.plot( 'x_values', 'y4_values', data=df, marker='.', markerfacecolor='sandybrown', markersize=12, color='sandybrown', label=\"Logistic Regression\")\r\n",
        "plt.xscale('log')\r\n",
        "plt.grid(linestyle='-.')\r\n",
        "plt.legend()\r\n",
        "plt.title('Feature Selection Using $X^2$')\r\n",
        "plt.xlabel('Number of Features (percentile)')\r\n",
        "plt.ylabel('Accuracy')\r\n",
        "plt.savefig('acc_x2.png')\r\n",
        "fig_width, fig_height = plt.gcf().get_size_inches()\r\n",
        "plt.show()\r\n"
      ],
      "execution_count": 161,
      "outputs": [
        {
          "output_type": "display_data",
          "data": {
            "image/png": "[encoded data removed]",
            "text/plain": [
              "<Figure size 432x288 with 1 Axes>"
            ]
          },
          "metadata": {
            "tags": [],
            "needs_background": "light"
          }
        }
      ]
    },
    {
      "cell_type": "code",
      "metadata": {
        "colab": {
          "base_uri": "https://localhost:8080/",
          "height": 319
        },
        "id": "fgdmXnvw-P9K",
        "outputId": "49825ff4-bc52-4dd3-c7ff-5b4a38dff260"
      },
      "source": [
        "# plot runtime with x2\r\n",
        "# Data\r\n",
        "df=pd.DataFrame({'x_values': per_range, 'y1_values': t_linearsvc, 'y2_values': t_svc, 'y3_values': t_MNB, 'y4_values': t_LR})\r\n",
        " \r\n",
        "# multiple line plots\r\n",
        "plt.figure(figsize=(fig_width+0.3,fig_height+0.3))\r\n",
        "plt.plot( 'x_values', 'y1_values', data=df, marker='.', markerfacecolor='mediumaquamarine', markersize=12, color='mediumaquamarine', label=\"LinearSVC\")\r\n",
        "plt.plot( 'x_values', 'y2_values', data=df, marker='.', markerfacecolor='salmon', markersize=12, color='salmon', label=\"SVC\")\r\n",
        "plt.plot( 'x_values', 'y3_values', data=df, marker='.', markerfacecolor='skyblue', markersize=12, color='skyblue', label=\"MultinomialNB\")\r\n",
        "plt.plot( 'x_values', 'y4_values', data=df, marker='.', markerfacecolor='sandybrown', markersize=12, color='sandybrown', label=\"Logistic Regression\")\r\n",
        "plt.xscale('log')\r\n",
        "plt.yscale('log')\r\n",
        "plt.grid(linestyle='-.')\r\n",
        "plt.legend()\r\n",
        "plt.title('Feature Selection Using $X^2$')\r\n",
        "plt.xlabel('Number of Features (percentile)')\r\n",
        "plt.ylabel('Runtime (secondes)')\r\n",
        "plt.savefig('t_x2.png')\r\n",
        "plt.show()"
      ],
      "execution_count": 162,
      "outputs": [
        {
          "output_type": "display_data",
          "data": {
            "image/png": "[encoded data removed]",
            "text/plain": [
              "<Figure size 453.6x309.6 with 1 Axes>"
            ]
          },
          "metadata": {
            "tags": [],
            "needs_background": "light"
          }
        }
      ]
    },
    {
      "cell_type": "markdown",
      "metadata": {
        "id": "2Qdv4ZVeSqo8"
      },
      "source": [
        "### Mutual"
      ]
    },
    {
      "cell_type": "code",
      "metadata": {
        "colab": {
          "base_uri": "https://localhost:8080/",
          "height": 299
        },
        "id": "UVcew3yjSqpG",
        "outputId": "5d64c120-55d4-42fa-ef54-b015ab2aa1bc"
      },
      "source": [
        "# plot accuracy with x2\r\n",
        "# Data\r\n",
        "df=pd.DataFrame({'x_values': per_range, 'y1_values': m_acc_linearsvc, 'y2_values': m_acc_svc, 'y3_values': m_acc_MNB, 'y4_values': m_acc_LR})\r\n",
        " \r\n",
        "# multiple line plots\r\n",
        "#plt.figure(figsize=(8,5))\r\n",
        "plt.plot( 'x_values', 'y1_values', data=df, marker='.', markerfacecolor='mediumaquamarine', markersize=12, color='mediumaquamarine', label=\"LinearSVC\")\r\n",
        "plt.plot( 'x_values', 'y2_values', data=df, marker='.', markerfacecolor='salmon', markersize=12, color='salmon', label=\"SVC\")\r\n",
        "plt.plot( 'x_values', 'y3_values', data=df, marker='.', markerfacecolor='skyblue', markersize=12, color='skyblue', label=\"MultinomialNB\")\r\n",
        "plt.plot( 'x_values', 'y4_values', data=df, marker='.', markerfacecolor='sandybrown', markersize=12, color='sandybrown', label=\"Logistic Regression\")\r\n",
        "plt.xscale('log')\r\n",
        "plt.grid(linestyle='-.')\r\n",
        "plt.legend()\r\n",
        "plt.title('Feature Selection Using Using Mutual Information')\r\n",
        "plt.xlabel('Number of Features (percentile)')\r\n",
        "plt.ylabel('Accuracy')\r\n",
        "plt.savefig('acc_mutual.png')\r\n",
        "fig_width, fig_height = plt.gcf().get_size_inches()\r\n",
        "plt.show()\r\n"
      ],
      "execution_count": 164,
      "outputs": [
        {
          "output_type": "display_data",
          "data": {
            "image/png": "[encoded data removed]",
            "text/plain": [
              "<Figure size 432x288 with 1 Axes>"
            ]
          },
          "metadata": {
            "tags": [],
            "needs_background": "light"
          }
        }
      ]
    },
    {
      "cell_type": "code",
      "metadata": {
        "colab": {
          "base_uri": "https://localhost:8080/",
          "height": 315
        },
        "id": "qPdKCRKQSqpI",
        "outputId": "aec7a6d4-d6dd-4ec5-b6ee-0c6d0f283f5c"
      },
      "source": [
        "# plot runtime with x2\r\n",
        "# Data\r\n",
        "df=pd.DataFrame({'x_values': per_range, 'y1_values': m_t_linearsvc, 'y2_values': m_t_svc, 'y3_values': m_t_MNB, 'y4_values': m_t_LR})\r\n",
        " \r\n",
        "# multiple line plots\r\n",
        "plt.figure(figsize=(fig_width+0.3,fig_height+0.3))\r\n",
        "plt.plot( 'x_values', 'y1_values', data=df, marker='.', markerfacecolor='mediumaquamarine', markersize=12, color='mediumaquamarine', label=\"LinearSVC\")\r\n",
        "plt.plot( 'x_values', 'y2_values', data=df, marker='.', markerfacecolor='salmon', markersize=12, color='salmon', label=\"SVC\")\r\n",
        "plt.plot( 'x_values', 'y3_values', data=df, marker='.', markerfacecolor='skyblue', markersize=12, color='skyblue', label=\"MultinomialNB\")\r\n",
        "plt.plot( 'x_values', 'y4_values', data=df, marker='.', markerfacecolor='sandybrown', markersize=12, color='sandybrown', label=\"Logistic Regression\")\r\n",
        "plt.xscale('log')\r\n",
        "plt.yscale('log')\r\n",
        "plt.grid(linestyle='-.')\r\n",
        "plt.legend()\r\n",
        "plt.title('Feature Selection Using Mutual Information')\r\n",
        "plt.xlabel('Number of Features (percentile)')\r\n",
        "plt.ylabel('Runtime (secondes)')\r\n",
        "plt.savefig('t_mutual.png')\r\n",
        "plt.show()"
      ],
      "execution_count": 165,
      "outputs": [
        {
          "output_type": "display_data",
          "data": {
            "image/png": "[encoded data removed]",
            "text/plain": [
              "<Figure size 453.6x309.6 with 1 Axes>"
            ]
          },
          "metadata": {
            "tags": [],
            "needs_background": "light"
          }
        }
      ]
    },
    {
      "cell_type": "markdown",
      "metadata": {
        "id": "uyuyIu_eSxWh"
      },
      "source": [
        "### F Score"
      ]
    },
    {
      "cell_type": "code",
      "metadata": {
        "colab": {
          "base_uri": "https://localhost:8080/",
          "height": 299
        },
        "id": "mYmty8bWSxWh",
        "outputId": "da63ef4c-d9bf-473b-ff7a-633238d0d97f"
      },
      "source": [
        "# plot accuracy with x2\r\n",
        "# Data\r\n",
        "df=pd.DataFrame({'x_values': per_range, 'y1_values': f_acc_linearsvc, 'y2_values': f_acc_svc, 'y3_values': f_acc_MNB, 'y4_values': f_acc_LR})\r\n",
        " \r\n",
        "# multiple line plots\r\n",
        "#plt.figure(figsize=(8,5))\r\n",
        "plt.plot( 'x_values', 'y1_values', data=df, marker='.', markerfacecolor='mediumaquamarine', markersize=12, color='mediumaquamarine', label=\"LinearSVC\")\r\n",
        "plt.plot( 'x_values', 'y2_values', data=df, marker='.', markerfacecolor='salmon', markersize=12, color='salmon', label=\"SVC\")\r\n",
        "plt.plot( 'x_values', 'y3_values', data=df, marker='.', markerfacecolor='skyblue', markersize=12, color='skyblue', label=\"MultinomialNB\")\r\n",
        "plt.plot( 'x_values', 'y4_values', data=df, marker='.', markerfacecolor='sandybrown', markersize=12, color='sandybrown', label=\"Logistic Regression\")\r\n",
        "plt.xscale('log')\r\n",
        "plt.grid(linestyle='-.')\r\n",
        "plt.legend()\r\n",
        "plt.title('Feature Selection Using F Score')\r\n",
        "plt.xlabel('Number of Features (percentile)')\r\n",
        "plt.ylabel('Accuracy')\r\n",
        "plt.savefig('acc_fscore.png')\r\n",
        "fig_width, fig_height = plt.gcf().get_size_inches()\r\n",
        "plt.show()\r\n"
      ],
      "execution_count": 166,
      "outputs": [
        {
          "output_type": "display_data",
          "data": {
            "image/png": "[encoded data removed]",
            "text/plain": [
              "<Figure size 432x288 with 1 Axes>"
            ]
          },
          "metadata": {
            "tags": [],
            "needs_background": "light"
          }
        }
      ]
    },
    {
      "cell_type": "code",
      "metadata": {
        "colab": {
          "base_uri": "https://localhost:8080/",
          "height": 315
        },
        "id": "PtkfcZiwSxWj",
        "outputId": "7e191631-ae00-470a-d347-fa9c47305a47"
      },
      "source": [
        "# plot runtime with x2\r\n",
        "# Data\r\n",
        "df=pd.DataFrame({'x_values': per_range, 'y1_values': f_t_linearsvc, 'y2_values': f_t_svc, 'y3_values': f_t_MNB, 'y4_values': f_t_LR})\r\n",
        " \r\n",
        "# multiple line plots\r\n",
        "plt.figure(figsize=(fig_width+0.3,fig_height+0.3))\r\n",
        "plt.plot( 'x_values', 'y1_values', data=df, marker='.', markerfacecolor='mediumaquamarine', markersize=12, color='mediumaquamarine', label=\"LinearSVC\")\r\n",
        "plt.plot( 'x_values', 'y2_values', data=df, marker='.', markerfacecolor='salmon', markersize=12, color='salmon', label=\"SVC\")\r\n",
        "plt.plot( 'x_values', 'y3_values', data=df, marker='.', markerfacecolor='skyblue', markersize=12, color='skyblue', label=\"MultinomialNB\")\r\n",
        "plt.plot( 'x_values', 'y4_values', data=df, marker='.', markerfacecolor='sandybrown', markersize=12, color='sandybrown', label=\"Logistic Regression\")\r\n",
        "plt.xscale('log')\r\n",
        "plt.yscale('log')\r\n",
        "plt.grid(linestyle='-.')\r\n",
        "plt.legend()\r\n",
        "plt.title('Feature Selection Using F Score$')\r\n",
        "plt.xlabel('Number of Features (percentile)')\r\n",
        "plt.ylabel('Runtime (secondes)')\r\n",
        "plt.savefig('t_fscore.png')\r\n",
        "plt.show()"
      ],
      "execution_count": 167,
      "outputs": [
        {
          "output_type": "display_data",
          "data": {
            "image/png": "[encoded data removed]",
            "text/plain": [
              "<Figure size 453.6x309.6 with 1 Axes>"
            ]
          },
          "metadata": {
            "tags": [],
            "needs_background": "light"
          }
        }
      ]
    },
    {
      "cell_type": "markdown",
      "metadata": {
        "id": "nwKB1KjFZGzv"
      },
      "source": [
        "## Ignore for now"
      ]
    },
    {
      "cell_type": "markdown",
      "metadata": {
        "id": "_OIvmZHu6z52"
      },
      "source": [
        "### 13.4.1 selectfrommodel L1 norm"
      ]
    },
    {
      "cell_type": "code",
      "metadata": {
        "colab": {
          "base_uri": "https://localhost:8080/"
        },
        "id": "lBeC2asR6ycf",
        "outputId": "5b3e106e-5673-41c9-ae32-7d3ed35a5c92"
      },
      "source": [
        "estimator = LinearSVC(C=10, penalty=\"l1\",dual=False)\r\n",
        "select = SelectFromModel(estimator,max_features=5000)\r\n",
        "vectors_train_Lemma_SFML1 = select.fit_transform(vectors_train_stop_tfidf_Lemma, y_train_num)\r\n",
        "vectors_test_Lemma_SFML1 = select.transform(vectors_test_stop_tfidf_Lemma)\r\n",
        "print(vectors_train_Lemma_SFML1.shape)"
      ],
      "execution_count": null,
      "outputs": [
        {
          "output_type": "stream",
          "text": [
            "(1999, 2091)\n"
          ],
          "name": "stdout"
        },
        {
          "output_type": "stream",
          "text": [
            "/usr/local/lib/python3.7/dist-packages/sklearn/svm/_base.py:947: ConvergenceWarning: Liblinear failed to converge, increase the number of iterations.\n",
            "  \"the number of iterations.\", ConvergenceWarning)\n"
          ],
          "name": "stderr"
        }
      ]
    },
    {
      "cell_type": "code",
      "metadata": {
        "id": "1LcRUVHh9EA6",
        "colab": {
          "base_uri": "https://localhost:8080/"
        },
        "outputId": "01da2eac-02a9-4d32-fce4-953b0f81ccd8"
      },
      "source": [
        "estimator = LinearSVC(C=10, penalty=\"l1\",dual=False)\r\n",
        "select = SelectFromModel(estimator,max_features=5000)\r\n",
        "vectors_train_stem_SFML1 = select.fit_transform(vectors_train_stop_tfidf_stem, y_train_num)\r\n",
        "vectors_test_stem_SFML1 = select.transform(vectors_test_stop_tfidf_stem)\r\n",
        "print(vectors_train_stem_SFML1.shape)"
      ],
      "execution_count": null,
      "outputs": [
        {
          "output_type": "stream",
          "text": [
            "(1999, 2064)\n"
          ],
          "name": "stdout"
        },
        {
          "output_type": "stream",
          "text": [
            "/usr/local/lib/python3.7/dist-packages/sklearn/svm/_base.py:947: ConvergenceWarning: Liblinear failed to converge, increase the number of iterations.\n",
            "  \"the number of iterations.\", ConvergenceWarning)\n"
          ],
          "name": "stderr"
        }
      ]
    },
    {
      "cell_type": "markdown",
      "metadata": {
        "id": "A40q_6BkgLzb"
      },
      "source": [
        "### 13.4.2 selectfrommodel tree"
      ]
    },
    {
      "cell_type": "code",
      "metadata": {
        "id": "xlCpRznsc3O8",
        "colab": {
          "base_uri": "https://localhost:8080/"
        },
        "outputId": "99883c04-2b72-45c8-c773-6048de7925c7"
      },
      "source": [
        "clf = ExtraTreesClassifier()\r\n",
        "clf = clf.fit(vectors_train_stop_tfidf_Lemma, y_train_num)\r\n",
        "model = SelectFromModel(clf, prefit=True)\r\n",
        "vectors_train_Lemma_SFMtree = model.transform(vectors_train_stop_tfidf_Lemma)\r\n",
        "vectors_train_Lemma_SFMtree.shape"
      ],
      "execution_count": null,
      "outputs": [
        {
          "output_type": "execute_result",
          "data": {
            "text/plain": [
              "(1999, 9466)"
            ]
          },
          "metadata": {
            "tags": []
          },
          "execution_count": 45
        }
      ]
    },
    {
      "cell_type": "code",
      "metadata": {
        "id": "7kBgGpDLfTXV",
        "colab": {
          "base_uri": "https://localhost:8080/"
        },
        "outputId": "889199a4-79f6-482a-8f83-901134789bc1"
      },
      "source": [
        "clf = ExtraTreesClassifier()\r\n",
        "clf = clf.fit(vectors_train_stop_tfidf_stem, y_train_num)\r\n",
        "model = SelectFromModel(clf, prefit=True)\r\n",
        "vectors_train_stem_SFMtree = model.transform(vectors_train_stop_tfidf_stem)\r\n",
        "vectors_train_stem_SFMtree.shape"
      ],
      "execution_count": null,
      "outputs": [
        {
          "output_type": "execute_result",
          "data": {
            "text/plain": [
              "(1999, 9776)"
            ]
          },
          "metadata": {
            "tags": []
          },
          "execution_count": 46
        }
      ]
    },
    {
      "cell_type": "markdown",
      "metadata": {
        "id": "x4imy8E_6ALI"
      },
      "source": [
        "###Recursive feature elimination"
      ]
    },
    {
      "cell_type": "code",
      "metadata": {
        "id": "ndYrr7lLUPo_",
        "colab": {
          "base_uri": "https://localhost:8080/"
        },
        "outputId": "5baa1536-9207-44e8-a65b-ce3061857c28"
      },
      "source": [
        "estimator = LinearSVC()\r\n",
        "select = RFECV(estimator, step=700,scoring='accuracy', n_jobs=-1)\r\n",
        "vectors_train_Lemma_RFESVC = select.fit_transform(vectors_train_stop_tfidf_Lemma, y_train_num)\r\n",
        "vectors_test_Lemma_RFESVC = select.transform(vectors_test_stop_tfidf_Lemma)\r\n",
        "print(vectors_train_Lemma_RFESVC.shape)"
      ],
      "execution_count": null,
      "outputs": [
        {
          "output_type": "stream",
          "text": [
            "(1999, 18614)\n"
          ],
          "name": "stdout"
        }
      ]
    },
    {
      "cell_type": "code",
      "metadata": {
        "colab": {
          "base_uri": "https://localhost:8080/"
        },
        "id": "yZs_Ql-7dkRk",
        "outputId": "78d8e04c-8829-41d7-f90a-e0c78d411671"
      },
      "source": [
        "model = LinearSVC()\n",
        "# model.fit(vectors_train_Lemma_RFESVC, y_num)\n",
        "cross_val_score(model, vectors_train_Lemma_RFESVC, y_train_num).mean()"
      ],
      "execution_count": null,
      "outputs": [
        {
          "output_type": "execute_result",
          "data": {
            "text/plain": [
              "0.9384661654135338"
            ]
          },
          "metadata": {
            "tags": []
          },
          "execution_count": 55
        }
      ]
    },
    {
      "cell_type": "code",
      "metadata": {
        "id": "c2rkgQ_OW2H-"
      },
      "source": [
        "estimator = LinearSVC()\r\n",
        "select = RFECV(estimator, step=85,scoring='accuracy')\r\n",
        "vectors_train_stem_RFESVC = select.fit_transform(vectors_train_stop_tfidf_stem, y_train_num)\r\n",
        "vectors_test_stem_RFESVC = select.transform(vectors_test_stop_tfidf_stem)\r\n",
        "print(vectors_train_stem_RFESVC.shape)"
      ],
      "execution_count": null,
      "outputs": []
    },
    {
      "cell_type": "code",
      "metadata": {
        "id": "W39u3IvUYa-q"
      },
      "source": [
        "estimator = LogisticRegression()\r\n",
        "select = RFECV(estimator, step=98,scoring='accuracy')\r\n",
        "vectors_train_Lemma_RFELR = select.fit_transform(vectors_train_stop_tfidf_Lemma, y_train_num)\r\n",
        "vectors_test_Lemma_RFELR = select.transform(vectors_test_stop_tfidf_Lemma)\r\n",
        "print(vectors_train_Lemma_RFELR.shape)"
      ],
      "execution_count": null,
      "outputs": []
    },
    {
      "cell_type": "code",
      "metadata": {
        "id": "VVjen15SY5X9"
      },
      "source": [
        "estimator = LogisticRegression()\r\n",
        "select = RFECV(estimator, step=85,scoring='accuracy')\r\n",
        "vectors_train_stem_RFELR = select.fit_transform(vectors_train_stop_tfidf_stem, y_train_num)\r\n",
        "vectors_test_stem_RFELR = select.transform(vectors_test_stop_tfidf_stem)\r\n",
        "print(vectors_train_stem_RFELR.shape)"
      ],
      "execution_count": null,
      "outputs": []
    },
    {
      "cell_type": "code",
      "metadata": {
        "id": "A40g9do-ZqjJ"
      },
      "source": [
        "estimator = MultinomialNB()\r\n",
        "select = RFECV(estimator, step=98,scoring='accuracy')\r\n",
        "vectors_train_Lemma_RFEMNB = select.fit_transform(vectors_train_stop_tfidf_Lemma, y_train_num)\r\n",
        "vectors_test_Lemma_RFEMNB = select.transform(vectors_test_stop_tfidf_Lemma)\r\n",
        "print(vectors_train_Lemma_RFEMNB.shape)"
      ],
      "execution_count": null,
      "outputs": []
    },
    {
      "cell_type": "code",
      "metadata": {
        "id": "uf-xuvLUbOm2"
      },
      "source": [
        "estimator = MultinomialNB()\r\n",
        "select = RFECV(estimator, step=85,scoring='accuracy')\r\n",
        "vectors_train_stem_RFEMNB = select.fit_transform(vectors_train_stop_tfidf_stem, y_train_num)\r\n",
        "vectors_test_stem_RFEMNB = select.transform(vectors_test_stop_tfidf_stem)\r\n",
        "print(vectors_train_stem_RFEMNB.shape)"
      ],
      "execution_count": null,
      "outputs": []
    },
    {
      "cell_type": "markdown",
      "metadata": {
        "id": "w4bpJ3t0TMnS"
      },
      "source": [
        "### Experiment on sklearn models (with NGRAM)"
      ]
    },
    {
      "cell_type": "markdown",
      "metadata": {
        "id": "L41zKhUPVj2l"
      },
      "source": [
        "### Find the best set of features\n",
        "We have 16 sets in total\n",
        "\n",
        "\n",
        "The best are \n",
        "\n",
        "vectors_train_Lemma_X2\n",
        "\n",
        "vectors_train_Lemma_F\n",
        "\n",
        "vectors_train_Lemma_SFML1"
      ]
    },
    {
      "cell_type": "code",
      "metadata": {
        "colab": {
          "base_uri": "https://localhost:8080/"
        },
        "id": "pZQ1dRU4yIpa",
        "outputId": "4ae62430-67f9-48c0-e63a-7f96f21e80a3"
      },
      "source": [
        "model = LinearSVC()\n",
        "scores = cross_val_score(model, vectors_train_Lemma_X2, y_train_num, cv=10)\n",
        "print(scores.mean())\n",
        "\n",
        "model = LinearSVC()\n",
        "scores = cross_val_score(model, vectors_train_stem_X2, y_train_num, cv=10)\n",
        "print(scores.mean())\n",
        "\n",
        "model = LinearSVC()\n",
        "scores = cross_val_score(model, vectors_train_Lemma_mutual, y_train_num, cv=10)\n",
        "print(scores.mean())\n",
        "\n",
        "model = LinearSVC()\n",
        "scores = cross_val_score(model, vectors_train_stem_mutual, y_train_num, cv=10)\n",
        "print(scores.mean())\n",
        "\n",
        "model = LinearSVC()\n",
        "scores = cross_val_score(model, vectors_train_Lemma_F, y_train_num, cv=10)\n",
        "print(scores.mean())\n",
        "\n",
        "model = LinearSVC()\n",
        "scores = cross_val_score(model, vectors_train_stem_F, y_train_num, cv=10)\n",
        "print(scores.mean())\n",
        "\n",
        "model = LinearSVC()\n",
        "scores = cross_val_score(model, vectors_train_Lemma_FPR, y_train_num, cv=10)\n",
        "print(scores.mean())\n",
        "\n",
        "model = LinearSVC()\n",
        "scores = cross_val_score(model, vectors_train_stem_FPR, y_train_num, cv=10)\n",
        "print(scores.mean())\n",
        "\n",
        "model = LinearSVC()\n",
        "scores = cross_val_score(model, vectors_train_Lemma_FDR, y_train_num, cv=10)\n",
        "print(scores.mean())\n",
        "\n",
        "model = LinearSVC()\n",
        "scores = cross_val_score(model, vectors_train_stem_FDR, y_train_num, cv=10)\n",
        "print(scores.mean())\n",
        "\n",
        "model = LinearSVC()\n",
        "scores = cross_val_score(model, vectors_train_Lemma_FWE, y_train_num, cv=10)\n",
        "print(scores.mean())\n",
        "\n",
        "model = LinearSVC()\n",
        "scores = cross_val_score(model, vectors_train_stem_FWE, y_train_num, cv=10)\n",
        "print(scores.mean())\n",
        "\n",
        "model = LinearSVC()\n",
        "scores = cross_val_score(model, vectors_train_Lemma_SFML1, y_train_num, cv=10)\n",
        "print(scores.mean())\n",
        "\n",
        "model = LinearSVC()\n",
        "scores = cross_val_score(model, vectors_train_stem_SFML1, y_train_num, cv=10)\n",
        "print(scores.mean())\n",
        "\n",
        "model = LinearSVC()\n",
        "scores = cross_val_score(model, vectors_train_Lemma_SFMtree, y_train_num, cv=10)\n",
        "print(scores.mean())\n",
        "\n",
        "model = LinearSVC()\n",
        "scores = cross_val_score(model, vectors_train_stem_SFMtree, y_train_num, cv=10)\n",
        "print(scores.mean())"
      ],
      "execution_count": null,
      "outputs": [
        {
          "output_type": "stream",
          "text": [
            "0.9459798994974875\n",
            "0.9449748743718593\n",
            "0.934464824120603\n",
            "0.930462311557789\n",
            "0.9469748743718593\n",
            "0.9449773869346734\n",
            "0.9384698492462311\n",
            "0.9424723618090451\n",
            "0.9214572864321608\n",
            "0.927467336683417\n",
            "0.8869422110552764\n",
            "0.8869422110552764\n",
            "0.9484748743718594\n",
            "0.9464723618090451\n",
            "0.938464824120603\n",
            "0.9339623115577889\n"
          ],
          "name": "stdout"
        }
      ]
    },
    {
      "cell_type": "code",
      "metadata": {
        "colab": {
          "base_uri": "https://localhost:8080/"
        },
        "id": "Ctlyl4oiUzMf",
        "outputId": "c150de98-62ac-49b8-ae20-a9c0504268b3"
      },
      "source": [
        "model = LogisticRegression()\n",
        "scores = cross_val_score(model, vectors_train_Lemma_X2, y_train_num, cv=10)\n",
        "print(scores.mean())\n",
        "\n",
        "model = LogisticRegression()\n",
        "scores = cross_val_score(model, vectors_train_stem_X2, y_train_num, cv=10)\n",
        "print(scores.mean())\n",
        "\n",
        "model = LogisticRegression()\n",
        "scores = cross_val_score(model, vectors_train_Lemma_mutual, y_train_num, cv=10)\n",
        "print(scores.mean())\n",
        "\n",
        "model = LogisticRegression()\n",
        "scores = cross_val_score(model, vectors_train_stem_mutual, y_train_num, cv=10)\n",
        "print(scores.mean())\n",
        "\n",
        "model = LogisticRegression()\n",
        "scores = cross_val_score(model, vectors_train_Lemma_F, y_train_num, cv=10)\n",
        "print(scores.mean())\n",
        "\n",
        "model = LogisticRegression()\n",
        "scores = cross_val_score(model, vectors_train_stem_F, y_train_num, cv=10)\n",
        "print(scores.mean())\n",
        "\n",
        "model = LogisticRegression()\n",
        "scores = cross_val_score(model, vectors_train_Lemma_FPR, y_train_num, cv=10)\n",
        "print(scores.mean())\n",
        "\n",
        "model = LogisticRegression()\n",
        "scores = cross_val_score(model, vectors_train_stem_FPR, y_train_num, cv=10)\n",
        "print(scores.mean())\n",
        "\n",
        "model = LogisticRegression()\n",
        "scores = cross_val_score(model, vectors_train_Lemma_FDR, y_train_num, cv=10)\n",
        "print(scores.mean())\n",
        "\n",
        "model = LogisticRegression()\n",
        "scores = cross_val_score(model, vectors_train_stem_FDR, y_train_num, cv=10)\n",
        "print(scores.mean())\n",
        "\n",
        "model = LogisticRegression()\n",
        "scores = cross_val_score(model, vectors_train_Lemma_FWE, y_train_num, cv=10)\n",
        "print(scores.mean())\n",
        "\n",
        "model = LogisticRegression()\n",
        "scores = cross_val_score(model, vectors_train_stem_FWE, y_train_num, cv=10)\n",
        "print(scores.mean())\n",
        "\n",
        "model = LogisticRegression()\n",
        "scores = cross_val_score(model, vectors_train_Lemma_SFML1, y_train_num, cv=10)\n",
        "print(scores.mean())\n",
        "\n",
        "model = LogisticRegression()\n",
        "scores = cross_val_score(model, vectors_train_stem_SFML1, y_train_num, cv=10)\n",
        "print(scores.mean())\n",
        "\n",
        "model = LogisticRegression()\n",
        "scores = cross_val_score(model, vectors_train_Lemma_SFMtree, y_train_num, cv=10)\n",
        "print(scores.mean())\n",
        "\n",
        "model = LogisticRegression()\n",
        "scores = cross_val_score(model, vectors_train_stem_SFMtree, y_train_num, cv=10)\n",
        "print(scores.mean())"
      ],
      "execution_count": null,
      "outputs": [
        {
          "output_type": "stream",
          "text": [
            "0.9364798994974877\n",
            "0.9354798994974877\n",
            "0.9289748743718593\n",
            "0.9289723618090452\n",
            "0.9374773869346734\n",
            "0.9309748743718593\n",
            "0.9329723618090451\n",
            "0.927467336683417\n",
            "0.9079522613065327\n",
            "0.9109572864321608\n",
            "0.8764422110552765\n",
            "0.8764422110552765\n",
            "0.9274698492462312\n",
            "0.9264698492462312\n",
            "0.9304723618090451\n",
            "0.926469849246231\n"
          ],
          "name": "stdout"
        }
      ]
    },
    {
      "cell_type": "code",
      "metadata": {
        "id": "Xreyyyy0fa3-",
        "colab": {
          "base_uri": "https://localhost:8080/"
        },
        "outputId": "46d5a303-9ebe-4f51-9b32-d10eded9ab5f"
      },
      "source": [
        "model = MultinomialNB()\n",
        "scores = cross_val_score(model, vectors_train_Lemma_X2, y_train_num, cv=10)\n",
        "print(scores.mean())\n",
        "\n",
        "model = MultinomialNB()\n",
        "scores = cross_val_score(model, vectors_train_stem_X2, y_train_num, cv=10)\n",
        "print(scores.mean())\n",
        "\n",
        "model = MultinomialNB()\n",
        "scores = cross_val_score(model, vectors_train_Lemma_mutual, y_train_num, cv=10)\n",
        "print(scores.mean())\n",
        "\n",
        "model = MultinomialNB()\n",
        "scores = cross_val_score(model, vectors_train_stem_mutual, y_train_num, cv=10)\n",
        "print(scores.mean())\n",
        "\n",
        "model = MultinomialNB()\n",
        "scores = cross_val_score(model, vectors_train_Lemma_F, y_train_num, cv=10)\n",
        "print(scores.mean())\n",
        "\n",
        "model = MultinomialNB()\n",
        "scores = cross_val_score(model, vectors_train_stem_F, y_train_num, cv=10)\n",
        "print(scores.mean())\n",
        "\n",
        "model = MultinomialNB()\n",
        "scores = cross_val_score(model, vectors_train_Lemma_FPR, y_train_num, cv=10)\n",
        "print(scores.mean())\n",
        "\n",
        "model = MultinomialNB()\n",
        "scores = cross_val_score(model, vectors_train_stem_FPR, y_train_num, cv=10)\n",
        "print(scores.mean())\n",
        "\n",
        "model = MultinomialNB()\n",
        "scores = cross_val_score(model, vectors_train_Lemma_FDR, y_train_num, cv=10)\n",
        "print(scores.mean())\n",
        "\n",
        "model = MultinomialNB()\n",
        "scores = cross_val_score(model, vectors_train_stem_FDR, y_train_num, cv=10)\n",
        "print(scores.mean())\n",
        "\n",
        "model = MultinomialNB()\n",
        "scores = cross_val_score(model, vectors_train_Lemma_FWE, y_train_num, cv=10)\n",
        "print(scores.mean())\n",
        "\n",
        "model = MultinomialNB()\n",
        "scores = cross_val_score(model, vectors_train_stem_FWE, y_train_num, cv=10)\n",
        "print(scores.mean())\n",
        "\n",
        "model = MultinomialNB()\n",
        "scores = cross_val_score(model, vectors_train_Lemma_SFML1, y_train_num, cv=10)\n",
        "print(scores.mean())\n",
        "\n",
        "model = MultinomialNB()\n",
        "scores = cross_val_score(model, vectors_train_stem_SFML1, y_train_num, cv=10)\n",
        "print(scores.mean())\n",
        "\n",
        "model = MultinomialNB()\n",
        "scores = cross_val_score(model, vectors_train_Lemma_SFMtree, y_train_num, cv=10)\n",
        "print(scores.mean())\n",
        "\n",
        "model = MultinomialNB()\n",
        "scores = cross_val_score(model, vectors_train_stem_SFMtree, y_train_num, cv=10)\n",
        "print(scores.mean())"
      ],
      "execution_count": null,
      "outputs": [
        {
          "output_type": "stream",
          "text": [
            "0.9179673366834171\n",
            "0.9209648241206029\n",
            "0.9164673366834171\n",
            "0.9144648241206029\n",
            "0.9329723618090451\n",
            "0.928967336683417\n",
            "0.9159698492462311\n",
            "0.9214623115577888\n",
            "0.8879497487437185\n",
            "0.8814522613065326\n",
            "0.839929648241206\n",
            "0.839929648241206\n",
            "0.926469849246231\n",
            "0.9324673366834171\n",
            "0.9229698492462312\n",
            "0.9234648241206029\n"
          ],
          "name": "stdout"
        }
      ]
    },
    {
      "cell_type": "markdown",
      "metadata": {
        "id": "Sq5zBLuWWSQH"
      },
      "source": [
        "### Grid search\n",
        "The best features:\n",
        "\n",
        "vectors_train_Lemma_X2\n",
        "\n",
        "vectors_train_Lemma_F\n",
        "\n",
        "vectors_train_Lemma_SFML1"
      ]
    },
    {
      "cell_type": "markdown",
      "metadata": {
        "id": "QrmAJbRtXGNC"
      },
      "source": [
        "#### vectors_train_Lemma_X2\n",
        "Best models: LinearSVM, MultiNB, BernouliNB"
      ]
    },
    {
      "cell_type": "code",
      "metadata": {
        "id": "XB20XzS3FqBL"
      },
      "source": [
        "from sklearn.model_selection import GridSearchCV"
      ],
      "execution_count": null,
      "outputs": []
    },
    {
      "cell_type": "code",
      "metadata": {
        "colab": {
          "base_uri": "https://localhost:8080/"
        },
        "id": "6IzciLosEMMi",
        "outputId": "009a4511-3ac7-4266-9278-f491f7b39bd6"
      },
      "source": [
        "model = LinearSVC()\n",
        "parameters = {\n",
        "    'C': (0.01, 0.1, 1, 10, 100, 1000)\n",
        "}\n",
        "gs_model = GridSearchCV(model, parameters, cv=10, n_jobs=-1)\n",
        "gs_model = gs_model.fit(vectors_train_Lemma_X2, y_train_num)\n",
        "print(gs_model.best_score_)\n",
        "for param_name in sorted(parameters.keys()):\n",
        "    print(\"%s: %r\" % (param_name, gs_model.best_params_[param_name]))"
      ],
      "execution_count": null,
      "outputs": [
        {
          "output_type": "stream",
          "text": [
            "0.9459798994974875\n",
            "C: 1\n"
          ],
          "name": "stdout"
        }
      ]
    },
    {
      "cell_type": "code",
      "metadata": {
        "colab": {
          "base_uri": "https://localhost:8080/"
        },
        "id": "lZxIyqcWQC6u",
        "outputId": "91c67e44-2b55-47b6-ee9c-bbb8b0113a45"
      },
      "source": [
        "model = MultinomialNB()\n",
        "parameters = {\n",
        "    'alpha': (1e-10, 1e-5, 0.1, 0.5, 1, 2), \n",
        "}\n",
        "gs_model = GridSearchCV(model, parameters, cv=10, n_jobs=-1)\n",
        "gs_model = gs_model.fit(vectors_train_Lemma_X2, y_train_num)\n",
        "print(gs_model.best_score_)\n",
        "for param_name in sorted(parameters.keys()):\n",
        "    print(\"%s: %r\" % (param_name, gs_model.best_params_[param_name]))"
      ],
      "execution_count": null,
      "outputs": [
        {
          "output_type": "stream",
          "text": [
            "0.9554849246231155\n",
            "alpha: 1e-10\n"
          ],
          "name": "stdout"
        }
      ]
    },
    {
      "cell_type": "code",
      "metadata": {
        "colab": {
          "base_uri": "https://localhost:8080/"
        },
        "id": "o6eUbXm6QHID",
        "outputId": "bad67195-46d0-4695-9b60-eeca98628fa8"
      },
      "source": [
        "model = BernoulliNB()\n",
        "parameters = {\n",
        "    'alpha': (1e-10, 1e-5, 0.1, 0.5, 1, 2)\n",
        "}\n",
        "gs_model = GridSearchCV(model, parameters, cv=10, n_jobs=-1)\n",
        "gs_model = gs_model.fit(vectors_train_Lemma_X2, y_train_num)\n",
        "print(gs_model.best_score_)\n",
        "for param_name in sorted(parameters.keys()):\n",
        "    print(\"%s: %r\" % (param_name, gs_model.best_params_[param_name]))"
      ],
      "execution_count": null,
      "outputs": [
        {
          "output_type": "stream",
          "text": [
            "0.9469773869346734\n",
            "alpha: 1e-10\n"
          ],
          "name": "stdout"
        }
      ]
    },
    {
      "cell_type": "markdown",
      "metadata": {
        "id": "hQn11XdNXc89"
      },
      "source": [
        "#### vectors_train_Lemma_F\n",
        "Best model: MultiNB, LinearSVM, BernouliNB"
      ]
    },
    {
      "cell_type": "code",
      "metadata": {
        "id": "IzPswnO0XrO_"
      },
      "source": [
        "from sklearn.model_selection import GridSearchCV"
      ],
      "execution_count": null,
      "outputs": []
    },
    {
      "cell_type": "code",
      "metadata": {
        "colab": {
          "base_uri": "https://localhost:8080/"
        },
        "id": "1mqy1F4cXrPL",
        "outputId": "5bfad9f3-bbda-4efb-94a0-83baea4ab90b"
      },
      "source": [
        "model = LinearSVC()\n",
        "parameters = {\n",
        "    'C': (0.01, 0.1, 1, 10, 100, 1000)\n",
        "}\n",
        "gs_model = GridSearchCV(model, parameters, cv=10, n_jobs=-1)\n",
        "gs_model = gs_model.fit(vectors_train_Lemma_F, y_train_num)\n",
        "print(gs_model.best_score_)\n",
        "for param_name in sorted(parameters.keys()):\n",
        "    print(\"%s: %r\" % (param_name, gs_model.best_params_[param_name]))"
      ],
      "execution_count": null,
      "outputs": [
        {
          "output_type": "stream",
          "text": [
            "0.9469748743718593\n",
            "C: 1\n"
          ],
          "name": "stdout"
        }
      ]
    },
    {
      "cell_type": "code",
      "metadata": {
        "colab": {
          "base_uri": "https://localhost:8080/"
        },
        "id": "tYZmNzgMXrPN",
        "outputId": "2992cf18-1a92-4b49-a14b-fb48dacd402c"
      },
      "source": [
        "model = MultinomialNB()\n",
        "parameters = {\n",
        "    'alpha': (1e-10, 1e-5, 0.1, 0.5, 1, 2), \n",
        "}\n",
        "gs_model = GridSearchCV(model, parameters, cv=10, n_jobs=-1)\n",
        "gs_model = gs_model.fit(vectors_train_Lemma_F, y_train_num)\n",
        "print(gs_model.best_score_)\n",
        "for param_name in sorted(parameters.keys()):\n",
        "    print(\"%s: %r\" % (param_name, gs_model.best_params_[param_name]))"
      ],
      "execution_count": null,
      "outputs": [
        {
          "output_type": "stream",
          "text": [
            "0.9639874371859296\n",
            "alpha: 1e-05\n"
          ],
          "name": "stdout"
        }
      ]
    },
    {
      "cell_type": "code",
      "metadata": {
        "colab": {
          "base_uri": "https://localhost:8080/"
        },
        "id": "m1zYdzDxXrPO",
        "outputId": "85b884b3-0049-4f8e-8811-fcfbcd4fb05e"
      },
      "source": [
        "model = BernoulliNB()\n",
        "parameters = {\n",
        "    'alpha': (1e-10, 1e-5, 0.1, 0.5, 1, 2)\n",
        "}\n",
        "gs_model = GridSearchCV(model, parameters, cv=10, n_jobs=-1)\n",
        "gs_model = gs_model.fit(vectors_train_Lemma_F, y_train_num)\n",
        "print(gs_model.best_score_)\n",
        "for param_name in sorted(parameters.keys()):\n",
        "    print(\"%s: %r\" % (param_name, gs_model.best_params_[param_name]))"
      ],
      "execution_count": null,
      "outputs": [
        {
          "output_type": "stream",
          "text": [
            "0.9594824120603015\n",
            "alpha: 1e-10\n"
          ],
          "name": "stdout"
        }
      ]
    },
    {
      "cell_type": "markdown",
      "metadata": {
        "id": "q4zY3GidX5ak"
      },
      "source": [
        "#### vectors_train_Lemma_SFML1\n",
        "Best model: MultiNB, LinearSVM, BernouliNB"
      ]
    },
    {
      "cell_type": "code",
      "metadata": {
        "id": "0v2HbixzX8GN"
      },
      "source": [
        "from sklearn.model_selection import GridSearchCV"
      ],
      "execution_count": null,
      "outputs": []
    },
    {
      "cell_type": "code",
      "metadata": {
        "colab": {
          "base_uri": "https://localhost:8080/"
        },
        "id": "NjO6eBlQX8GY",
        "outputId": "58800e3b-7307-40fb-96bc-b13ae296c84e"
      },
      "source": [
        "model = LinearSVC()\n",
        "parameters = {\n",
        "    'C': (0.01, 0.1, 1, 10, 100, 1000)\n",
        "}\n",
        "gs_model = GridSearchCV(model, parameters, cv=10, n_jobs=-1)\n",
        "gs_model = gs_model.fit(vectors_train_Lemma_SFML1, y_train_num)\n",
        "print(gs_model.best_score_)\n",
        "for param_name in sorted(parameters.keys()):\n",
        "    print(\"%s: %r\" % (param_name, gs_model.best_params_[param_name]))"
      ],
      "execution_count": null,
      "outputs": [
        {
          "output_type": "stream",
          "text": [
            "0.9594874371859297\n",
            "C: 10\n"
          ],
          "name": "stdout"
        }
      ]
    },
    {
      "cell_type": "code",
      "metadata": {
        "colab": {
          "base_uri": "https://localhost:8080/"
        },
        "id": "-TjSc2XjX8Gb",
        "outputId": "488d4d01-bf36-417f-951c-b4e1497db209"
      },
      "source": [
        "model = MultinomialNB()\n",
        "parameters = {\n",
        "    'alpha': (1e-10, 1e-5, 0.1, 0.5, 1, 2), \n",
        "}\n",
        "gs_model = GridSearchCV(model, parameters, cv=10, n_jobs=-1)\n",
        "gs_model = gs_model.fit(vectors_train_Lemma_SFML1, y_train_num)\n",
        "print(gs_model.best_score_)\n",
        "for param_name in sorted(parameters.keys()):\n",
        "    print(\"%s: %r\" % (param_name, gs_model.best_params_[param_name]))"
      ],
      "execution_count": null,
      "outputs": [
        {
          "output_type": "stream",
          "text": [
            "0.9439773869346734\n",
            "alpha: 0.1\n"
          ],
          "name": "stdout"
        }
      ]
    },
    {
      "cell_type": "code",
      "metadata": {
        "colab": {
          "base_uri": "https://localhost:8080/"
        },
        "id": "TEHjQk3iX8Gb",
        "outputId": "2e2b7e6a-5024-496f-acf8-16d95b1a3176"
      },
      "source": [
        "model = BernoulliNB()\n",
        "parameters = {\n",
        "    'alpha': (1e-10, 1e-5, 0.1, 0.5, 1, 2)\n",
        "}\n",
        "gs_model = GridSearchCV(model, parameters, cv=10, n_jobs=-1)\n",
        "gs_model = gs_model.fit(vectors_train_Lemma_SFML1, y_train_num)\n",
        "print(gs_model.best_score_)\n",
        "for param_name in sorted(parameters.keys()):\n",
        "    print(\"%s: %r\" % (param_name, gs_model.best_params_[param_name]))"
      ],
      "execution_count": null,
      "outputs": [
        {
          "output_type": "stream",
          "text": [
            "0.9519874371859297\n",
            "alpha: 0.1\n"
          ],
          "name": "stdout"
        }
      ]
    },
    {
      "cell_type": "markdown",
      "metadata": {
        "id": "bBZ16L91cGK7"
      },
      "source": [
        "### Best model: LinearSVM on vectors_train_Lemma_SFML1"
      ]
    },
    {
      "cell_type": "code",
      "metadata": {
        "id": "0qVb0ydkdAS3"
      },
      "source": [
        "from sklearn.model_selection import cross_val_score"
      ],
      "execution_count": null,
      "outputs": []
    },
    {
      "cell_type": "code",
      "metadata": {
        "id": "4z3MyfeQVs7o",
        "colab": {
          "base_uri": "https://localhost:8080/"
        },
        "outputId": "3854f5db-7c2c-4002-b3ec-dba902a8c0c5"
      },
      "source": [
        "model = LinearSVC(C=10)\n",
        "model.fit(vectors_train_Lemma_SFML1, y_train_num)\n",
        "cross_val_score(model, vectors_train_Lemma_SFML1, y_train_num, cv=10)"
      ],
      "execution_count": null,
      "outputs": [
        {
          "output_type": "execute_result",
          "data": {
            "text/plain": [
              "array([0.94      , 0.97      , 0.96      , 0.955     , 0.945     ,\n",
              "       0.96      , 0.985     , 0.955     , 0.95      , 0.97487437])"
            ]
          },
          "metadata": {
            "tags": []
          },
          "execution_count": 74
        }
      ]
    },
    {
      "cell_type": "code",
      "metadata": {
        "id": "-IFZ5fY6V_Ca"
      },
      "source": [
        "model = LinearSVC(C=10)\n",
        "model.fit(vectors_train_Lemma_SFML1, y_train_num)\n",
        "y_pred = model.predict(vectors_test_Lemma_SFML1)\n",
        "y_pred = le.inverse_transform(y_pred)"
      ],
      "execution_count": null,
      "outputs": []
    },
    {
      "cell_type": "markdown",
      "metadata": {
        "id": "Tz9rCLvRkKDB"
      },
      "source": [
        "#### Write results to CSV"
      ]
    },
    {
      "cell_type": "code",
      "metadata": {
        "id": "sYiVSRFSiKw-"
      },
      "source": [
        "result = pd.DataFrame({'id': test.id, 'subreddit': y_pred})\n",
        "result.to_csv(\"result.csv\", index=False)"
      ],
      "execution_count": null,
      "outputs": []
    },
    {
      "cell_type": "code",
      "metadata": {
        "id": "rfs8FKWxWIbM",
        "colab": {
          "base_uri": "https://localhost:8080/",
          "height": 204
        },
        "outputId": "271d8910-4903-433e-9682-337ccd311e85"
      },
      "source": [
        "pred_csv = pd.read_csv('result.csv',engine='python')\n",
        "pred_csv.head()"
      ],
      "execution_count": null,
      "outputs": [
        {
          "output_type": "execute_result",
          "data": {
            "text/html": [
              "<div>\n",
              "<style scoped>\n",
              "    .dataframe tbody tr th:only-of-type {\n",
              "        vertical-align: middle;\n",
              "    }\n",
              "\n",
              "    .dataframe tbody tr th {\n",
              "        vertical-align: top;\n",
              "    }\n",
              "\n",
              "    .dataframe thead th {\n",
              "        text-align: right;\n",
              "    }\n",
              "</style>\n",
              "<table border=\"1\" class=\"dataframe\">\n",
              "  <thead>\n",
              "    <tr style=\"text-align: right;\">\n",
              "      <th></th>\n",
              "      <th>id</th>\n",
              "      <th>subreddit</th>\n",
              "    </tr>\n",
              "  </thead>\n",
              "  <tbody>\n",
              "    <tr>\n",
              "      <th>0</th>\n",
              "      <td>0</td>\n",
              "      <td>science</td>\n",
              "    </tr>\n",
              "    <tr>\n",
              "      <th>1</th>\n",
              "      <td>1</td>\n",
              "      <td>science</td>\n",
              "    </tr>\n",
              "    <tr>\n",
              "      <th>2</th>\n",
              "      <td>2</td>\n",
              "      <td>anime</td>\n",
              "    </tr>\n",
              "    <tr>\n",
              "      <th>3</th>\n",
              "      <td>3</td>\n",
              "      <td>science</td>\n",
              "    </tr>\n",
              "    <tr>\n",
              "      <th>4</th>\n",
              "      <td>4</td>\n",
              "      <td>science</td>\n",
              "    </tr>\n",
              "  </tbody>\n",
              "</table>\n",
              "</div>"
            ],
            "text/plain": [
              "   id subreddit\n",
              "0   0   science\n",
              "1   1   science\n",
              "2   2     anime\n",
              "3   3   science\n",
              "4   4   science"
            ]
          },
          "metadata": {
            "tags": []
          },
          "execution_count": 77
        }
      ]
    },
    {
      "cell_type": "markdown",
      "metadata": {
        "id": "Xv-LNm10CaLk"
      },
      "source": [
        "### Second Best model: MultiNB on vectors_train_Lemma_F"
      ]
    },
    {
      "cell_type": "code",
      "metadata": {
        "id": "9uK_TB7_CaLo"
      },
      "source": [
        "from sklearn.model_selection import cross_val_score"
      ],
      "execution_count": null,
      "outputs": []
    },
    {
      "cell_type": "code",
      "metadata": {
        "colab": {
          "base_uri": "https://localhost:8080/"
        },
        "id": "QwCBQu6CCaLp",
        "outputId": "b070ac8e-5438-494e-a1b2-49d85d1040b1"
      },
      "source": [
        "model = MultinomialNB(alpha=1e-5)\n",
        "# model.fit(vectors_train_Lemma_F, y_train_num)\n",
        "cross_val_score(model, vectors_train_Lemma_F, y_train_num, cv=10)"
      ],
      "execution_count": null,
      "outputs": [
        {
          "output_type": "execute_result",
          "data": {
            "text/plain": [
              "array([0.96      , 0.985     , 0.95      , 0.975     , 0.94      ,\n",
              "       0.965     , 0.98      , 0.955     , 0.955     , 0.97487437])"
            ]
          },
          "metadata": {
            "tags": []
          },
          "execution_count": 78
        }
      ]
    },
    {
      "cell_type": "code",
      "metadata": {
        "id": "7vCDdoN6CaLq"
      },
      "source": [
        "model = MultinomialNB(alpha=1e-5)\n",
        "model.fit(vectors_train_Lemma_F, y_train_num)\n",
        "y_pred = model.predict(vectors_test_Lemma_F)\n",
        "y_pred = le.inverse_transform(y_pred)"
      ],
      "execution_count": null,
      "outputs": []
    },
    {
      "cell_type": "markdown",
      "metadata": {
        "id": "acrbVwmaCaLq"
      },
      "source": [
        "#### Write results to CSV"
      ]
    },
    {
      "cell_type": "code",
      "metadata": {
        "id": "dcAJg9XFCaLr"
      },
      "source": [
        "result = pd.DataFrame({'id': test.id, 'subreddit': y_pred})\n",
        "result.to_csv(\"result.csv\", index=False)"
      ],
      "execution_count": null,
      "outputs": []
    },
    {
      "cell_type": "code",
      "metadata": {
        "colab": {
          "base_uri": "https://localhost:8080/",
          "height": 204
        },
        "id": "FA1Jr0nrCaLs",
        "outputId": "ed988845-1c55-48a4-ca49-018b47980825"
      },
      "source": [
        "pred_csv = pd.read_csv('result.csv',engine='python')\n",
        "pred_csv.head()"
      ],
      "execution_count": null,
      "outputs": [
        {
          "output_type": "execute_result",
          "data": {
            "text/html": [
              "<div>\n",
              "<style scoped>\n",
              "    .dataframe tbody tr th:only-of-type {\n",
              "        vertical-align: middle;\n",
              "    }\n",
              "\n",
              "    .dataframe tbody tr th {\n",
              "        vertical-align: top;\n",
              "    }\n",
              "\n",
              "    .dataframe thead th {\n",
              "        text-align: right;\n",
              "    }\n",
              "</style>\n",
              "<table border=\"1\" class=\"dataframe\">\n",
              "  <thead>\n",
              "    <tr style=\"text-align: right;\">\n",
              "      <th></th>\n",
              "      <th>id</th>\n",
              "      <th>subreddit</th>\n",
              "    </tr>\n",
              "  </thead>\n",
              "  <tbody>\n",
              "    <tr>\n",
              "      <th>0</th>\n",
              "      <td>0</td>\n",
              "      <td>science</td>\n",
              "    </tr>\n",
              "    <tr>\n",
              "      <th>1</th>\n",
              "      <td>1</td>\n",
              "      <td>science</td>\n",
              "    </tr>\n",
              "    <tr>\n",
              "      <th>2</th>\n",
              "      <td>2</td>\n",
              "      <td>laptop</td>\n",
              "    </tr>\n",
              "    <tr>\n",
              "      <th>3</th>\n",
              "      <td>3</td>\n",
              "      <td>science</td>\n",
              "    </tr>\n",
              "    <tr>\n",
              "      <th>4</th>\n",
              "      <td>4</td>\n",
              "      <td>science</td>\n",
              "    </tr>\n",
              "  </tbody>\n",
              "</table>\n",
              "</div>"
            ],
            "text/plain": [
              "   id subreddit\n",
              "0   0   science\n",
              "1   1   science\n",
              "2   2    laptop\n",
              "3   3   science\n",
              "4   4   science"
            ]
          },
          "metadata": {
            "tags": []
          },
          "execution_count": 81
        }
      ]
    }
  ]
}